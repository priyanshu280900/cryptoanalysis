{
  "nbformat": 4,
  "nbformat_minor": 0,
  "metadata": {
    "colab": {
      "name": "Caesar and Modified Ciphers.ipynb",
      "provenance": [],
      "collapsed_sections": [
        "XDqOC1YPsPc9"
      ]
    },
    "kernelspec": {
      "name": "python3",
      "display_name": "Python 3"
    },
    "accelerator": "GPU"
  },
  "cells": [
    {
      "cell_type": "markdown",
      "metadata": {
        "id": "view-in-github"
      },
      "source": [
        "<a href=\"https://colab.research.google.com/github/ChristeenTJose/AI-vs.-Cryptography/blob/master/AI_vs_Cryptography.ipynb\" target=\"_parent\"><img src=\"https://colab.research.google.com/assets/colab-badge.svg\" alt=\"Open In Colab\"/></a>"
      ]
    },
    {
      "cell_type": "markdown",
      "metadata": {
        "id": "slptdE5rZGMI"
      },
      "source": [
        "# Import required libraries"
      ]
    },
    {
      "cell_type": "code",
      "metadata": {
        "id": "ULphdRRzZDit"
      },
      "source": [
        "import random\n",
        "import pandas as pd\n",
        "from sklearn.preprocessing import LabelEncoder, OneHotEncoder\n",
        "import matplotlib.pyplot as plt\n",
        "import numpy as np\n",
        "import datetime"
      ],
      "execution_count": 133,
      "outputs": []
    },
    {
      "cell_type": "code",
      "metadata": {
        "id": "8F7ShoG0dRGl"
      },
      "source": [
        "import tensorflow as tf\n",
        "from tensorflow.keras import datasets, layers, models"
      ],
      "execution_count": 134,
      "outputs": []
    },
    {
      "cell_type": "markdown",
      "metadata": {
        "id": "kVQMYsNg6IDQ"
      },
      "source": [
        "# cryptography"
      ]
    },
    {
      "cell_type": "code",
      "metadata": {
        "id": "5o_6LZ4R6JWv",
        "colab": {
          "base_uri": "https://localhost:8080/"
        },
        "outputId": "de2102d0-b18d-4cc4-cfe4-86d57d42bab7"
      },
      "source": [
        "def CaesarCipher_characterset():\n",
        "\treturn 'ABCDEFGHIJKLMNOPQRSTUVWXYZ'\n",
        "def CaesarCipher_get_dict():\n",
        "\tx=CaesarCipher_characterset()\n",
        "\ty=range(len(x))\n",
        "\treturn dict(zip(x,y)),dict(zip(y,x))\n",
        "def p_characterset():\n",
        "\treturn 'ABCDEFGHIJKLMNOPQRSTUVWXYZ'\n",
        "def p_get_dict():\n",
        "\tx=p_characterset()\n",
        "\ty=range(len(x))\n",
        "\treturn dict(zip(x,y)),dict(zip(y,x))\n",
        "def CaesarCipher_encryption(plaintext,key):\n",
        "\tC2I,I2C=CaesarCipher_get_dict()\n",
        "\t#INPUTS\n",
        "\tplaintext=plaintext.upper()\n",
        "\tkey=int(key)\n",
        "\t#CEASAR CIPHER\n",
        "\tciphertext=[]\n",
        "\tfor word in plaintext.split(' '):\n",
        "\t\tciphertext.append(''.join([I2C[(C2I[i]+key)%26] for i in word]))\n",
        "\tciphertext=' '.join(ciphertext)\n",
        "\t#OUTPUTS\n",
        "\t#print('\\n\\n\\t\\tPlaintext:  ',plaintext)\n",
        "\t#print('\\n\\n\\t\\tCiphertext: ',ciphertext)\n",
        "\treturn ciphertext\n",
        "\n",
        "def CaesarCipher_decryption(ciphertext,key):\n",
        "\tC2I,I2C=CaesarCipher_get_dict()\n",
        "\t#INPUTS\n",
        "\tciphertext=ciphertext.upper()\n",
        "\tkey=int(key)\n",
        "\t#CEASAR CIPHER\n",
        "\tplaintext=[]\n",
        "\tfor word in ciphertext.split(' '):\n",
        "\t\tplaintext.append(''.join([I2C[(C2I[i]-key)%26] for i in word]))\n",
        "\tplaintext=' '.join(plaintext)\n",
        "\t#OUTPUTS\n",
        "\t#print('\\n\\n\\t\\tCiphertext: ',ciphertext)\n",
        "\t#print('\\n\\n\\t\\tPlaintext:  ',plaintext)\n",
        "\treturn plaintext\n",
        "\n",
        "def p_encryption(plaintext,key,key2):\n",
        "\tkey2=int(key2)\n",
        "\tC2I,I2C=p_get_dict()\n",
        "\t#INPUTS\n",
        "\tplaintext=plaintext.upper()\n",
        "\tkey=int(key)\n",
        "\t#P CIPHER\n",
        "\tciphertext=[]\n",
        "\tfor word in plaintext.split(' '):\n",
        "\t\tciphertext.append(''.join([I2C[(C2I[i]+key+key2)%26] for i in word]))\n",
        "\tciphertext=' '.join(ciphertext)\n",
        "\t#OUTPUTS\n",
        "\t#print('\\n\\n\\t\\tPlaintext:  ',plaintext)\n",
        "\t#print('\\n\\n\\t\\tCiphertext: ',ciphertext)\n",
        "\treturn ciphertext\n",
        "\t\n",
        "def p_decryption(ciphertext,key,key2):\n",
        "\tkey2=int(key2)\n",
        "\tC2I,I2C=p_get_dict()\n",
        "\t#INPUTS\n",
        "\tciphertext=ciphertext.upper()\n",
        "\tkey=int(key)\n",
        "\t#P CIPHER\n",
        "\tplaintext=[]\n",
        "\tfor word in ciphertext.split(' '):\n",
        "\t\tplaintext.append(''.join([I2C[(C2I[i]-key-key2)%26] for i in word]))\n",
        "\tplaintext=' '.join(plaintext)\n",
        "\t#OUTPUTS\n",
        "\t#print('\\n\\n\\t\\tCiphertext: ',ciphertext)\n",
        "\t#print('\\n\\n\\t\\tPlaintext:  ',plaintext)\n",
        "\treturn plaintext\n",
        "\n",
        "if __name__==\"__main__\":\n",
        "\tkey=25\n",
        "\tkey2=12\n",
        "\tprint(p_decryption(p_encryption(\"pRIYANSHU\",key,key2),key,key2))\n",
        "\tprint(CaesarCipher_decryption(CaesarCipher_encryption(\"pRIYANSHU\",key),key))\n",
        " \n",
        " \n"
      ],
      "execution_count": 183,
      "outputs": [
        {
          "output_type": "stream",
          "name": "stdout",
          "text": [
            "PRIYANSHU\n",
            "PRIYANSHU\n"
          ]
        }
      ]
    },
    {
      "cell_type": "markdown",
      "metadata": {
        "id": "XDqOC1YPsPc9"
      },
      "source": [
        "# Caesar Cipher"
      ]
    },
    {
      "cell_type": "markdown",
      "metadata": {
        "id": "PLWXppeBGqn3"
      },
      "source": [
        "## Known-Plaintext Attack"
      ]
    },
    {
      "cell_type": "markdown",
      "metadata": {
        "id": "VkVz4O0XHchW"
      },
      "source": [
        "### Fixed Key"
      ]
    },
    {
      "cell_type": "code",
      "metadata": {
        "id": "8j_Of2MB3IUI"
      },
      "source": [
        "KEY=23"
      ],
      "execution_count": 136,
      "outputs": []
    },
    {
      "cell_type": "markdown",
      "metadata": {
        "id": "2qbHOIYVIcVQ"
      },
      "source": [
        "### Password Size"
      ]
    },
    {
      "cell_type": "code",
      "metadata": {
        "id": "d1LM9ErHIll9"
      },
      "source": [
        "PASSWORD_SIZE=8"
      ],
      "execution_count": 137,
      "outputs": []
    },
    {
      "cell_type": "markdown",
      "metadata": {
        "id": "XbtxwBwQIhGJ"
      },
      "source": [
        "### Dataset Size"
      ]
    },
    {
      "cell_type": "code",
      "metadata": {
        "id": "QJUlD688IvUD"
      },
      "source": [
        "DATASET_SIZE=50"
      ],
      "execution_count": 138,
      "outputs": []
    },
    {
      "cell_type": "markdown",
      "metadata": {
        "id": "Fvwi7iKxHydK"
      },
      "source": [
        "### Generation of Dataset"
      ]
    },
    {
      "cell_type": "code",
      "metadata": {
        "id": "IgoZawwY1KwZ",
        "colab": {
          "base_uri": "https://localhost:8080/",
          "height": 35
        },
        "outputId": "d4551e3a-83a1-41fd-80a4-1903468208c3"
      },
      "source": [
        "CHOICES=CaesarCipher_characterset()\n",
        "CHOICES"
      ],
      "execution_count": 139,
      "outputs": [
        {
          "output_type": "execute_result",
          "data": {
            "application/vnd.google.colaboratory.intrinsic+json": {
              "type": "string"
            },
            "text/plain": [
              "'ABCDEFGHIJKLMNOPQRSTUVWXYZ'"
            ]
          },
          "metadata": {},
          "execution_count": 139
        }
      ]
    },
    {
      "cell_type": "code",
      "metadata": {
        "id": "-PSNMcgN2R7p",
        "colab": {
          "base_uri": "https://localhost:8080/"
        },
        "outputId": "a5586a95-0346-42ab-beb1-441e039e3370"
      },
      "source": [
        "x=[]\n",
        "y=[]\n",
        "for i in range(DATASET_SIZE):\n",
        "  temp=''\n",
        "  for j in range(PASSWORD_SIZE):\n",
        "    temp+=random.choice(CHOICES)\n",
        "  x.append(temp)\n",
        "  y.append(CaesarCipher_encryption(temp,KEY))\n",
        "print(x)\n",
        "print(y)"
      ],
      "execution_count": 141,
      "outputs": [
        {
          "output_type": "stream",
          "name": "stdout",
          "text": [
            "['HQFZQQGR', 'AJIHPKOF', 'ODHOIJVJ', 'HQSBGXTR', 'ULDTSAQT', 'VVTHOOWZ', 'EUTOZNHE', 'TVMFHMPP', 'NPTKDWNO', 'FUPWOWIT', 'ETUXAOXF', 'AUVHTPZC', 'FSYDKUTM', 'RSDXIQCI', 'CPMJNMXU', 'YEBQZTDR', 'DZDEHUKV', 'JLEGSLRK', 'TADZEHMF', 'WSOFLLLU', 'VXBLCCOG', 'PVJOZKCP', 'ICBNHVXM', 'RDMYHNGG', 'HASOXDEX', 'XCUCAZVZ', 'GZFPIHOI', 'TMTHYWRT', 'JDSJEIFQ', 'LVPYQBPK', 'RUIYFCJF', 'RPZNRLVG', 'CKBUDYMT', 'SBBMYKXR', 'QCOGZRDQ', 'GNGGRONO', 'TVFCONFA', 'WZLDRHNN', 'IMKAWYBQ', 'IZJWODGM', 'TOBBRPWM', 'VUKISREQ', 'LHNWGUBQ', 'GUXRUPVJ', 'NVXCAINU', 'GBYMLSAQ', 'MPNSYOXT', 'PHLNUDHD', 'IVBGKYKI', 'VBNARZRQ']\n",
            "['ENCWNNDO', 'XGFEMHLC', 'LAELFGSG', 'ENPYDUQO', 'RIAQPXNQ', 'SSQELLTW', 'BRQLWKEB', 'QSJCEJMM', 'KMQHATKL', 'CRMTLTFQ', 'BQRUXLUC', 'XRSEQMWZ', 'CPVAHRQJ', 'OPAUFNZF', 'ZMJGKJUR', 'VBYNWQAO', 'AWABERHS', 'GIBDPIOH', 'QXAWBEJC', 'TPLCIIIR', 'SUYIZZLD', 'MSGLWHZM', 'FZYKESUJ', 'OAJVEKDD', 'EXPLUABU', 'UZRZXWSW', 'DWCMFELF', 'QJQEVTOQ', 'GAPGBFCN', 'ISMVNYMH', 'ORFVCZGC', 'OMWKOISD', 'ZHYRAVJQ', 'PYYJVHUO', 'NZLDWOAN', 'DKDDOLKL', 'QSCZLKCX', 'TWIAOEKK', 'FJHXTVYN', 'FWGTLADJ', 'QLYYOMTJ', 'SRHFPOBN', 'IEKTDRYN', 'DRUORMSG', 'KSUZXFKR', 'DYVJIPXN', 'JMKPVLUQ', 'MEIKRAEA', 'FSYDHVHF', 'SYKXOWON']\n"
          ]
        }
      ]
    },
    {
      "cell_type": "code",
      "metadata": {
        "id": "pDhXFJcUKEmj",
        "colab": {
          "base_uri": "https://localhost:8080/",
          "height": 520
        },
        "outputId": "c88f8256-49d8-4619-a335-55eccab6ee7e"
      },
      "source": [
        "Data=pd.DataFrame({'Plaintext':x,'Ciphertext':y})\n",
        "Data.head(15)"
      ],
      "execution_count": 140,
      "outputs": [
        {
          "output_type": "execute_result",
          "data": {
            "text/html": [
              "<div>\n",
              "<style scoped>\n",
              "    .dataframe tbody tr th:only-of-type {\n",
              "        vertical-align: middle;\n",
              "    }\n",
              "\n",
              "    .dataframe tbody tr th {\n",
              "        vertical-align: top;\n",
              "    }\n",
              "\n",
              "    .dataframe thead th {\n",
              "        text-align: right;\n",
              "    }\n",
              "</style>\n",
              "<table border=\"1\" class=\"dataframe\">\n",
              "  <thead>\n",
              "    <tr style=\"text-align: right;\">\n",
              "      <th></th>\n",
              "      <th>Plaintext</th>\n",
              "      <th>Ciphertext</th>\n",
              "    </tr>\n",
              "  </thead>\n",
              "  <tbody>\n",
              "    <tr>\n",
              "      <th>0</th>\n",
              "      <td>RQUJQQPG</td>\n",
              "      <td>ONRGNNMD</td>\n",
              "    </tr>\n",
              "    <tr>\n",
              "      <th>1</th>\n",
              "      <td>ZGPJNPMV</td>\n",
              "      <td>WDMGKMJS</td>\n",
              "    </tr>\n",
              "    <tr>\n",
              "      <th>2</th>\n",
              "      <td>UWMOOHIH</td>\n",
              "      <td>RTJLLEFE</td>\n",
              "    </tr>\n",
              "    <tr>\n",
              "      <th>3</th>\n",
              "      <td>SZIJXMSE</td>\n",
              "      <td>PWFGUJPB</td>\n",
              "    </tr>\n",
              "    <tr>\n",
              "      <th>4</th>\n",
              "      <td>EPWFOVGI</td>\n",
              "      <td>BMTCLSDF</td>\n",
              "    </tr>\n",
              "    <tr>\n",
              "      <th>5</th>\n",
              "      <td>BJGTDNJR</td>\n",
              "      <td>YGDQAKGO</td>\n",
              "    </tr>\n",
              "    <tr>\n",
              "      <th>6</th>\n",
              "      <td>RBXHJSBI</td>\n",
              "      <td>OYUEGPYF</td>\n",
              "    </tr>\n",
              "    <tr>\n",
              "      <th>7</th>\n",
              "      <td>XEPBYOIZ</td>\n",
              "      <td>UBMYVLFW</td>\n",
              "    </tr>\n",
              "    <tr>\n",
              "      <th>8</th>\n",
              "      <td>EBTFRCEP</td>\n",
              "      <td>BYQCOZBM</td>\n",
              "    </tr>\n",
              "    <tr>\n",
              "      <th>9</th>\n",
              "      <td>AYMZVSQY</td>\n",
              "      <td>XVJWSPNV</td>\n",
              "    </tr>\n",
              "    <tr>\n",
              "      <th>10</th>\n",
              "      <td>WABPAYPT</td>\n",
              "      <td>TXYMXVMQ</td>\n",
              "    </tr>\n",
              "    <tr>\n",
              "      <th>11</th>\n",
              "      <td>MHVUJQBN</td>\n",
              "      <td>JESRGNYK</td>\n",
              "    </tr>\n",
              "    <tr>\n",
              "      <th>12</th>\n",
              "      <td>EIYEBEVZ</td>\n",
              "      <td>BFVBYBSW</td>\n",
              "    </tr>\n",
              "    <tr>\n",
              "      <th>13</th>\n",
              "      <td>ZHPIBBXO</td>\n",
              "      <td>WEMFYYUL</td>\n",
              "    </tr>\n",
              "    <tr>\n",
              "      <th>14</th>\n",
              "      <td>WHBFEFYB</td>\n",
              "      <td>TEYCBCVY</td>\n",
              "    </tr>\n",
              "  </tbody>\n",
              "</table>\n",
              "</div>"
            ],
            "text/plain": [
              "   Plaintext Ciphertext\n",
              "0   RQUJQQPG   ONRGNNMD\n",
              "1   ZGPJNPMV   WDMGKMJS\n",
              "2   UWMOOHIH   RTJLLEFE\n",
              "3   SZIJXMSE   PWFGUJPB\n",
              "4   EPWFOVGI   BMTCLSDF\n",
              "5   BJGTDNJR   YGDQAKGO\n",
              "6   RBXHJSBI   OYUEGPYF\n",
              "7   XEPBYOIZ   UBMYVLFW\n",
              "8   EBTFRCEP   BYQCOZBM\n",
              "9   AYMZVSQY   XVJWSPNV\n",
              "10  WABPAYPT   TXYMXVMQ\n",
              "11  MHVUJQBN   JESRGNYK\n",
              "12  EIYEBEVZ   BFVBYBSW\n",
              "13  ZHPIBBXO   WEMFYYUL\n",
              "14  WHBFEFYB   TEYCBCVY"
            ]
          },
          "metadata": {},
          "execution_count": 140
        }
      ]
    },
    {
      "cell_type": "markdown",
      "metadata": {
        "id": "Sb1rx_sNW2_Y"
      },
      "source": [
        "### Since Caesar Cipher is a Stream Cipher"
      ]
    },
    {
      "cell_type": "code",
      "metadata": {
        "id": "qvQRLZhmXkhR",
        "colab": {
          "base_uri": "https://localhost:8080/",
          "height": 520
        },
        "outputId": "a8cbc0e6-5715-4a84-f295-d456a013db49"
      },
      "source": [
        "plaintext=[]\n",
        "ciphertext=[]\n",
        "for password in x:\n",
        "  for character in password:\n",
        "    plaintext.append(character)\n",
        "for Encrypted_password in y:\n",
        "  for character in Encrypted_password:\n",
        "    ciphertext.append(character)\n",
        "Data=pd.DataFrame({'Plaintext':plaintext,'Ciphertext':ciphertext})\n",
        "Data.head(15)"
      ],
      "execution_count": 142,
      "outputs": [
        {
          "output_type": "execute_result",
          "data": {
            "text/html": [
              "<div>\n",
              "<style scoped>\n",
              "    .dataframe tbody tr th:only-of-type {\n",
              "        vertical-align: middle;\n",
              "    }\n",
              "\n",
              "    .dataframe tbody tr th {\n",
              "        vertical-align: top;\n",
              "    }\n",
              "\n",
              "    .dataframe thead th {\n",
              "        text-align: right;\n",
              "    }\n",
              "</style>\n",
              "<table border=\"1\" class=\"dataframe\">\n",
              "  <thead>\n",
              "    <tr style=\"text-align: right;\">\n",
              "      <th></th>\n",
              "      <th>Plaintext</th>\n",
              "      <th>Ciphertext</th>\n",
              "    </tr>\n",
              "  </thead>\n",
              "  <tbody>\n",
              "    <tr>\n",
              "      <th>0</th>\n",
              "      <td>H</td>\n",
              "      <td>E</td>\n",
              "    </tr>\n",
              "    <tr>\n",
              "      <th>1</th>\n",
              "      <td>Q</td>\n",
              "      <td>N</td>\n",
              "    </tr>\n",
              "    <tr>\n",
              "      <th>2</th>\n",
              "      <td>F</td>\n",
              "      <td>C</td>\n",
              "    </tr>\n",
              "    <tr>\n",
              "      <th>3</th>\n",
              "      <td>Z</td>\n",
              "      <td>W</td>\n",
              "    </tr>\n",
              "    <tr>\n",
              "      <th>4</th>\n",
              "      <td>Q</td>\n",
              "      <td>N</td>\n",
              "    </tr>\n",
              "    <tr>\n",
              "      <th>5</th>\n",
              "      <td>Q</td>\n",
              "      <td>N</td>\n",
              "    </tr>\n",
              "    <tr>\n",
              "      <th>6</th>\n",
              "      <td>G</td>\n",
              "      <td>D</td>\n",
              "    </tr>\n",
              "    <tr>\n",
              "      <th>7</th>\n",
              "      <td>R</td>\n",
              "      <td>O</td>\n",
              "    </tr>\n",
              "    <tr>\n",
              "      <th>8</th>\n",
              "      <td>A</td>\n",
              "      <td>X</td>\n",
              "    </tr>\n",
              "    <tr>\n",
              "      <th>9</th>\n",
              "      <td>J</td>\n",
              "      <td>G</td>\n",
              "    </tr>\n",
              "    <tr>\n",
              "      <th>10</th>\n",
              "      <td>I</td>\n",
              "      <td>F</td>\n",
              "    </tr>\n",
              "    <tr>\n",
              "      <th>11</th>\n",
              "      <td>H</td>\n",
              "      <td>E</td>\n",
              "    </tr>\n",
              "    <tr>\n",
              "      <th>12</th>\n",
              "      <td>P</td>\n",
              "      <td>M</td>\n",
              "    </tr>\n",
              "    <tr>\n",
              "      <th>13</th>\n",
              "      <td>K</td>\n",
              "      <td>H</td>\n",
              "    </tr>\n",
              "    <tr>\n",
              "      <th>14</th>\n",
              "      <td>O</td>\n",
              "      <td>L</td>\n",
              "    </tr>\n",
              "  </tbody>\n",
              "</table>\n",
              "</div>"
            ],
            "text/plain": [
              "   Plaintext Ciphertext\n",
              "0          H          E\n",
              "1          Q          N\n",
              "2          F          C\n",
              "3          Z          W\n",
              "4          Q          N\n",
              "5          Q          N\n",
              "6          G          D\n",
              "7          R          O\n",
              "8          A          X\n",
              "9          J          G\n",
              "10         I          F\n",
              "11         H          E\n",
              "12         P          M\n",
              "13         K          H\n",
              "14         O          L"
            ]
          },
          "metadata": {},
          "execution_count": 142
        }
      ]
    },
    {
      "cell_type": "markdown",
      "metadata": {
        "id": "DKD7h79lpNlO"
      },
      "source": [
        "## Data Preprocessing"
      ]
    },
    {
      "cell_type": "markdown",
      "metadata": {
        "id": "hBChraNfYir_"
      },
      "source": [
        "### Encoding"
      ]
    },
    {
      "cell_type": "code",
      "metadata": {
        "id": "ctfHA7lYYslx",
        "colab": {
          "base_uri": "https://localhost:8080/"
        },
        "outputId": "62b8c796-0b6d-4778-ce47-940400c6151c"
      },
      "source": [
        "plaintext=LabelEncoder().fit_transform(plaintext).reshape(-1, 1)\n",
        "ciphertext=LabelEncoder().fit_transform(ciphertext).reshape(-1, 1)\n",
        "X=OneHotEncoder().fit_transform(plaintext).toarray()\n",
        "Y=OneHotEncoder().fit_transform(ciphertext).toarray()\n",
        "print(X)\n",
        "print(Y)"
      ],
      "execution_count": 143,
      "outputs": [
        {
          "output_type": "stream",
          "name": "stdout",
          "text": [
            "[[0. 0. 0. ... 0. 0. 0.]\n",
            " [0. 0. 0. ... 0. 0. 0.]\n",
            " [0. 0. 0. ... 0. 0. 0.]\n",
            " ...\n",
            " [0. 0. 0. ... 0. 0. 1.]\n",
            " [0. 0. 0. ... 0. 0. 0.]\n",
            " [0. 0. 0. ... 0. 0. 0.]]\n",
            "[[0. 0. 0. ... 0. 0. 0.]\n",
            " [0. 0. 0. ... 0. 0. 0.]\n",
            " [0. 0. 1. ... 0. 0. 0.]\n",
            " ...\n",
            " [0. 0. 0. ... 0. 0. 0.]\n",
            " [0. 0. 0. ... 0. 0. 0.]\n",
            " [0. 0. 0. ... 0. 0. 0.]]\n"
          ]
        }
      ]
    },
    {
      "cell_type": "markdown",
      "metadata": {
        "id": "bpsAtE50ceYp"
      },
      "source": [
        "### Splitting the Dataset - Decryption"
      ]
    },
    {
      "cell_type": "code",
      "metadata": {
        "id": "i2QCsVWocdM2",
        "colab": {
          "base_uri": "https://localhost:8080/"
        },
        "outputId": "8f1c622c-e29f-4293-b774-b4d6426d962d"
      },
      "source": [
        "from sklearn.model_selection import train_test_split\n",
        "X_train,X_test,Y_train,Y_test=train_test_split(Y,X,test_size=0.2,random_state=0)\n",
        "print(X_train.shape)"
      ],
      "execution_count": 144,
      "outputs": [
        {
          "output_type": "stream",
          "name": "stdout",
          "text": [
            "(320, 26)\n"
          ]
        }
      ]
    },
    {
      "cell_type": "markdown",
      "metadata": {
        "id": "LsTqMHKRf2dT"
      },
      "source": [
        "## Training the Shallow Neural Network"
      ]
    },
    {
      "cell_type": "code",
      "metadata": {
        "id": "BA70_1DOdGBp",
        "colab": {
          "base_uri": "https://localhost:8080/"
        },
        "outputId": "51fd14a2-dd97-4562-ee28-5e8458fba0db"
      },
      "source": [
        "model_CC= models.Sequential()\n",
        "model_CC.add(layers.Dense(26, activation='relu',input_shape=(26,)))\n",
        "model_CC.add(layers.Dense(39, activation='relu'))\n",
        "model_CC.add(layers.Dense(26, activation='softmax'))\n",
        "model_CC.summary()"
      ],
      "execution_count": 145,
      "outputs": [
        {
          "output_type": "stream",
          "name": "stdout",
          "text": [
            "Model: \"sequential_6\"\n",
            "_________________________________________________________________\n",
            " Layer (type)                Output Shape              Param #   \n",
            "=================================================================\n",
            " dense_18 (Dense)            (None, 26)                702       \n",
            "                                                                 \n",
            " dense_19 (Dense)            (None, 39)                1053      \n",
            "                                                                 \n",
            " dense_20 (Dense)            (None, 26)                1040      \n",
            "                                                                 \n",
            "=================================================================\n",
            "Total params: 2,795\n",
            "Trainable params: 2,795\n",
            "Non-trainable params: 0\n",
            "_________________________________________________________________\n"
          ]
        }
      ]
    },
    {
      "cell_type": "code",
      "metadata": {
        "id": "ZdrUUqrCf86y"
      },
      "source": [
        "EarlyStopping=tf.keras.callbacks.EarlyStopping(monitor='val_loss', patience=10, verbose=1, mode='min',restore_best_weights=True)"
      ],
      "execution_count": 146,
      "outputs": []
    },
    {
      "cell_type": "code",
      "metadata": {
        "id": "li8fxsnOeM8Q"
      },
      "source": [
        "model_CC.compile(loss='categorical_crossentropy',\n",
        "              optimizer=tf.keras.optimizers.RMSprop(learning_rate=0.0001, decay=1e-6),\n",
        "              metrics=['accuracy'])"
      ],
      "execution_count": 147,
      "outputs": []
    },
    {
      "cell_type": "code",
      "metadata": {
        "id": "B-zGCRWvfnbP",
        "colab": {
          "base_uri": "https://localhost:8080/"
        },
        "outputId": "d14c11c4-66e4-44df-d5a8-f4c0c37c9570"
      },
      "source": [
        "model_CC.fit(x=X_train,y=Y_train,epochs=1000,batch_size=10,validation_split=0.1,callbacks=EarlyStopping)"
      ],
      "execution_count": 148,
      "outputs": [
        {
          "output_type": "stream",
          "name": "stdout",
          "text": [
            "Epoch 1/1000\n",
            "29/29 [==============================] - 1s 11ms/step - loss: 3.2563 - accuracy: 0.0521 - val_loss: 3.2511 - val_accuracy: 0.1250\n",
            "Epoch 2/1000\n",
            "29/29 [==============================] - 0s 6ms/step - loss: 3.2460 - accuracy: 0.0799 - val_loss: 3.2420 - val_accuracy: 0.1250\n",
            "Epoch 3/1000\n",
            "29/29 [==============================] - 0s 6ms/step - loss: 3.2368 - accuracy: 0.1076 - val_loss: 3.2332 - val_accuracy: 0.1875\n",
            "Epoch 4/1000\n",
            "29/29 [==============================] - 0s 5ms/step - loss: 3.2276 - accuracy: 0.1215 - val_loss: 3.2245 - val_accuracy: 0.1875\n",
            "Epoch 5/1000\n",
            "29/29 [==============================] - 0s 5ms/step - loss: 3.2184 - accuracy: 0.1215 - val_loss: 3.2160 - val_accuracy: 0.1875\n",
            "Epoch 6/1000\n",
            "29/29 [==============================] - 0s 5ms/step - loss: 3.2091 - accuracy: 0.1215 - val_loss: 3.2075 - val_accuracy: 0.1875\n",
            "Epoch 7/1000\n",
            "29/29 [==============================] - 0s 5ms/step - loss: 3.2000 - accuracy: 0.1215 - val_loss: 3.1991 - val_accuracy: 0.1875\n",
            "Epoch 8/1000\n",
            "29/29 [==============================] - 0s 6ms/step - loss: 3.1907 - accuracy: 0.1389 - val_loss: 3.1904 - val_accuracy: 0.2188\n",
            "Epoch 9/1000\n",
            "29/29 [==============================] - 0s 5ms/step - loss: 3.1814 - accuracy: 0.2083 - val_loss: 3.1817 - val_accuracy: 0.2188\n",
            "Epoch 10/1000\n",
            "29/29 [==============================] - 0s 5ms/step - loss: 3.1722 - accuracy: 0.2292 - val_loss: 3.1731 - val_accuracy: 0.2500\n",
            "Epoch 11/1000\n",
            "29/29 [==============================] - 0s 5ms/step - loss: 3.1630 - accuracy: 0.2812 - val_loss: 3.1643 - val_accuracy: 0.3125\n",
            "Epoch 12/1000\n",
            "29/29 [==============================] - 0s 5ms/step - loss: 3.1537 - accuracy: 0.2847 - val_loss: 3.1554 - val_accuracy: 0.3125\n",
            "Epoch 13/1000\n",
            "29/29 [==============================] - 0s 6ms/step - loss: 3.1441 - accuracy: 0.2917 - val_loss: 3.1466 - val_accuracy: 0.3438\n",
            "Epoch 14/1000\n",
            "29/29 [==============================] - 0s 6ms/step - loss: 3.1345 - accuracy: 0.3889 - val_loss: 3.1377 - val_accuracy: 0.3438\n",
            "Epoch 15/1000\n",
            "29/29 [==============================] - 0s 5ms/step - loss: 3.1249 - accuracy: 0.4062 - val_loss: 3.1289 - val_accuracy: 0.3438\n",
            "Epoch 16/1000\n",
            "29/29 [==============================] - 0s 5ms/step - loss: 3.1151 - accuracy: 0.4062 - val_loss: 3.1199 - val_accuracy: 0.3438\n",
            "Epoch 17/1000\n",
            "29/29 [==============================] - 0s 5ms/step - loss: 3.1050 - accuracy: 0.4097 - val_loss: 3.1106 - val_accuracy: 0.3750\n",
            "Epoch 18/1000\n",
            "29/29 [==============================] - 0s 5ms/step - loss: 3.0947 - accuracy: 0.4479 - val_loss: 3.1012 - val_accuracy: 0.3750\n",
            "Epoch 19/1000\n",
            "29/29 [==============================] - 0s 6ms/step - loss: 3.0845 - accuracy: 0.4549 - val_loss: 3.0917 - val_accuracy: 0.3750\n",
            "Epoch 20/1000\n",
            "29/29 [==============================] - 0s 5ms/step - loss: 3.0741 - accuracy: 0.4549 - val_loss: 3.0823 - val_accuracy: 0.3750\n",
            "Epoch 21/1000\n",
            "29/29 [==============================] - 0s 5ms/step - loss: 3.0634 - accuracy: 0.5069 - val_loss: 3.0725 - val_accuracy: 0.3750\n",
            "Epoch 22/1000\n",
            "29/29 [==============================] - 0s 6ms/step - loss: 3.0524 - accuracy: 0.5069 - val_loss: 3.0622 - val_accuracy: 0.3750\n",
            "Epoch 23/1000\n",
            "29/29 [==============================] - 0s 5ms/step - loss: 3.0411 - accuracy: 0.5069 - val_loss: 3.0521 - val_accuracy: 0.3750\n",
            "Epoch 24/1000\n",
            "29/29 [==============================] - 0s 5ms/step - loss: 3.0298 - accuracy: 0.5347 - val_loss: 3.0416 - val_accuracy: 0.4375\n",
            "Epoch 25/1000\n",
            "29/29 [==============================] - 0s 5ms/step - loss: 3.0181 - accuracy: 0.5590 - val_loss: 3.0312 - val_accuracy: 0.4375\n",
            "Epoch 26/1000\n",
            "29/29 [==============================] - 0s 6ms/step - loss: 3.0063 - accuracy: 0.5694 - val_loss: 3.0207 - val_accuracy: 0.4375\n",
            "Epoch 27/1000\n",
            "29/29 [==============================] - 0s 6ms/step - loss: 2.9944 - accuracy: 0.5694 - val_loss: 3.0100 - val_accuracy: 0.4375\n",
            "Epoch 28/1000\n",
            "29/29 [==============================] - 0s 6ms/step - loss: 2.9824 - accuracy: 0.5694 - val_loss: 2.9988 - val_accuracy: 0.4375\n",
            "Epoch 29/1000\n",
            "29/29 [==============================] - 0s 5ms/step - loss: 2.9700 - accuracy: 0.5694 - val_loss: 2.9875 - val_accuracy: 0.4375\n",
            "Epoch 30/1000\n",
            "29/29 [==============================] - 0s 5ms/step - loss: 2.9574 - accuracy: 0.5694 - val_loss: 2.9759 - val_accuracy: 0.4375\n",
            "Epoch 31/1000\n",
            "29/29 [==============================] - 0s 5ms/step - loss: 2.9445 - accuracy: 0.5799 - val_loss: 2.9642 - val_accuracy: 0.4375\n",
            "Epoch 32/1000\n",
            "29/29 [==============================] - 0s 6ms/step - loss: 2.9313 - accuracy: 0.6042 - val_loss: 2.9521 - val_accuracy: 0.4375\n",
            "Epoch 33/1000\n",
            "29/29 [==============================] - 0s 5ms/step - loss: 2.9181 - accuracy: 0.6042 - val_loss: 2.9404 - val_accuracy: 0.4375\n",
            "Epoch 34/1000\n",
            "29/29 [==============================] - 0s 5ms/step - loss: 2.9045 - accuracy: 0.6042 - val_loss: 2.9278 - val_accuracy: 0.4375\n",
            "Epoch 35/1000\n",
            "29/29 [==============================] - 0s 5ms/step - loss: 2.8908 - accuracy: 0.6042 - val_loss: 2.9154 - val_accuracy: 0.4375\n",
            "Epoch 36/1000\n",
            "29/29 [==============================] - 0s 5ms/step - loss: 2.8769 - accuracy: 0.6042 - val_loss: 2.9026 - val_accuracy: 0.4375\n",
            "Epoch 37/1000\n",
            "29/29 [==============================] - 0s 5ms/step - loss: 2.8628 - accuracy: 0.6042 - val_loss: 2.8897 - val_accuracy: 0.4375\n",
            "Epoch 38/1000\n",
            "29/29 [==============================] - 0s 5ms/step - loss: 2.8485 - accuracy: 0.6042 - val_loss: 2.8764 - val_accuracy: 0.4375\n",
            "Epoch 39/1000\n",
            "29/29 [==============================] - 0s 6ms/step - loss: 2.8339 - accuracy: 0.6111 - val_loss: 2.8628 - val_accuracy: 0.4375\n",
            "Epoch 40/1000\n",
            "29/29 [==============================] - 0s 6ms/step - loss: 2.8189 - accuracy: 0.6076 - val_loss: 2.8490 - val_accuracy: 0.4375\n",
            "Epoch 41/1000\n",
            "29/29 [==============================] - 0s 5ms/step - loss: 2.8037 - accuracy: 0.6632 - val_loss: 2.8348 - val_accuracy: 0.5938\n",
            "Epoch 42/1000\n",
            "29/29 [==============================] - 0s 5ms/step - loss: 2.7882 - accuracy: 0.6701 - val_loss: 2.8206 - val_accuracy: 0.6250\n",
            "Epoch 43/1000\n",
            "29/29 [==============================] - 0s 6ms/step - loss: 2.7721 - accuracy: 0.7569 - val_loss: 2.8059 - val_accuracy: 0.6250\n",
            "Epoch 44/1000\n",
            "29/29 [==============================] - 0s 5ms/step - loss: 2.7560 - accuracy: 0.7569 - val_loss: 2.7904 - val_accuracy: 0.6250\n",
            "Epoch 45/1000\n",
            "29/29 [==============================] - 0s 5ms/step - loss: 2.7394 - accuracy: 0.7569 - val_loss: 2.7750 - val_accuracy: 0.6250\n",
            "Epoch 46/1000\n",
            "29/29 [==============================] - 0s 5ms/step - loss: 2.7223 - accuracy: 0.7569 - val_loss: 2.7589 - val_accuracy: 0.6250\n",
            "Epoch 47/1000\n",
            "29/29 [==============================] - 0s 5ms/step - loss: 2.7052 - accuracy: 0.7569 - val_loss: 2.7436 - val_accuracy: 0.6250\n",
            "Epoch 48/1000\n",
            "29/29 [==============================] - 0s 6ms/step - loss: 2.6883 - accuracy: 0.7569 - val_loss: 2.7274 - val_accuracy: 0.6250\n",
            "Epoch 49/1000\n",
            "29/29 [==============================] - 0s 6ms/step - loss: 2.6708 - accuracy: 0.7674 - val_loss: 2.7111 - val_accuracy: 0.6875\n",
            "Epoch 50/1000\n",
            "29/29 [==============================] - 0s 6ms/step - loss: 2.6529 - accuracy: 0.8056 - val_loss: 2.6945 - val_accuracy: 0.7500\n",
            "Epoch 51/1000\n",
            "29/29 [==============================] - 0s 6ms/step - loss: 2.6348 - accuracy: 0.8611 - val_loss: 2.6775 - val_accuracy: 0.7500\n",
            "Epoch 52/1000\n",
            "29/29 [==============================] - 0s 6ms/step - loss: 2.6162 - accuracy: 0.8611 - val_loss: 2.6604 - val_accuracy: 0.7500\n",
            "Epoch 53/1000\n",
            "29/29 [==============================] - 0s 5ms/step - loss: 2.5976 - accuracy: 0.8611 - val_loss: 2.6435 - val_accuracy: 0.7500\n",
            "Epoch 54/1000\n",
            "29/29 [==============================] - 0s 5ms/step - loss: 2.5787 - accuracy: 0.8611 - val_loss: 2.6263 - val_accuracy: 0.7500\n",
            "Epoch 55/1000\n",
            "29/29 [==============================] - 0s 5ms/step - loss: 2.5594 - accuracy: 0.8611 - val_loss: 2.6082 - val_accuracy: 0.7500\n",
            "Epoch 56/1000\n",
            "29/29 [==============================] - 0s 6ms/step - loss: 2.5398 - accuracy: 0.8611 - val_loss: 2.5905 - val_accuracy: 0.7500\n",
            "Epoch 57/1000\n",
            "29/29 [==============================] - 0s 6ms/step - loss: 2.5204 - accuracy: 0.8611 - val_loss: 2.5730 - val_accuracy: 0.7500\n",
            "Epoch 58/1000\n",
            "29/29 [==============================] - 0s 6ms/step - loss: 2.5005 - accuracy: 0.8611 - val_loss: 2.5542 - val_accuracy: 0.7500\n",
            "Epoch 59/1000\n",
            "29/29 [==============================] - 0s 6ms/step - loss: 2.4802 - accuracy: 0.8611 - val_loss: 2.5356 - val_accuracy: 0.7500\n",
            "Epoch 60/1000\n",
            "29/29 [==============================] - 0s 6ms/step - loss: 2.4598 - accuracy: 0.8611 - val_loss: 2.5164 - val_accuracy: 0.7500\n",
            "Epoch 61/1000\n",
            "29/29 [==============================] - 0s 5ms/step - loss: 2.4396 - accuracy: 0.8611 - val_loss: 2.4980 - val_accuracy: 0.7500\n",
            "Epoch 62/1000\n",
            "29/29 [==============================] - 0s 5ms/step - loss: 2.4193 - accuracy: 0.8611 - val_loss: 2.4785 - val_accuracy: 0.7500\n",
            "Epoch 63/1000\n",
            "29/29 [==============================] - 0s 5ms/step - loss: 2.3982 - accuracy: 0.8611 - val_loss: 2.4591 - val_accuracy: 0.7500\n",
            "Epoch 64/1000\n",
            "29/29 [==============================] - 0s 5ms/step - loss: 2.3771 - accuracy: 0.8611 - val_loss: 2.4399 - val_accuracy: 0.7500\n",
            "Epoch 65/1000\n",
            "29/29 [==============================] - 0s 6ms/step - loss: 2.3555 - accuracy: 0.8611 - val_loss: 2.4197 - val_accuracy: 0.7500\n",
            "Epoch 66/1000\n",
            "29/29 [==============================] - 0s 5ms/step - loss: 2.3342 - accuracy: 0.8611 - val_loss: 2.4000 - val_accuracy: 0.7500\n",
            "Epoch 67/1000\n",
            "29/29 [==============================] - 0s 5ms/step - loss: 2.3127 - accuracy: 0.8611 - val_loss: 2.3797 - val_accuracy: 0.7500\n",
            "Epoch 68/1000\n",
            "29/29 [==============================] - 0s 6ms/step - loss: 2.2907 - accuracy: 0.8611 - val_loss: 2.3593 - val_accuracy: 0.7500\n",
            "Epoch 69/1000\n",
            "29/29 [==============================] - 0s 6ms/step - loss: 2.2683 - accuracy: 0.8611 - val_loss: 2.3385 - val_accuracy: 0.7500\n",
            "Epoch 70/1000\n",
            "29/29 [==============================] - 0s 5ms/step - loss: 2.2454 - accuracy: 0.8611 - val_loss: 2.3168 - val_accuracy: 0.7500\n",
            "Epoch 71/1000\n",
            "29/29 [==============================] - 0s 5ms/step - loss: 2.2226 - accuracy: 0.8611 - val_loss: 2.2955 - val_accuracy: 0.7500\n",
            "Epoch 72/1000\n",
            "29/29 [==============================] - 0s 5ms/step - loss: 2.1994 - accuracy: 0.8611 - val_loss: 2.2746 - val_accuracy: 0.7500\n",
            "Epoch 73/1000\n",
            "29/29 [==============================] - 0s 6ms/step - loss: 2.1762 - accuracy: 0.8611 - val_loss: 2.2526 - val_accuracy: 0.7500\n",
            "Epoch 74/1000\n",
            "29/29 [==============================] - 0s 5ms/step - loss: 2.1522 - accuracy: 0.8611 - val_loss: 2.2300 - val_accuracy: 0.7500\n",
            "Epoch 75/1000\n",
            "29/29 [==============================] - 0s 6ms/step - loss: 2.1278 - accuracy: 0.8611 - val_loss: 2.2071 - val_accuracy: 0.7500\n",
            "Epoch 76/1000\n",
            "29/29 [==============================] - 0s 6ms/step - loss: 2.1034 - accuracy: 0.8611 - val_loss: 2.1848 - val_accuracy: 0.7500\n",
            "Epoch 77/1000\n",
            "29/29 [==============================] - 0s 6ms/step - loss: 2.0793 - accuracy: 0.8611 - val_loss: 2.1622 - val_accuracy: 0.7500\n",
            "Epoch 78/1000\n",
            "29/29 [==============================] - 0s 6ms/step - loss: 2.0552 - accuracy: 0.8611 - val_loss: 2.1398 - val_accuracy: 0.7500\n",
            "Epoch 79/1000\n",
            "29/29 [==============================] - 0s 5ms/step - loss: 2.0310 - accuracy: 0.8611 - val_loss: 2.1175 - val_accuracy: 0.7500\n",
            "Epoch 80/1000\n",
            "29/29 [==============================] - 0s 6ms/step - loss: 2.0070 - accuracy: 0.8611 - val_loss: 2.0947 - val_accuracy: 0.7500\n",
            "Epoch 81/1000\n",
            "29/29 [==============================] - 0s 5ms/step - loss: 1.9828 - accuracy: 0.8611 - val_loss: 2.0721 - val_accuracy: 0.7500\n",
            "Epoch 82/1000\n",
            "29/29 [==============================] - 0s 6ms/step - loss: 1.9582 - accuracy: 0.8611 - val_loss: 2.0490 - val_accuracy: 0.7500\n",
            "Epoch 83/1000\n",
            "29/29 [==============================] - 0s 6ms/step - loss: 1.9336 - accuracy: 0.8611 - val_loss: 2.0257 - val_accuracy: 0.7500\n",
            "Epoch 84/1000\n",
            "29/29 [==============================] - 0s 5ms/step - loss: 1.9090 - accuracy: 0.8611 - val_loss: 2.0024 - val_accuracy: 0.7500\n",
            "Epoch 85/1000\n",
            "29/29 [==============================] - 0s 6ms/step - loss: 1.8841 - accuracy: 0.8611 - val_loss: 1.9785 - val_accuracy: 0.7500\n",
            "Epoch 86/1000\n",
            "29/29 [==============================] - 0s 6ms/step - loss: 1.8588 - accuracy: 0.8611 - val_loss: 1.9551 - val_accuracy: 0.7500\n",
            "Epoch 87/1000\n",
            "29/29 [==============================] - 0s 6ms/step - loss: 1.8332 - accuracy: 0.8611 - val_loss: 1.9302 - val_accuracy: 0.7500\n",
            "Epoch 88/1000\n",
            "29/29 [==============================] - 0s 5ms/step - loss: 1.8072 - accuracy: 0.8611 - val_loss: 1.9059 - val_accuracy: 0.7500\n",
            "Epoch 89/1000\n",
            "29/29 [==============================] - 0s 5ms/step - loss: 1.7816 - accuracy: 0.8611 - val_loss: 1.8816 - val_accuracy: 0.7500\n",
            "Epoch 90/1000\n",
            "29/29 [==============================] - 0s 5ms/step - loss: 1.7564 - accuracy: 0.8611 - val_loss: 1.8583 - val_accuracy: 0.7500\n",
            "Epoch 91/1000\n",
            "29/29 [==============================] - 0s 5ms/step - loss: 1.7312 - accuracy: 0.8611 - val_loss: 1.8344 - val_accuracy: 0.7500\n",
            "Epoch 92/1000\n",
            "29/29 [==============================] - 0s 6ms/step - loss: 1.7059 - accuracy: 0.8611 - val_loss: 1.8104 - val_accuracy: 0.7500\n",
            "Epoch 93/1000\n",
            "29/29 [==============================] - 0s 5ms/step - loss: 1.6804 - accuracy: 0.8611 - val_loss: 1.7860 - val_accuracy: 0.7500\n",
            "Epoch 94/1000\n",
            "29/29 [==============================] - 0s 5ms/step - loss: 1.6552 - accuracy: 0.8611 - val_loss: 1.7625 - val_accuracy: 0.7500\n",
            "Epoch 95/1000\n",
            "29/29 [==============================] - 0s 5ms/step - loss: 1.6293 - accuracy: 0.8611 - val_loss: 1.7381 - val_accuracy: 0.7500\n",
            "Epoch 96/1000\n",
            "29/29 [==============================] - 0s 6ms/step - loss: 1.6039 - accuracy: 0.8681 - val_loss: 1.7145 - val_accuracy: 0.7812\n",
            "Epoch 97/1000\n",
            "29/29 [==============================] - 0s 5ms/step - loss: 1.5785 - accuracy: 0.8958 - val_loss: 1.6907 - val_accuracy: 0.7812\n",
            "Epoch 98/1000\n",
            "29/29 [==============================] - 0s 6ms/step - loss: 1.5529 - accuracy: 0.9201 - val_loss: 1.6662 - val_accuracy: 0.7812\n",
            "Epoch 99/1000\n",
            "29/29 [==============================] - 0s 5ms/step - loss: 1.5272 - accuracy: 0.9201 - val_loss: 1.6413 - val_accuracy: 0.7812\n",
            "Epoch 100/1000\n",
            "29/29 [==============================] - 0s 5ms/step - loss: 1.5013 - accuracy: 0.9201 - val_loss: 1.6168 - val_accuracy: 0.7812\n",
            "Epoch 101/1000\n",
            "29/29 [==============================] - 0s 5ms/step - loss: 1.4759 - accuracy: 0.9201 - val_loss: 1.5930 - val_accuracy: 0.7812\n",
            "Epoch 102/1000\n",
            "29/29 [==============================] - 0s 6ms/step - loss: 1.4506 - accuracy: 0.9201 - val_loss: 1.5689 - val_accuracy: 0.7812\n",
            "Epoch 103/1000\n",
            "29/29 [==============================] - 0s 5ms/step - loss: 1.4250 - accuracy: 0.9201 - val_loss: 1.5446 - val_accuracy: 0.7812\n",
            "Epoch 104/1000\n",
            "29/29 [==============================] - 0s 6ms/step - loss: 1.3994 - accuracy: 0.9201 - val_loss: 1.5201 - val_accuracy: 0.7812\n",
            "Epoch 105/1000\n",
            "29/29 [==============================] - 0s 5ms/step - loss: 1.3740 - accuracy: 0.9201 - val_loss: 1.4955 - val_accuracy: 0.7812\n",
            "Epoch 106/1000\n",
            "29/29 [==============================] - 0s 5ms/step - loss: 1.3482 - accuracy: 0.9201 - val_loss: 1.4710 - val_accuracy: 0.7812\n",
            "Epoch 107/1000\n",
            "29/29 [==============================] - 0s 5ms/step - loss: 1.3226 - accuracy: 0.9201 - val_loss: 1.4462 - val_accuracy: 0.7812\n",
            "Epoch 108/1000\n",
            "29/29 [==============================] - 0s 6ms/step - loss: 1.2973 - accuracy: 0.9201 - val_loss: 1.4213 - val_accuracy: 0.7812\n",
            "Epoch 109/1000\n",
            "29/29 [==============================] - 0s 6ms/step - loss: 1.2719 - accuracy: 0.9201 - val_loss: 1.3969 - val_accuracy: 0.7812\n",
            "Epoch 110/1000\n",
            "29/29 [==============================] - 0s 6ms/step - loss: 1.2463 - accuracy: 0.9201 - val_loss: 1.3721 - val_accuracy: 0.7812\n",
            "Epoch 111/1000\n",
            "29/29 [==============================] - 0s 6ms/step - loss: 1.2211 - accuracy: 0.9201 - val_loss: 1.3477 - val_accuracy: 0.7812\n",
            "Epoch 112/1000\n",
            "29/29 [==============================] - 0s 5ms/step - loss: 1.1962 - accuracy: 0.9201 - val_loss: 1.3237 - val_accuracy: 0.7812\n",
            "Epoch 113/1000\n",
            "29/29 [==============================] - 0s 6ms/step - loss: 1.1713 - accuracy: 0.9201 - val_loss: 1.2999 - val_accuracy: 0.7812\n",
            "Epoch 114/1000\n",
            "29/29 [==============================] - 0s 5ms/step - loss: 1.1463 - accuracy: 0.9306 - val_loss: 1.2757 - val_accuracy: 0.8750\n",
            "Epoch 115/1000\n",
            "29/29 [==============================] - 0s 5ms/step - loss: 1.1210 - accuracy: 0.9410 - val_loss: 1.2513 - val_accuracy: 0.8750\n",
            "Epoch 116/1000\n",
            "29/29 [==============================] - 0s 6ms/step - loss: 1.0959 - accuracy: 0.9410 - val_loss: 1.2272 - val_accuracy: 0.8750\n",
            "Epoch 117/1000\n",
            "29/29 [==============================] - 0s 6ms/step - loss: 1.0716 - accuracy: 0.9410 - val_loss: 1.2039 - val_accuracy: 0.8750\n",
            "Epoch 118/1000\n",
            "29/29 [==============================] - 0s 6ms/step - loss: 1.0473 - accuracy: 0.9410 - val_loss: 1.1799 - val_accuracy: 0.8750\n",
            "Epoch 119/1000\n",
            "29/29 [==============================] - 0s 6ms/step - loss: 1.0235 - accuracy: 0.9410 - val_loss: 1.1567 - val_accuracy: 0.8750\n",
            "Epoch 120/1000\n",
            "29/29 [==============================] - 0s 6ms/step - loss: 0.9998 - accuracy: 0.9410 - val_loss: 1.1327 - val_accuracy: 0.8750\n",
            "Epoch 121/1000\n",
            "29/29 [==============================] - 0s 6ms/step - loss: 0.9760 - accuracy: 0.9410 - val_loss: 1.1098 - val_accuracy: 0.8750\n",
            "Epoch 122/1000\n",
            "29/29 [==============================] - 0s 6ms/step - loss: 0.9527 - accuracy: 0.9410 - val_loss: 1.0872 - val_accuracy: 0.8750\n",
            "Epoch 123/1000\n",
            "29/29 [==============================] - 0s 6ms/step - loss: 0.9299 - accuracy: 0.9410 - val_loss: 1.0640 - val_accuracy: 0.9375\n",
            "Epoch 124/1000\n",
            "29/29 [==============================] - 0s 6ms/step - loss: 0.9070 - accuracy: 0.9722 - val_loss: 1.0416 - val_accuracy: 0.9375\n",
            "Epoch 125/1000\n",
            "29/29 [==============================] - 0s 6ms/step - loss: 0.8842 - accuracy: 0.9722 - val_loss: 1.0194 - val_accuracy: 0.9375\n",
            "Epoch 126/1000\n",
            "29/29 [==============================] - 0s 5ms/step - loss: 0.8616 - accuracy: 0.9722 - val_loss: 0.9967 - val_accuracy: 0.9375\n",
            "Epoch 127/1000\n",
            "29/29 [==============================] - 0s 5ms/step - loss: 0.8391 - accuracy: 0.9722 - val_loss: 0.9748 - val_accuracy: 0.9375\n",
            "Epoch 128/1000\n",
            "29/29 [==============================] - 0s 5ms/step - loss: 0.8172 - accuracy: 0.9722 - val_loss: 0.9534 - val_accuracy: 0.9375\n",
            "Epoch 129/1000\n",
            "29/29 [==============================] - 0s 6ms/step - loss: 0.7960 - accuracy: 0.9722 - val_loss: 0.9320 - val_accuracy: 0.9375\n",
            "Epoch 130/1000\n",
            "29/29 [==============================] - 0s 5ms/step - loss: 0.7753 - accuracy: 0.9861 - val_loss: 0.9108 - val_accuracy: 1.0000\n",
            "Epoch 131/1000\n",
            "29/29 [==============================] - 0s 5ms/step - loss: 0.7548 - accuracy: 1.0000 - val_loss: 0.8899 - val_accuracy: 1.0000\n",
            "Epoch 132/1000\n",
            "29/29 [==============================] - 0s 6ms/step - loss: 0.7344 - accuracy: 1.0000 - val_loss: 0.8694 - val_accuracy: 1.0000\n",
            "Epoch 133/1000\n",
            "29/29 [==============================] - 0s 5ms/step - loss: 0.7141 - accuracy: 1.0000 - val_loss: 0.8490 - val_accuracy: 1.0000\n",
            "Epoch 134/1000\n",
            "29/29 [==============================] - 0s 6ms/step - loss: 0.6941 - accuracy: 1.0000 - val_loss: 0.8286 - val_accuracy: 1.0000\n",
            "Epoch 135/1000\n",
            "29/29 [==============================] - 0s 5ms/step - loss: 0.6745 - accuracy: 1.0000 - val_loss: 0.8082 - val_accuracy: 1.0000\n",
            "Epoch 136/1000\n",
            "29/29 [==============================] - 0s 5ms/step - loss: 0.6554 - accuracy: 1.0000 - val_loss: 0.7888 - val_accuracy: 1.0000\n",
            "Epoch 137/1000\n",
            "29/29 [==============================] - 0s 5ms/step - loss: 0.6365 - accuracy: 1.0000 - val_loss: 0.7695 - val_accuracy: 1.0000\n",
            "Epoch 138/1000\n",
            "29/29 [==============================] - 0s 5ms/step - loss: 0.6178 - accuracy: 1.0000 - val_loss: 0.7501 - val_accuracy: 1.0000\n",
            "Epoch 139/1000\n",
            "29/29 [==============================] - 0s 6ms/step - loss: 0.5993 - accuracy: 1.0000 - val_loss: 0.7302 - val_accuracy: 1.0000\n",
            "Epoch 140/1000\n",
            "29/29 [==============================] - 0s 6ms/step - loss: 0.5812 - accuracy: 1.0000 - val_loss: 0.7113 - val_accuracy: 1.0000\n",
            "Epoch 141/1000\n",
            "29/29 [==============================] - 0s 5ms/step - loss: 0.5637 - accuracy: 1.0000 - val_loss: 0.6929 - val_accuracy: 1.0000\n",
            "Epoch 142/1000\n",
            "29/29 [==============================] - 0s 5ms/step - loss: 0.5468 - accuracy: 1.0000 - val_loss: 0.6747 - val_accuracy: 1.0000\n",
            "Epoch 143/1000\n",
            "29/29 [==============================] - 0s 5ms/step - loss: 0.5299 - accuracy: 1.0000 - val_loss: 0.6571 - val_accuracy: 1.0000\n",
            "Epoch 144/1000\n",
            "29/29 [==============================] - 0s 5ms/step - loss: 0.5135 - accuracy: 1.0000 - val_loss: 0.6393 - val_accuracy: 1.0000\n",
            "Epoch 145/1000\n",
            "29/29 [==============================] - 0s 5ms/step - loss: 0.4977 - accuracy: 1.0000 - val_loss: 0.6220 - val_accuracy: 1.0000\n",
            "Epoch 146/1000\n",
            "29/29 [==============================] - 0s 6ms/step - loss: 0.4821 - accuracy: 1.0000 - val_loss: 0.6050 - val_accuracy: 1.0000\n",
            "Epoch 147/1000\n",
            "29/29 [==============================] - 0s 6ms/step - loss: 0.4668 - accuracy: 1.0000 - val_loss: 0.5883 - val_accuracy: 1.0000\n",
            "Epoch 148/1000\n",
            "29/29 [==============================] - 0s 6ms/step - loss: 0.4519 - accuracy: 1.0000 - val_loss: 0.5723 - val_accuracy: 1.0000\n",
            "Epoch 149/1000\n",
            "29/29 [==============================] - 0s 6ms/step - loss: 0.4373 - accuracy: 1.0000 - val_loss: 0.5563 - val_accuracy: 1.0000\n",
            "Epoch 150/1000\n",
            "29/29 [==============================] - 0s 5ms/step - loss: 0.4231 - accuracy: 1.0000 - val_loss: 0.5405 - val_accuracy: 1.0000\n",
            "Epoch 151/1000\n",
            "29/29 [==============================] - 0s 6ms/step - loss: 0.4093 - accuracy: 1.0000 - val_loss: 0.5248 - val_accuracy: 1.0000\n",
            "Epoch 152/1000\n",
            "29/29 [==============================] - 0s 6ms/step - loss: 0.3960 - accuracy: 1.0000 - val_loss: 0.5101 - val_accuracy: 1.0000\n",
            "Epoch 153/1000\n",
            "29/29 [==============================] - 0s 5ms/step - loss: 0.3830 - accuracy: 1.0000 - val_loss: 0.4954 - val_accuracy: 1.0000\n",
            "Epoch 154/1000\n",
            "29/29 [==============================] - 0s 6ms/step - loss: 0.3701 - accuracy: 1.0000 - val_loss: 0.4807 - val_accuracy: 1.0000\n",
            "Epoch 155/1000\n",
            "29/29 [==============================] - 0s 6ms/step - loss: 0.3572 - accuracy: 1.0000 - val_loss: 0.4657 - val_accuracy: 1.0000\n",
            "Epoch 156/1000\n",
            "29/29 [==============================] - 0s 5ms/step - loss: 0.3446 - accuracy: 1.0000 - val_loss: 0.4513 - val_accuracy: 1.0000\n",
            "Epoch 157/1000\n",
            "29/29 [==============================] - 0s 6ms/step - loss: 0.3328 - accuracy: 1.0000 - val_loss: 0.4376 - val_accuracy: 1.0000\n",
            "Epoch 158/1000\n",
            "29/29 [==============================] - 0s 6ms/step - loss: 0.3212 - accuracy: 1.0000 - val_loss: 0.4239 - val_accuracy: 1.0000\n",
            "Epoch 159/1000\n",
            "29/29 [==============================] - 0s 6ms/step - loss: 0.3100 - accuracy: 1.0000 - val_loss: 0.4115 - val_accuracy: 1.0000\n",
            "Epoch 160/1000\n",
            "29/29 [==============================] - 0s 5ms/step - loss: 0.2993 - accuracy: 1.0000 - val_loss: 0.3989 - val_accuracy: 1.0000\n",
            "Epoch 161/1000\n",
            "29/29 [==============================] - 0s 6ms/step - loss: 0.2884 - accuracy: 1.0000 - val_loss: 0.3858 - val_accuracy: 1.0000\n",
            "Epoch 162/1000\n",
            "29/29 [==============================] - 0s 6ms/step - loss: 0.2781 - accuracy: 1.0000 - val_loss: 0.3740 - val_accuracy: 1.0000\n",
            "Epoch 163/1000\n",
            "29/29 [==============================] - 0s 6ms/step - loss: 0.2683 - accuracy: 1.0000 - val_loss: 0.3620 - val_accuracy: 1.0000\n",
            "Epoch 164/1000\n",
            "29/29 [==============================] - 0s 5ms/step - loss: 0.2585 - accuracy: 1.0000 - val_loss: 0.3497 - val_accuracy: 1.0000\n",
            "Epoch 165/1000\n",
            "29/29 [==============================] - 0s 5ms/step - loss: 0.2489 - accuracy: 1.0000 - val_loss: 0.3378 - val_accuracy: 1.0000\n",
            "Epoch 166/1000\n",
            "29/29 [==============================] - 0s 5ms/step - loss: 0.2394 - accuracy: 1.0000 - val_loss: 0.3264 - val_accuracy: 1.0000\n",
            "Epoch 167/1000\n",
            "29/29 [==============================] - 0s 6ms/step - loss: 0.2304 - accuracy: 1.0000 - val_loss: 0.3153 - val_accuracy: 1.0000\n",
            "Epoch 168/1000\n",
            "29/29 [==============================] - 0s 6ms/step - loss: 0.2218 - accuracy: 1.0000 - val_loss: 0.3050 - val_accuracy: 1.0000\n",
            "Epoch 169/1000\n",
            "29/29 [==============================] - 0s 6ms/step - loss: 0.2133 - accuracy: 1.0000 - val_loss: 0.2939 - val_accuracy: 1.0000\n",
            "Epoch 170/1000\n",
            "29/29 [==============================] - 0s 6ms/step - loss: 0.2048 - accuracy: 1.0000 - val_loss: 0.2832 - val_accuracy: 1.0000\n",
            "Epoch 171/1000\n",
            "29/29 [==============================] - 0s 6ms/step - loss: 0.1970 - accuracy: 1.0000 - val_loss: 0.2735 - val_accuracy: 1.0000\n",
            "Epoch 172/1000\n",
            "29/29 [==============================] - 0s 5ms/step - loss: 0.1894 - accuracy: 1.0000 - val_loss: 0.2637 - val_accuracy: 1.0000\n",
            "Epoch 173/1000\n",
            "29/29 [==============================] - 0s 6ms/step - loss: 0.1820 - accuracy: 1.0000 - val_loss: 0.2538 - val_accuracy: 1.0000\n",
            "Epoch 174/1000\n",
            "29/29 [==============================] - 0s 7ms/step - loss: 0.1749 - accuracy: 1.0000 - val_loss: 0.2447 - val_accuracy: 1.0000\n",
            "Epoch 175/1000\n",
            "29/29 [==============================] - 0s 6ms/step - loss: 0.1679 - accuracy: 1.0000 - val_loss: 0.2354 - val_accuracy: 1.0000\n",
            "Epoch 176/1000\n",
            "29/29 [==============================] - 0s 5ms/step - loss: 0.1612 - accuracy: 1.0000 - val_loss: 0.2269 - val_accuracy: 1.0000\n",
            "Epoch 177/1000\n",
            "29/29 [==============================] - 0s 6ms/step - loss: 0.1549 - accuracy: 1.0000 - val_loss: 0.2181 - val_accuracy: 1.0000\n",
            "Epoch 178/1000\n",
            "29/29 [==============================] - 0s 5ms/step - loss: 0.1486 - accuracy: 1.0000 - val_loss: 0.2096 - val_accuracy: 1.0000\n",
            "Epoch 179/1000\n",
            "29/29 [==============================] - 0s 6ms/step - loss: 0.1424 - accuracy: 1.0000 - val_loss: 0.2018 - val_accuracy: 1.0000\n",
            "Epoch 180/1000\n",
            "29/29 [==============================] - 0s 5ms/step - loss: 0.1365 - accuracy: 1.0000 - val_loss: 0.1936 - val_accuracy: 1.0000\n",
            "Epoch 181/1000\n",
            "29/29 [==============================] - 0s 5ms/step - loss: 0.1308 - accuracy: 1.0000 - val_loss: 0.1860 - val_accuracy: 1.0000\n",
            "Epoch 182/1000\n",
            "29/29 [==============================] - 0s 6ms/step - loss: 0.1253 - accuracy: 1.0000 - val_loss: 0.1787 - val_accuracy: 1.0000\n",
            "Epoch 183/1000\n",
            "29/29 [==============================] - 0s 5ms/step - loss: 0.1200 - accuracy: 1.0000 - val_loss: 0.1709 - val_accuracy: 1.0000\n",
            "Epoch 184/1000\n",
            "29/29 [==============================] - 0s 5ms/step - loss: 0.1150 - accuracy: 1.0000 - val_loss: 0.1645 - val_accuracy: 1.0000\n",
            "Epoch 185/1000\n",
            "29/29 [==============================] - 0s 6ms/step - loss: 0.1102 - accuracy: 1.0000 - val_loss: 0.1580 - val_accuracy: 1.0000\n",
            "Epoch 186/1000\n",
            "29/29 [==============================] - 0s 6ms/step - loss: 0.1055 - accuracy: 1.0000 - val_loss: 0.1517 - val_accuracy: 1.0000\n",
            "Epoch 187/1000\n",
            "29/29 [==============================] - 0s 6ms/step - loss: 0.1009 - accuracy: 1.0000 - val_loss: 0.1450 - val_accuracy: 1.0000\n",
            "Epoch 188/1000\n",
            "29/29 [==============================] - 0s 6ms/step - loss: 0.0964 - accuracy: 1.0000 - val_loss: 0.1390 - val_accuracy: 1.0000\n",
            "Epoch 189/1000\n",
            "29/29 [==============================] - 0s 6ms/step - loss: 0.0921 - accuracy: 1.0000 - val_loss: 0.1327 - val_accuracy: 1.0000\n",
            "Epoch 190/1000\n",
            "29/29 [==============================] - 0s 6ms/step - loss: 0.0879 - accuracy: 1.0000 - val_loss: 0.1266 - val_accuracy: 1.0000\n",
            "Epoch 191/1000\n",
            "29/29 [==============================] - 0s 5ms/step - loss: 0.0839 - accuracy: 1.0000 - val_loss: 0.1209 - val_accuracy: 1.0000\n",
            "Epoch 192/1000\n",
            "29/29 [==============================] - 0s 5ms/step - loss: 0.0802 - accuracy: 1.0000 - val_loss: 0.1159 - val_accuracy: 1.0000\n",
            "Epoch 193/1000\n",
            "29/29 [==============================] - 0s 6ms/step - loss: 0.0766 - accuracy: 1.0000 - val_loss: 0.1108 - val_accuracy: 1.0000\n",
            "Epoch 194/1000\n",
            "29/29 [==============================] - 0s 6ms/step - loss: 0.0730 - accuracy: 1.0000 - val_loss: 0.1056 - val_accuracy: 1.0000\n",
            "Epoch 195/1000\n",
            "29/29 [==============================] - 0s 6ms/step - loss: 0.0697 - accuracy: 1.0000 - val_loss: 0.1007 - val_accuracy: 1.0000\n",
            "Epoch 196/1000\n",
            "29/29 [==============================] - 0s 6ms/step - loss: 0.0663 - accuracy: 1.0000 - val_loss: 0.0961 - val_accuracy: 1.0000\n",
            "Epoch 197/1000\n",
            "29/29 [==============================] - 0s 6ms/step - loss: 0.0633 - accuracy: 1.0000 - val_loss: 0.0917 - val_accuracy: 1.0000\n",
            "Epoch 198/1000\n",
            "29/29 [==============================] - 0s 5ms/step - loss: 0.0604 - accuracy: 1.0000 - val_loss: 0.0876 - val_accuracy: 1.0000\n",
            "Epoch 199/1000\n",
            "29/29 [==============================] - 0s 5ms/step - loss: 0.0576 - accuracy: 1.0000 - val_loss: 0.0836 - val_accuracy: 1.0000\n",
            "Epoch 200/1000\n",
            "29/29 [==============================] - 0s 5ms/step - loss: 0.0550 - accuracy: 1.0000 - val_loss: 0.0798 - val_accuracy: 1.0000\n",
            "Epoch 201/1000\n",
            "29/29 [==============================] - 0s 5ms/step - loss: 0.0524 - accuracy: 1.0000 - val_loss: 0.0762 - val_accuracy: 1.0000\n",
            "Epoch 202/1000\n",
            "29/29 [==============================] - 0s 6ms/step - loss: 0.0499 - accuracy: 1.0000 - val_loss: 0.0728 - val_accuracy: 1.0000\n",
            "Epoch 203/1000\n",
            "29/29 [==============================] - 0s 6ms/step - loss: 0.0476 - accuracy: 1.0000 - val_loss: 0.0697 - val_accuracy: 1.0000\n",
            "Epoch 204/1000\n",
            "29/29 [==============================] - 0s 5ms/step - loss: 0.0453 - accuracy: 1.0000 - val_loss: 0.0662 - val_accuracy: 1.0000\n",
            "Epoch 205/1000\n",
            "29/29 [==============================] - 0s 6ms/step - loss: 0.0432 - accuracy: 1.0000 - val_loss: 0.0632 - val_accuracy: 1.0000\n",
            "Epoch 206/1000\n",
            "29/29 [==============================] - 0s 6ms/step - loss: 0.0411 - accuracy: 1.0000 - val_loss: 0.0602 - val_accuracy: 1.0000\n",
            "Epoch 207/1000\n",
            "29/29 [==============================] - 0s 6ms/step - loss: 0.0391 - accuracy: 1.0000 - val_loss: 0.0574 - val_accuracy: 1.0000\n",
            "Epoch 208/1000\n",
            "29/29 [==============================] - 0s 6ms/step - loss: 0.0372 - accuracy: 1.0000 - val_loss: 0.0547 - val_accuracy: 1.0000\n",
            "Epoch 209/1000\n",
            "29/29 [==============================] - 0s 5ms/step - loss: 0.0354 - accuracy: 1.0000 - val_loss: 0.0523 - val_accuracy: 1.0000\n",
            "Epoch 210/1000\n",
            "29/29 [==============================] - 0s 6ms/step - loss: 0.0337 - accuracy: 1.0000 - val_loss: 0.0497 - val_accuracy: 1.0000\n",
            "Epoch 211/1000\n",
            "29/29 [==============================] - 0s 5ms/step - loss: 0.0320 - accuracy: 1.0000 - val_loss: 0.0471 - val_accuracy: 1.0000\n",
            "Epoch 212/1000\n",
            "29/29 [==============================] - 0s 5ms/step - loss: 0.0304 - accuracy: 1.0000 - val_loss: 0.0448 - val_accuracy: 1.0000\n",
            "Epoch 213/1000\n",
            "29/29 [==============================] - 0s 6ms/step - loss: 0.0289 - accuracy: 1.0000 - val_loss: 0.0425 - val_accuracy: 1.0000\n",
            "Epoch 214/1000\n",
            "29/29 [==============================] - 0s 6ms/step - loss: 0.0274 - accuracy: 1.0000 - val_loss: 0.0404 - val_accuracy: 1.0000\n",
            "Epoch 215/1000\n",
            "29/29 [==============================] - 0s 5ms/step - loss: 0.0260 - accuracy: 1.0000 - val_loss: 0.0384 - val_accuracy: 1.0000\n",
            "Epoch 216/1000\n",
            "29/29 [==============================] - 0s 6ms/step - loss: 0.0247 - accuracy: 1.0000 - val_loss: 0.0364 - val_accuracy: 1.0000\n",
            "Epoch 217/1000\n",
            "29/29 [==============================] - 0s 6ms/step - loss: 0.0234 - accuracy: 1.0000 - val_loss: 0.0346 - val_accuracy: 1.0000\n",
            "Epoch 218/1000\n",
            "29/29 [==============================] - 0s 6ms/step - loss: 0.0222 - accuracy: 1.0000 - val_loss: 0.0328 - val_accuracy: 1.0000\n",
            "Epoch 219/1000\n",
            "29/29 [==============================] - 0s 6ms/step - loss: 0.0210 - accuracy: 1.0000 - val_loss: 0.0311 - val_accuracy: 1.0000\n",
            "Epoch 220/1000\n",
            "29/29 [==============================] - 0s 6ms/step - loss: 0.0199 - accuracy: 1.0000 - val_loss: 0.0294 - val_accuracy: 1.0000\n",
            "Epoch 221/1000\n",
            "29/29 [==============================] - 0s 6ms/step - loss: 0.0189 - accuracy: 1.0000 - val_loss: 0.0280 - val_accuracy: 1.0000\n",
            "Epoch 222/1000\n",
            "29/29 [==============================] - 0s 6ms/step - loss: 0.0179 - accuracy: 1.0000 - val_loss: 0.0265 - val_accuracy: 1.0000\n",
            "Epoch 223/1000\n",
            "29/29 [==============================] - 0s 6ms/step - loss: 0.0169 - accuracy: 1.0000 - val_loss: 0.0251 - val_accuracy: 1.0000\n",
            "Epoch 224/1000\n",
            "29/29 [==============================] - 0s 5ms/step - loss: 0.0160 - accuracy: 1.0000 - val_loss: 0.0239 - val_accuracy: 1.0000\n",
            "Epoch 225/1000\n",
            "29/29 [==============================] - 0s 6ms/step - loss: 0.0152 - accuracy: 1.0000 - val_loss: 0.0228 - val_accuracy: 1.0000\n",
            "Epoch 226/1000\n",
            "29/29 [==============================] - 0s 6ms/step - loss: 0.0144 - accuracy: 1.0000 - val_loss: 0.0215 - val_accuracy: 1.0000\n",
            "Epoch 227/1000\n",
            "29/29 [==============================] - 0s 6ms/step - loss: 0.0136 - accuracy: 1.0000 - val_loss: 0.0203 - val_accuracy: 1.0000\n",
            "Epoch 228/1000\n",
            "29/29 [==============================] - 0s 6ms/step - loss: 0.0129 - accuracy: 1.0000 - val_loss: 0.0192 - val_accuracy: 1.0000\n",
            "Epoch 229/1000\n",
            "29/29 [==============================] - 0s 6ms/step - loss: 0.0122 - accuracy: 1.0000 - val_loss: 0.0181 - val_accuracy: 1.0000\n",
            "Epoch 230/1000\n",
            "29/29 [==============================] - 0s 6ms/step - loss: 0.0115 - accuracy: 1.0000 - val_loss: 0.0171 - val_accuracy: 1.0000\n",
            "Epoch 231/1000\n",
            "29/29 [==============================] - 0s 6ms/step - loss: 0.0108 - accuracy: 1.0000 - val_loss: 0.0161 - val_accuracy: 1.0000\n",
            "Epoch 232/1000\n",
            "29/29 [==============================] - 0s 6ms/step - loss: 0.0102 - accuracy: 1.0000 - val_loss: 0.0152 - val_accuracy: 1.0000\n",
            "Epoch 233/1000\n",
            "29/29 [==============================] - 0s 6ms/step - loss: 0.0096 - accuracy: 1.0000 - val_loss: 0.0143 - val_accuracy: 1.0000\n",
            "Epoch 234/1000\n",
            "29/29 [==============================] - 0s 6ms/step - loss: 0.0091 - accuracy: 1.0000 - val_loss: 0.0134 - val_accuracy: 1.0000\n",
            "Epoch 235/1000\n",
            "29/29 [==============================] - 0s 6ms/step - loss: 0.0085 - accuracy: 1.0000 - val_loss: 0.0127 - val_accuracy: 1.0000\n",
            "Epoch 236/1000\n",
            "29/29 [==============================] - 0s 5ms/step - loss: 0.0081 - accuracy: 1.0000 - val_loss: 0.0119 - val_accuracy: 1.0000\n",
            "Epoch 237/1000\n",
            "29/29 [==============================] - 0s 6ms/step - loss: 0.0076 - accuracy: 1.0000 - val_loss: 0.0113 - val_accuracy: 1.0000\n",
            "Epoch 238/1000\n",
            "29/29 [==============================] - 0s 6ms/step - loss: 0.0071 - accuracy: 1.0000 - val_loss: 0.0106 - val_accuracy: 1.0000\n",
            "Epoch 239/1000\n",
            "29/29 [==============================] - 0s 6ms/step - loss: 0.0067 - accuracy: 1.0000 - val_loss: 0.0100 - val_accuracy: 1.0000\n",
            "Epoch 240/1000\n",
            "29/29 [==============================] - 0s 5ms/step - loss: 0.0063 - accuracy: 1.0000 - val_loss: 0.0094 - val_accuracy: 1.0000\n",
            "Epoch 241/1000\n",
            "29/29 [==============================] - 0s 6ms/step - loss: 0.0060 - accuracy: 1.0000 - val_loss: 0.0089 - val_accuracy: 1.0000\n",
            "Epoch 242/1000\n",
            "29/29 [==============================] - 0s 6ms/step - loss: 0.0056 - accuracy: 1.0000 - val_loss: 0.0083 - val_accuracy: 1.0000\n",
            "Epoch 243/1000\n",
            "29/29 [==============================] - 0s 6ms/step - loss: 0.0053 - accuracy: 1.0000 - val_loss: 0.0078 - val_accuracy: 1.0000\n",
            "Epoch 244/1000\n",
            "29/29 [==============================] - 0s 6ms/step - loss: 0.0049 - accuracy: 1.0000 - val_loss: 0.0073 - val_accuracy: 1.0000\n",
            "Epoch 245/1000\n",
            "29/29 [==============================] - 0s 6ms/step - loss: 0.0047 - accuracy: 1.0000 - val_loss: 0.0069 - val_accuracy: 1.0000\n",
            "Epoch 246/1000\n",
            "29/29 [==============================] - 0s 6ms/step - loss: 0.0044 - accuracy: 1.0000 - val_loss: 0.0065 - val_accuracy: 1.0000\n",
            "Epoch 247/1000\n",
            "29/29 [==============================] - 0s 6ms/step - loss: 0.0041 - accuracy: 1.0000 - val_loss: 0.0061 - val_accuracy: 1.0000\n",
            "Epoch 248/1000\n",
            "29/29 [==============================] - 0s 6ms/step - loss: 0.0039 - accuracy: 1.0000 - val_loss: 0.0058 - val_accuracy: 1.0000\n",
            "Epoch 249/1000\n",
            "29/29 [==============================] - 0s 6ms/step - loss: 0.0036 - accuracy: 1.0000 - val_loss: 0.0054 - val_accuracy: 1.0000\n",
            "Epoch 250/1000\n",
            "29/29 [==============================] - 0s 6ms/step - loss: 0.0034 - accuracy: 1.0000 - val_loss: 0.0051 - val_accuracy: 1.0000\n",
            "Epoch 251/1000\n",
            "29/29 [==============================] - 0s 5ms/step - loss: 0.0032 - accuracy: 1.0000 - val_loss: 0.0048 - val_accuracy: 1.0000\n",
            "Epoch 252/1000\n",
            "29/29 [==============================] - 0s 6ms/step - loss: 0.0030 - accuracy: 1.0000 - val_loss: 0.0045 - val_accuracy: 1.0000\n",
            "Epoch 253/1000\n",
            "29/29 [==============================] - 0s 6ms/step - loss: 0.0028 - accuracy: 1.0000 - val_loss: 0.0042 - val_accuracy: 1.0000\n",
            "Epoch 254/1000\n",
            "29/29 [==============================] - 0s 6ms/step - loss: 0.0027 - accuracy: 1.0000 - val_loss: 0.0040 - val_accuracy: 1.0000\n",
            "Epoch 255/1000\n",
            "29/29 [==============================] - 0s 6ms/step - loss: 0.0025 - accuracy: 1.0000 - val_loss: 0.0037 - val_accuracy: 1.0000\n",
            "Epoch 256/1000\n",
            "29/29 [==============================] - 0s 6ms/step - loss: 0.0023 - accuracy: 1.0000 - val_loss: 0.0035 - val_accuracy: 1.0000\n",
            "Epoch 257/1000\n",
            "29/29 [==============================] - 0s 6ms/step - loss: 0.0022 - accuracy: 1.0000 - val_loss: 0.0033 - val_accuracy: 1.0000\n",
            "Epoch 258/1000\n",
            "29/29 [==============================] - 0s 6ms/step - loss: 0.0020 - accuracy: 1.0000 - val_loss: 0.0031 - val_accuracy: 1.0000\n",
            "Epoch 259/1000\n",
            "29/29 [==============================] - 0s 6ms/step - loss: 0.0019 - accuracy: 1.0000 - val_loss: 0.0029 - val_accuracy: 1.0000\n",
            "Epoch 260/1000\n",
            "29/29 [==============================] - 0s 6ms/step - loss: 0.0018 - accuracy: 1.0000 - val_loss: 0.0027 - val_accuracy: 1.0000\n",
            "Epoch 261/1000\n",
            "29/29 [==============================] - 0s 6ms/step - loss: 0.0017 - accuracy: 1.0000 - val_loss: 0.0025 - val_accuracy: 1.0000\n",
            "Epoch 262/1000\n",
            "29/29 [==============================] - 0s 6ms/step - loss: 0.0016 - accuracy: 1.0000 - val_loss: 0.0024 - val_accuracy: 1.0000\n",
            "Epoch 263/1000\n",
            "29/29 [==============================] - 0s 6ms/step - loss: 0.0015 - accuracy: 1.0000 - val_loss: 0.0022 - val_accuracy: 1.0000\n",
            "Epoch 264/1000\n",
            "29/29 [==============================] - 0s 6ms/step - loss: 0.0014 - accuracy: 1.0000 - val_loss: 0.0021 - val_accuracy: 1.0000\n",
            "Epoch 265/1000\n",
            "29/29 [==============================] - 0s 6ms/step - loss: 0.0013 - accuracy: 1.0000 - val_loss: 0.0019 - val_accuracy: 1.0000\n",
            "Epoch 266/1000\n",
            "29/29 [==============================] - 0s 6ms/step - loss: 0.0012 - accuracy: 1.0000 - val_loss: 0.0018 - val_accuracy: 1.0000\n",
            "Epoch 267/1000\n",
            "29/29 [==============================] - 0s 6ms/step - loss: 0.0011 - accuracy: 1.0000 - val_loss: 0.0017 - val_accuracy: 1.0000\n",
            "Epoch 268/1000\n",
            "29/29 [==============================] - 0s 6ms/step - loss: 0.0010 - accuracy: 1.0000 - val_loss: 0.0016 - val_accuracy: 1.0000\n",
            "Epoch 269/1000\n",
            "29/29 [==============================] - 0s 5ms/step - loss: 9.7477e-04 - accuracy: 1.0000 - val_loss: 0.0015 - val_accuracy: 1.0000\n",
            "Epoch 270/1000\n",
            "29/29 [==============================] - 0s 7ms/step - loss: 9.0722e-04 - accuracy: 1.0000 - val_loss: 0.0014 - val_accuracy: 1.0000\n",
            "Epoch 271/1000\n",
            "29/29 [==============================] - 0s 6ms/step - loss: 8.4664e-04 - accuracy: 1.0000 - val_loss: 0.0013 - val_accuracy: 1.0000\n",
            "Epoch 272/1000\n",
            "29/29 [==============================] - 0s 7ms/step - loss: 7.8895e-04 - accuracy: 1.0000 - val_loss: 0.0012 - val_accuracy: 1.0000\n",
            "Epoch 273/1000\n",
            "29/29 [==============================] - 0s 6ms/step - loss: 7.3726e-04 - accuracy: 1.0000 - val_loss: 0.0011 - val_accuracy: 1.0000\n",
            "Epoch 274/1000\n",
            "29/29 [==============================] - 0s 6ms/step - loss: 6.8564e-04 - accuracy: 1.0000 - val_loss: 0.0010 - val_accuracy: 1.0000\n",
            "Epoch 275/1000\n",
            "29/29 [==============================] - 0s 6ms/step - loss: 6.3743e-04 - accuracy: 1.0000 - val_loss: 9.5606e-04 - val_accuracy: 1.0000\n",
            "Epoch 276/1000\n",
            "29/29 [==============================] - 0s 7ms/step - loss: 5.9362e-04 - accuracy: 1.0000 - val_loss: 8.9170e-04 - val_accuracy: 1.0000\n",
            "Epoch 277/1000\n",
            "29/29 [==============================] - 0s 6ms/step - loss: 5.5282e-04 - accuracy: 1.0000 - val_loss: 8.3476e-04 - val_accuracy: 1.0000\n",
            "Epoch 278/1000\n",
            "29/29 [==============================] - 0s 6ms/step - loss: 5.1423e-04 - accuracy: 1.0000 - val_loss: 7.7643e-04 - val_accuracy: 1.0000\n",
            "Epoch 279/1000\n",
            "29/29 [==============================] - 0s 6ms/step - loss: 4.7909e-04 - accuracy: 1.0000 - val_loss: 7.2360e-04 - val_accuracy: 1.0000\n",
            "Epoch 280/1000\n",
            "29/29 [==============================] - 0s 6ms/step - loss: 4.4504e-04 - accuracy: 1.0000 - val_loss: 6.7159e-04 - val_accuracy: 1.0000\n",
            "Epoch 281/1000\n",
            "29/29 [==============================] - 0s 6ms/step - loss: 4.1280e-04 - accuracy: 1.0000 - val_loss: 6.2586e-04 - val_accuracy: 1.0000\n",
            "Epoch 282/1000\n",
            "29/29 [==============================] - 0s 6ms/step - loss: 3.8290e-04 - accuracy: 1.0000 - val_loss: 5.7428e-04 - val_accuracy: 1.0000\n",
            "Epoch 283/1000\n",
            "29/29 [==============================] - 0s 6ms/step - loss: 3.5547e-04 - accuracy: 1.0000 - val_loss: 5.3739e-04 - val_accuracy: 1.0000\n",
            "Epoch 284/1000\n",
            "29/29 [==============================] - 0s 6ms/step - loss: 3.3039e-04 - accuracy: 1.0000 - val_loss: 4.9884e-04 - val_accuracy: 1.0000\n",
            "Epoch 285/1000\n",
            "29/29 [==============================] - 0s 6ms/step - loss: 3.0675e-04 - accuracy: 1.0000 - val_loss: 4.6490e-04 - val_accuracy: 1.0000\n",
            "Epoch 286/1000\n",
            "29/29 [==============================] - 0s 7ms/step - loss: 2.8452e-04 - accuracy: 1.0000 - val_loss: 4.3074e-04 - val_accuracy: 1.0000\n",
            "Epoch 287/1000\n",
            "29/29 [==============================] - 0s 6ms/step - loss: 2.6378e-04 - accuracy: 1.0000 - val_loss: 3.9650e-04 - val_accuracy: 1.0000\n",
            "Epoch 288/1000\n",
            "29/29 [==============================] - 0s 6ms/step - loss: 2.4422e-04 - accuracy: 1.0000 - val_loss: 3.6814e-04 - val_accuracy: 1.0000\n",
            "Epoch 289/1000\n",
            "29/29 [==============================] - 0s 5ms/step - loss: 2.2616e-04 - accuracy: 1.0000 - val_loss: 3.4176e-04 - val_accuracy: 1.0000\n",
            "Epoch 290/1000\n",
            "29/29 [==============================] - 0s 6ms/step - loss: 2.0999e-04 - accuracy: 1.0000 - val_loss: 3.1888e-04 - val_accuracy: 1.0000\n",
            "Epoch 291/1000\n",
            "29/29 [==============================] - 0s 6ms/step - loss: 1.9482e-04 - accuracy: 1.0000 - val_loss: 2.9226e-04 - val_accuracy: 1.0000\n",
            "Epoch 292/1000\n",
            "29/29 [==============================] - 0s 7ms/step - loss: 1.8054e-04 - accuracy: 1.0000 - val_loss: 2.7134e-04 - val_accuracy: 1.0000\n",
            "Epoch 293/1000\n",
            "29/29 [==============================] - 0s 6ms/step - loss: 1.6710e-04 - accuracy: 1.0000 - val_loss: 2.5197e-04 - val_accuracy: 1.0000\n",
            "Epoch 294/1000\n",
            "29/29 [==============================] - 0s 6ms/step - loss: 1.5477e-04 - accuracy: 1.0000 - val_loss: 2.3252e-04 - val_accuracy: 1.0000\n",
            "Epoch 295/1000\n",
            "29/29 [==============================] - 0s 5ms/step - loss: 1.4272e-04 - accuracy: 1.0000 - val_loss: 2.1626e-04 - val_accuracy: 1.0000\n",
            "Epoch 296/1000\n",
            "29/29 [==============================] - 0s 6ms/step - loss: 1.3214e-04 - accuracy: 1.0000 - val_loss: 1.9937e-04 - val_accuracy: 1.0000\n",
            "Epoch 297/1000\n",
            "29/29 [==============================] - 0s 7ms/step - loss: 1.2196e-04 - accuracy: 1.0000 - val_loss: 1.8252e-04 - val_accuracy: 1.0000\n",
            "Epoch 298/1000\n",
            "29/29 [==============================] - 0s 6ms/step - loss: 1.1259e-04 - accuracy: 1.0000 - val_loss: 1.6872e-04 - val_accuracy: 1.0000\n",
            "Epoch 299/1000\n",
            "29/29 [==============================] - 0s 6ms/step - loss: 1.0426e-04 - accuracy: 1.0000 - val_loss: 1.5654e-04 - val_accuracy: 1.0000\n",
            "Epoch 300/1000\n",
            "29/29 [==============================] - 0s 6ms/step - loss: 9.6328e-05 - accuracy: 1.0000 - val_loss: 1.4439e-04 - val_accuracy: 1.0000\n",
            "Epoch 301/1000\n",
            "29/29 [==============================] - 0s 6ms/step - loss: 8.8687e-05 - accuracy: 1.0000 - val_loss: 1.3255e-04 - val_accuracy: 1.0000\n",
            "Epoch 302/1000\n",
            "29/29 [==============================] - 0s 6ms/step - loss: 8.1729e-05 - accuracy: 1.0000 - val_loss: 1.2281e-04 - val_accuracy: 1.0000\n",
            "Epoch 303/1000\n",
            "29/29 [==============================] - 0s 6ms/step - loss: 7.5266e-05 - accuracy: 1.0000 - val_loss: 1.1222e-04 - val_accuracy: 1.0000\n",
            "Epoch 304/1000\n",
            "29/29 [==============================] - 0s 6ms/step - loss: 6.9458e-05 - accuracy: 1.0000 - val_loss: 1.0348e-04 - val_accuracy: 1.0000\n",
            "Epoch 305/1000\n",
            "29/29 [==============================] - 0s 6ms/step - loss: 6.3818e-05 - accuracy: 1.0000 - val_loss: 9.5083e-05 - val_accuracy: 1.0000\n",
            "Epoch 306/1000\n",
            "29/29 [==============================] - 0s 6ms/step - loss: 5.8874e-05 - accuracy: 1.0000 - val_loss: 8.8147e-05 - val_accuracy: 1.0000\n",
            "Epoch 307/1000\n",
            "29/29 [==============================] - 0s 6ms/step - loss: 5.4106e-05 - accuracy: 1.0000 - val_loss: 8.0341e-05 - val_accuracy: 1.0000\n",
            "Epoch 308/1000\n",
            "29/29 [==============================] - 0s 6ms/step - loss: 4.9735e-05 - accuracy: 1.0000 - val_loss: 7.4035e-05 - val_accuracy: 1.0000\n",
            "Epoch 309/1000\n",
            "29/29 [==============================] - 0s 6ms/step - loss: 4.5788e-05 - accuracy: 1.0000 - val_loss: 6.8477e-05 - val_accuracy: 1.0000\n",
            "Epoch 310/1000\n",
            "29/29 [==============================] - 0s 6ms/step - loss: 4.2069e-05 - accuracy: 1.0000 - val_loss: 6.2864e-05 - val_accuracy: 1.0000\n",
            "Epoch 311/1000\n",
            "29/29 [==============================] - 0s 6ms/step - loss: 3.8738e-05 - accuracy: 1.0000 - val_loss: 5.7776e-05 - val_accuracy: 1.0000\n",
            "Epoch 312/1000\n",
            "29/29 [==============================] - 0s 6ms/step - loss: 3.5733e-05 - accuracy: 1.0000 - val_loss: 5.3693e-05 - val_accuracy: 1.0000\n",
            "Epoch 313/1000\n",
            "29/29 [==============================] - 0s 6ms/step - loss: 3.2871e-05 - accuracy: 1.0000 - val_loss: 4.8683e-05 - val_accuracy: 1.0000\n",
            "Epoch 314/1000\n",
            "29/29 [==============================] - 0s 6ms/step - loss: 3.0205e-05 - accuracy: 1.0000 - val_loss: 4.5174e-05 - val_accuracy: 1.0000\n",
            "Epoch 315/1000\n",
            "29/29 [==============================] - 0s 6ms/step - loss: 2.7744e-05 - accuracy: 1.0000 - val_loss: 4.1230e-05 - val_accuracy: 1.0000\n",
            "Epoch 316/1000\n",
            "29/29 [==============================] - 0s 6ms/step - loss: 2.5499e-05 - accuracy: 1.0000 - val_loss: 3.8093e-05 - val_accuracy: 1.0000\n",
            "Epoch 317/1000\n",
            "29/29 [==============================] - 0s 6ms/step - loss: 2.3425e-05 - accuracy: 1.0000 - val_loss: 3.4867e-05 - val_accuracy: 1.0000\n",
            "Epoch 318/1000\n",
            "29/29 [==============================] - 0s 6ms/step - loss: 2.1539e-05 - accuracy: 1.0000 - val_loss: 3.1992e-05 - val_accuracy: 1.0000\n",
            "Epoch 319/1000\n",
            "29/29 [==============================] - 0s 6ms/step - loss: 1.9778e-05 - accuracy: 1.0000 - val_loss: 2.9224e-05 - val_accuracy: 1.0000\n",
            "Epoch 320/1000\n",
            "29/29 [==============================] - 0s 6ms/step - loss: 1.8171e-05 - accuracy: 1.0000 - val_loss: 2.6855e-05 - val_accuracy: 1.0000\n",
            "Epoch 321/1000\n",
            "29/29 [==============================] - 0s 6ms/step - loss: 1.6708e-05 - accuracy: 1.0000 - val_loss: 2.4705e-05 - val_accuracy: 1.0000\n",
            "Epoch 322/1000\n",
            "29/29 [==============================] - 0s 7ms/step - loss: 1.5323e-05 - accuracy: 1.0000 - val_loss: 2.2627e-05 - val_accuracy: 1.0000\n",
            "Epoch 323/1000\n",
            "29/29 [==============================] - 0s 6ms/step - loss: 1.4095e-05 - accuracy: 1.0000 - val_loss: 2.0895e-05 - val_accuracy: 1.0000\n",
            "Epoch 324/1000\n",
            "29/29 [==============================] - 0s 7ms/step - loss: 1.2981e-05 - accuracy: 1.0000 - val_loss: 1.9170e-05 - val_accuracy: 1.0000\n",
            "Epoch 325/1000\n",
            "29/29 [==============================] - 0s 7ms/step - loss: 1.1922e-05 - accuracy: 1.0000 - val_loss: 1.7672e-05 - val_accuracy: 1.0000\n",
            "Epoch 326/1000\n",
            "29/29 [==============================] - 0s 6ms/step - loss: 1.0932e-05 - accuracy: 1.0000 - val_loss: 1.6100e-05 - val_accuracy: 1.0000\n",
            "Epoch 327/1000\n",
            "29/29 [==============================] - 0s 6ms/step - loss: 1.0028e-05 - accuracy: 1.0000 - val_loss: 1.4849e-05 - val_accuracy: 1.0000\n",
            "Epoch 328/1000\n",
            "29/29 [==============================] - 0s 6ms/step - loss: 9.2581e-06 - accuracy: 1.0000 - val_loss: 1.3638e-05 - val_accuracy: 1.0000\n",
            "Epoch 329/1000\n",
            "29/29 [==============================] - 0s 6ms/step - loss: 8.4936e-06 - accuracy: 1.0000 - val_loss: 1.2509e-05 - val_accuracy: 1.0000\n",
            "Epoch 330/1000\n",
            "29/29 [==============================] - 0s 7ms/step - loss: 7.8210e-06 - accuracy: 1.0000 - val_loss: 1.1533e-05 - val_accuracy: 1.0000\n",
            "Epoch 331/1000\n",
            "29/29 [==============================] - 0s 7ms/step - loss: 7.1653e-06 - accuracy: 1.0000 - val_loss: 1.0520e-05 - val_accuracy: 1.0000\n",
            "Epoch 332/1000\n",
            "29/29 [==============================] - 0s 6ms/step - loss: 6.5652e-06 - accuracy: 1.0000 - val_loss: 9.6335e-06 - val_accuracy: 1.0000\n",
            "Epoch 333/1000\n",
            "29/29 [==============================] - 0s 6ms/step - loss: 6.0266e-06 - accuracy: 1.0000 - val_loss: 8.7506e-06 - val_accuracy: 1.0000\n",
            "Epoch 334/1000\n",
            "29/29 [==============================] - 0s 6ms/step - loss: 5.5515e-06 - accuracy: 1.0000 - val_loss: 8.1136e-06 - val_accuracy: 1.0000\n",
            "Epoch 335/1000\n",
            "29/29 [==============================] - 0s 6ms/step - loss: 5.1243e-06 - accuracy: 1.0000 - val_loss: 7.4841e-06 - val_accuracy: 1.0000\n",
            "Epoch 336/1000\n",
            "29/29 [==============================] - 0s 6ms/step - loss: 4.7332e-06 - accuracy: 1.0000 - val_loss: 6.9029e-06 - val_accuracy: 1.0000\n",
            "Epoch 337/1000\n",
            "29/29 [==============================] - 0s 6ms/step - loss: 4.3586e-06 - accuracy: 1.0000 - val_loss: 6.3106e-06 - val_accuracy: 1.0000\n",
            "Epoch 338/1000\n",
            "29/29 [==============================] - 0s 6ms/step - loss: 4.0258e-06 - accuracy: 1.0000 - val_loss: 5.8300e-06 - val_accuracy: 1.0000\n",
            "Epoch 339/1000\n",
            "29/29 [==============================] - 0s 7ms/step - loss: 3.7050e-06 - accuracy: 1.0000 - val_loss: 5.4389e-06 - val_accuracy: 1.0000\n",
            "Epoch 340/1000\n",
            "29/29 [==============================] - 0s 6ms/step - loss: 3.4140e-06 - accuracy: 1.0000 - val_loss: 4.9695e-06 - val_accuracy: 1.0000\n",
            "Epoch 341/1000\n",
            "29/29 [==============================] - 0s 6ms/step - loss: 3.1594e-06 - accuracy: 1.0000 - val_loss: 4.5933e-06 - val_accuracy: 1.0000\n",
            "Epoch 342/1000\n",
            "29/29 [==============================] - 0s 6ms/step - loss: 2.9243e-06 - accuracy: 1.0000 - val_loss: 4.2654e-06 - val_accuracy: 1.0000\n",
            "Epoch 343/1000\n",
            "29/29 [==============================] - 0s 6ms/step - loss: 2.7240e-06 - accuracy: 1.0000 - val_loss: 3.9376e-06 - val_accuracy: 1.0000\n",
            "Epoch 344/1000\n",
            "29/29 [==============================] - 0s 7ms/step - loss: 2.5295e-06 - accuracy: 1.0000 - val_loss: 3.6843e-06 - val_accuracy: 1.0000\n",
            "Epoch 345/1000\n",
            "29/29 [==============================] - 0s 6ms/step - loss: 2.3560e-06 - accuracy: 1.0000 - val_loss: 3.4235e-06 - val_accuracy: 1.0000\n",
            "Epoch 346/1000\n",
            "29/29 [==============================] - 0s 6ms/step - loss: 2.1772e-06 - accuracy: 1.0000 - val_loss: 3.1516e-06 - val_accuracy: 1.0000\n",
            "Epoch 347/1000\n",
            "29/29 [==============================] - 0s 6ms/step - loss: 2.0286e-06 - accuracy: 1.0000 - val_loss: 2.9132e-06 - val_accuracy: 1.0000\n",
            "Epoch 348/1000\n",
            "29/29 [==============================] - 0s 6ms/step - loss: 1.8809e-06 - accuracy: 1.0000 - val_loss: 2.7120e-06 - val_accuracy: 1.0000\n",
            "Epoch 349/1000\n",
            "29/29 [==============================] - 0s 6ms/step - loss: 1.7546e-06 - accuracy: 1.0000 - val_loss: 2.5146e-06 - val_accuracy: 1.0000\n",
            "Epoch 350/1000\n",
            "29/29 [==============================] - 0s 6ms/step - loss: 1.6292e-06 - accuracy: 1.0000 - val_loss: 2.3246e-06 - val_accuracy: 1.0000\n",
            "Epoch 351/1000\n",
            "29/29 [==============================] - 0s 6ms/step - loss: 1.5145e-06 - accuracy: 1.0000 - val_loss: 2.1532e-06 - val_accuracy: 1.0000\n",
            "Epoch 352/1000\n",
            "29/29 [==============================] - 0s 6ms/step - loss: 1.4044e-06 - accuracy: 1.0000 - val_loss: 2.0005e-06 - val_accuracy: 1.0000\n",
            "Epoch 353/1000\n",
            "29/29 [==============================] - 0s 6ms/step - loss: 1.3101e-06 - accuracy: 1.0000 - val_loss: 1.8626e-06 - val_accuracy: 1.0000\n",
            "Epoch 354/1000\n",
            "29/29 [==============================] - 0s 6ms/step - loss: 1.2385e-06 - accuracy: 1.0000 - val_loss: 1.7360e-06 - val_accuracy: 1.0000\n",
            "Epoch 355/1000\n",
            "29/29 [==============================] - 0s 6ms/step - loss: 1.1594e-06 - accuracy: 1.0000 - val_loss: 1.6205e-06 - val_accuracy: 1.0000\n",
            "Epoch 356/1000\n",
            "29/29 [==============================] - 0s 6ms/step - loss: 1.0878e-06 - accuracy: 1.0000 - val_loss: 1.5125e-06 - val_accuracy: 1.0000\n",
            "Epoch 357/1000\n",
            "29/29 [==============================] - 0s 6ms/step - loss: 1.0158e-06 - accuracy: 1.0000 - val_loss: 1.4417e-06 - val_accuracy: 1.0000\n",
            "Epoch 358/1000\n",
            "29/29 [==============================] - 0s 6ms/step - loss: 9.5285e-07 - accuracy: 1.0000 - val_loss: 1.3076e-06 - val_accuracy: 1.0000\n",
            "Epoch 359/1000\n",
            "29/29 [==============================] - 0s 6ms/step - loss: 8.9076e-07 - accuracy: 1.0000 - val_loss: 1.2852e-06 - val_accuracy: 1.0000\n",
            "Epoch 360/1000\n",
            "29/29 [==============================] - 0s 6ms/step - loss: 8.3819e-07 - accuracy: 1.0000 - val_loss: 1.1958e-06 - val_accuracy: 1.0000\n",
            "Epoch 361/1000\n",
            "29/29 [==============================] - 0s 6ms/step - loss: 7.7941e-07 - accuracy: 1.0000 - val_loss: 1.1213e-06 - val_accuracy: 1.0000\n",
            "Epoch 362/1000\n",
            "29/29 [==============================] - 0s 6ms/step - loss: 7.3347e-07 - accuracy: 1.0000 - val_loss: 1.0319e-06 - val_accuracy: 1.0000\n",
            "Epoch 363/1000\n",
            "29/29 [==============================] - 0s 6ms/step - loss: 6.8628e-07 - accuracy: 1.0000 - val_loss: 9.7603e-07 - val_accuracy: 1.0000\n",
            "Epoch 364/1000\n",
            "29/29 [==============================] - 0s 6ms/step - loss: 6.4820e-07 - accuracy: 1.0000 - val_loss: 9.2760e-07 - val_accuracy: 1.0000\n",
            "Epoch 365/1000\n",
            "29/29 [==============================] - 0s 6ms/step - loss: 6.1467e-07 - accuracy: 1.0000 - val_loss: 8.7544e-07 - val_accuracy: 1.0000\n",
            "Epoch 366/1000\n",
            "29/29 [==============================] - 0s 6ms/step - loss: 5.9025e-07 - accuracy: 1.0000 - val_loss: 8.5682e-07 - val_accuracy: 1.0000\n",
            "Epoch 367/1000\n",
            "29/29 [==============================] - 0s 6ms/step - loss: 5.7287e-07 - accuracy: 1.0000 - val_loss: 8.1211e-07 - val_accuracy: 1.0000\n",
            "Epoch 368/1000\n",
            "29/29 [==============================] - 0s 6ms/step - loss: 5.4886e-07 - accuracy: 1.0000 - val_loss: 7.4133e-07 - val_accuracy: 1.0000\n",
            "Epoch 369/1000\n",
            "29/29 [==============================] - 0s 6ms/step - loss: 5.1988e-07 - accuracy: 1.0000 - val_loss: 7.2271e-07 - val_accuracy: 1.0000\n",
            "Epoch 370/1000\n",
            "29/29 [==============================] - 0s 6ms/step - loss: 4.9877e-07 - accuracy: 1.0000 - val_loss: 6.8173e-07 - val_accuracy: 1.0000\n",
            "Epoch 371/1000\n",
            "29/29 [==============================] - 0s 6ms/step - loss: 4.7932e-07 - accuracy: 1.0000 - val_loss: 6.5938e-07 - val_accuracy: 1.0000\n",
            "Epoch 372/1000\n",
            "29/29 [==============================] - 0s 6ms/step - loss: 4.5159e-07 - accuracy: 1.0000 - val_loss: 6.2212e-07 - val_accuracy: 1.0000\n",
            "Epoch 373/1000\n",
            "29/29 [==============================] - 0s 6ms/step - loss: 4.3503e-07 - accuracy: 1.0000 - val_loss: 5.9605e-07 - val_accuracy: 1.0000\n",
            "Epoch 374/1000\n",
            "29/29 [==============================] - 0s 5ms/step - loss: 4.1061e-07 - accuracy: 1.0000 - val_loss: 5.6624e-07 - val_accuracy: 1.0000\n",
            "Epoch 375/1000\n",
            "29/29 [==============================] - 0s 6ms/step - loss: 3.8536e-07 - accuracy: 1.0000 - val_loss: 5.4017e-07 - val_accuracy: 1.0000\n",
            "Epoch 376/1000\n",
            "29/29 [==============================] - 0s 6ms/step - loss: 3.6218e-07 - accuracy: 1.0000 - val_loss: 5.2154e-07 - val_accuracy: 1.0000\n",
            "Epoch 377/1000\n",
            "29/29 [==============================] - 0s 6ms/step - loss: 3.3983e-07 - accuracy: 1.0000 - val_loss: 5.0664e-07 - val_accuracy: 1.0000\n",
            "Epoch 378/1000\n",
            "29/29 [==============================] - 0s 6ms/step - loss: 3.3403e-07 - accuracy: 1.0000 - val_loss: 4.6566e-07 - val_accuracy: 1.0000\n",
            "Epoch 379/1000\n",
            "29/29 [==============================] - 0s 6ms/step - loss: 3.1292e-07 - accuracy: 1.0000 - val_loss: 4.2841e-07 - val_accuracy: 1.0000\n",
            "Epoch 380/1000\n",
            "29/29 [==============================] - 0s 6ms/step - loss: 2.9637e-07 - accuracy: 1.0000 - val_loss: 4.2096e-07 - val_accuracy: 1.0000\n",
            "Epoch 381/1000\n",
            "29/29 [==============================] - 0s 6ms/step - loss: 2.8850e-07 - accuracy: 1.0000 - val_loss: 4.1723e-07 - val_accuracy: 1.0000\n",
            "Epoch 382/1000\n",
            "29/29 [==============================] - 0s 6ms/step - loss: 2.8602e-07 - accuracy: 1.0000 - val_loss: 4.0978e-07 - val_accuracy: 1.0000\n",
            "Epoch 383/1000\n",
            "29/29 [==============================] - 0s 6ms/step - loss: 2.7443e-07 - accuracy: 1.0000 - val_loss: 3.6880e-07 - val_accuracy: 1.0000\n",
            "Epoch 384/1000\n",
            "29/29 [==============================] - 0s 7ms/step - loss: 2.5415e-07 - accuracy: 1.0000 - val_loss: 3.5390e-07 - val_accuracy: 1.0000\n",
            "Epoch 385/1000\n",
            "29/29 [==============================] - 0s 6ms/step - loss: 2.4256e-07 - accuracy: 1.0000 - val_loss: 3.5390e-07 - val_accuracy: 1.0000\n",
            "Epoch 386/1000\n",
            "29/29 [==============================] - 0s 7ms/step - loss: 2.3635e-07 - accuracy: 1.0000 - val_loss: 3.4273e-07 - val_accuracy: 1.0000\n",
            "Epoch 387/1000\n",
            "29/29 [==============================] - 0s 6ms/step - loss: 2.3221e-07 - accuracy: 1.0000 - val_loss: 3.3900e-07 - val_accuracy: 1.0000\n",
            "Epoch 388/1000\n",
            "29/29 [==============================] - 0s 6ms/step - loss: 2.2228e-07 - accuracy: 1.0000 - val_loss: 3.3900e-07 - val_accuracy: 1.0000\n",
            "Epoch 389/1000\n",
            "29/29 [==============================] - 0s 7ms/step - loss: 2.2269e-07 - accuracy: 1.0000 - val_loss: 3.1665e-07 - val_accuracy: 1.0000\n",
            "Epoch 390/1000\n",
            "29/29 [==============================] - 0s 6ms/step - loss: 2.0862e-07 - accuracy: 1.0000 - val_loss: 2.9802e-07 - val_accuracy: 1.0000\n",
            "Epoch 391/1000\n",
            "29/29 [==============================] - 0s 6ms/step - loss: 1.9910e-07 - accuracy: 1.0000 - val_loss: 2.7940e-07 - val_accuracy: 1.0000\n",
            "Epoch 392/1000\n",
            "29/29 [==============================] - 0s 6ms/step - loss: 1.8999e-07 - accuracy: 1.0000 - val_loss: 2.6822e-07 - val_accuracy: 1.0000\n",
            "Epoch 393/1000\n",
            "29/29 [==============================] - 0s 6ms/step - loss: 1.8378e-07 - accuracy: 1.0000 - val_loss: 2.6077e-07 - val_accuracy: 1.0000\n",
            "Epoch 394/1000\n",
            "29/29 [==============================] - 0s 6ms/step - loss: 1.8254e-07 - accuracy: 1.0000 - val_loss: 2.5704e-07 - val_accuracy: 1.0000\n",
            "Epoch 395/1000\n",
            "29/29 [==============================] - 0s 6ms/step - loss: 1.8047e-07 - accuracy: 1.0000 - val_loss: 2.5704e-07 - val_accuracy: 1.0000\n",
            "Epoch 396/1000\n",
            "29/29 [==============================] - 0s 6ms/step - loss: 1.7674e-07 - accuracy: 1.0000 - val_loss: 2.5332e-07 - val_accuracy: 1.0000\n",
            "Epoch 397/1000\n",
            "29/29 [==============================] - 0s 6ms/step - loss: 1.7054e-07 - accuracy: 1.0000 - val_loss: 2.3842e-07 - val_accuracy: 1.0000\n",
            "Epoch 398/1000\n",
            "29/29 [==============================] - 0s 6ms/step - loss: 1.6557e-07 - accuracy: 1.0000 - val_loss: 2.1234e-07 - val_accuracy: 1.0000\n",
            "Epoch 399/1000\n",
            "29/29 [==============================] - 0s 7ms/step - loss: 1.5274e-07 - accuracy: 1.0000 - val_loss: 2.0489e-07 - val_accuracy: 1.0000\n",
            "Epoch 400/1000\n",
            "29/29 [==============================] - 0s 6ms/step - loss: 1.4653e-07 - accuracy: 1.0000 - val_loss: 1.8999e-07 - val_accuracy: 1.0000\n",
            "Epoch 401/1000\n",
            "29/29 [==============================] - 0s 6ms/step - loss: 1.3866e-07 - accuracy: 1.0000 - val_loss: 1.8626e-07 - val_accuracy: 1.0000\n",
            "Epoch 402/1000\n",
            "29/29 [==============================] - 0s 6ms/step - loss: 1.2832e-07 - accuracy: 1.0000 - val_loss: 1.9372e-07 - val_accuracy: 1.0000\n",
            "Epoch 403/1000\n",
            "29/29 [==============================] - 0s 6ms/step - loss: 1.2666e-07 - accuracy: 1.0000 - val_loss: 1.7881e-07 - val_accuracy: 1.0000\n",
            "Epoch 404/1000\n",
            "29/29 [==============================] - 0s 6ms/step - loss: 1.2004e-07 - accuracy: 1.0000 - val_loss: 1.6764e-07 - val_accuracy: 1.0000\n",
            "Epoch 405/1000\n",
            "29/29 [==============================] - 0s 6ms/step - loss: 1.1755e-07 - accuracy: 1.0000 - val_loss: 1.6391e-07 - val_accuracy: 1.0000\n",
            "Epoch 406/1000\n",
            "29/29 [==============================] - 0s 6ms/step - loss: 1.1838e-07 - accuracy: 1.0000 - val_loss: 1.5274e-07 - val_accuracy: 1.0000\n",
            "Epoch 407/1000\n",
            "29/29 [==============================] - 0s 6ms/step - loss: 1.1424e-07 - accuracy: 1.0000 - val_loss: 1.6019e-07 - val_accuracy: 1.0000\n",
            "Epoch 408/1000\n",
            "29/29 [==============================] - 0s 6ms/step - loss: 1.1507e-07 - accuracy: 1.0000 - val_loss: 1.5274e-07 - val_accuracy: 1.0000\n",
            "Epoch 409/1000\n",
            "29/29 [==============================] - 0s 6ms/step - loss: 1.1217e-07 - accuracy: 1.0000 - val_loss: 1.5274e-07 - val_accuracy: 1.0000\n",
            "Epoch 410/1000\n",
            "29/29 [==============================] - 0s 7ms/step - loss: 1.1052e-07 - accuracy: 1.0000 - val_loss: 1.3039e-07 - val_accuracy: 1.0000\n",
            "Epoch 411/1000\n",
            "29/29 [==============================] - 0s 6ms/step - loss: 1.0762e-07 - accuracy: 1.0000 - val_loss: 1.3784e-07 - val_accuracy: 1.0000\n",
            "Epoch 412/1000\n",
            "29/29 [==============================] - 0s 6ms/step - loss: 1.0803e-07 - accuracy: 1.0000 - val_loss: 1.3784e-07 - val_accuracy: 1.0000\n",
            "Epoch 413/1000\n",
            "29/29 [==============================] - 0s 6ms/step - loss: 1.0182e-07 - accuracy: 1.0000 - val_loss: 1.4901e-07 - val_accuracy: 1.0000\n",
            "Epoch 414/1000\n",
            "29/29 [==============================] - 0s 6ms/step - loss: 1.0928e-07 - accuracy: 1.0000 - val_loss: 1.3411e-07 - val_accuracy: 1.0000\n",
            "Epoch 415/1000\n",
            "29/29 [==============================] - 0s 6ms/step - loss: 9.9755e-08 - accuracy: 1.0000 - val_loss: 1.1921e-07 - val_accuracy: 1.0000\n",
            "Epoch 416/1000\n",
            "29/29 [==============================] - 0s 7ms/step - loss: 9.9341e-08 - accuracy: 1.0000 - val_loss: 1.2293e-07 - val_accuracy: 1.0000\n",
            "Epoch 417/1000\n",
            "29/29 [==============================] - 0s 7ms/step - loss: 9.2718e-08 - accuracy: 1.0000 - val_loss: 1.1921e-07 - val_accuracy: 1.0000\n",
            "Epoch 418/1000\n",
            "29/29 [==============================] - 0s 6ms/step - loss: 9.6030e-08 - accuracy: 1.0000 - val_loss: 1.0803e-07 - val_accuracy: 1.0000\n",
            "Epoch 419/1000\n",
            "29/29 [==============================] - 0s 6ms/step - loss: 8.9407e-08 - accuracy: 1.0000 - val_loss: 1.2666e-07 - val_accuracy: 1.0000\n",
            "Epoch 420/1000\n",
            "29/29 [==============================] - 0s 6ms/step - loss: 9.1477e-08 - accuracy: 1.0000 - val_loss: 1.0431e-07 - val_accuracy: 1.0000\n",
            "Epoch 421/1000\n",
            "29/29 [==============================] - 0s 6ms/step - loss: 8.3198e-08 - accuracy: 1.0000 - val_loss: 1.0058e-07 - val_accuracy: 1.0000\n",
            "Epoch 422/1000\n",
            "29/29 [==============================] - 0s 6ms/step - loss: 7.7403e-08 - accuracy: 1.0000 - val_loss: 9.6858e-08 - val_accuracy: 1.0000\n",
            "Epoch 423/1000\n",
            "29/29 [==============================] - 0s 6ms/step - loss: 7.8231e-08 - accuracy: 1.0000 - val_loss: 9.3132e-08 - val_accuracy: 1.0000\n",
            "Epoch 424/1000\n",
            "29/29 [==============================] - 0s 6ms/step - loss: 7.3264e-08 - accuracy: 1.0000 - val_loss: 1.0058e-07 - val_accuracy: 1.0000\n",
            "Epoch 425/1000\n",
            "29/29 [==============================] - 0s 6ms/step - loss: 7.2436e-08 - accuracy: 1.0000 - val_loss: 1.0803e-07 - val_accuracy: 1.0000\n",
            "Epoch 426/1000\n",
            "29/29 [==============================] - 0s 6ms/step - loss: 7.0367e-08 - accuracy: 1.0000 - val_loss: 9.3132e-08 - val_accuracy: 1.0000\n",
            "Epoch 427/1000\n",
            "29/29 [==============================] - 0s 6ms/step - loss: 7.5334e-08 - accuracy: 1.0000 - val_loss: 8.9407e-08 - val_accuracy: 1.0000\n",
            "Epoch 428/1000\n",
            "29/29 [==============================] - 0s 6ms/step - loss: 6.5813e-08 - accuracy: 1.0000 - val_loss: 9.6858e-08 - val_accuracy: 1.0000\n",
            "Epoch 429/1000\n",
            "29/29 [==============================] - 0s 6ms/step - loss: 6.5400e-08 - accuracy: 1.0000 - val_loss: 1.0803e-07 - val_accuracy: 1.0000\n",
            "Epoch 430/1000\n",
            "29/29 [==============================] - 0s 7ms/step - loss: 6.3330e-08 - accuracy: 1.0000 - val_loss: 1.1176e-07 - val_accuracy: 1.0000\n",
            "Epoch 431/1000\n",
            "29/29 [==============================] - 0s 6ms/step - loss: 6.5813e-08 - accuracy: 1.0000 - val_loss: 1.1176e-07 - val_accuracy: 1.0000\n",
            "Epoch 432/1000\n",
            "29/29 [==============================] - 0s 6ms/step - loss: 6.5813e-08 - accuracy: 1.0000 - val_loss: 8.9407e-08 - val_accuracy: 1.0000\n",
            "Epoch 433/1000\n",
            "29/29 [==============================] - 0s 6ms/step - loss: 6.6641e-08 - accuracy: 1.0000 - val_loss: 9.6858e-08 - val_accuracy: 1.0000\n",
            "Epoch 434/1000\n",
            "29/29 [==============================] - 0s 6ms/step - loss: 6.4986e-08 - accuracy: 1.0000 - val_loss: 8.9407e-08 - val_accuracy: 1.0000\n",
            "Epoch 435/1000\n",
            "29/29 [==============================] - 0s 6ms/step - loss: 6.4158e-08 - accuracy: 1.0000 - val_loss: 8.1956e-08 - val_accuracy: 1.0000\n",
            "Epoch 436/1000\n",
            "29/29 [==============================] - 0s 6ms/step - loss: 5.9191e-08 - accuracy: 1.0000 - val_loss: 8.9407e-08 - val_accuracy: 1.0000\n",
            "Epoch 437/1000\n",
            "29/29 [==============================] - 0s 6ms/step - loss: 5.7121e-08 - accuracy: 1.0000 - val_loss: 7.8231e-08 - val_accuracy: 1.0000\n",
            "Epoch 438/1000\n",
            "29/29 [==============================] - 0s 6ms/step - loss: 5.0498e-08 - accuracy: 1.0000 - val_loss: 1.0431e-07 - val_accuracy: 1.0000\n",
            "Epoch 439/1000\n",
            "29/29 [==============================] - 0s 6ms/step - loss: 5.6707e-08 - accuracy: 1.0000 - val_loss: 9.6858e-08 - val_accuracy: 1.0000\n",
            "Epoch 440/1000\n",
            "29/29 [==============================] - 0s 6ms/step - loss: 5.7535e-08 - accuracy: 1.0000 - val_loss: 7.0781e-08 - val_accuracy: 1.0000\n",
            "Epoch 441/1000\n",
            "29/29 [==============================] - 0s 6ms/step - loss: 5.0912e-08 - accuracy: 1.0000 - val_loss: 8.5682e-08 - val_accuracy: 1.0000\n",
            "Epoch 442/1000\n",
            "29/29 [==============================] - 0s 6ms/step - loss: 5.5465e-08 - accuracy: 1.0000 - val_loss: 8.1956e-08 - val_accuracy: 1.0000\n",
            "Epoch 443/1000\n",
            "29/29 [==============================] - 0s 6ms/step - loss: 5.0084e-08 - accuracy: 1.0000 - val_loss: 7.0781e-08 - val_accuracy: 1.0000\n",
            "Epoch 444/1000\n",
            "29/29 [==============================] - 0s 7ms/step - loss: 4.9257e-08 - accuracy: 1.0000 - val_loss: 9.3132e-08 - val_accuracy: 1.0000\n",
            "Epoch 445/1000\n",
            "29/29 [==============================] - 0s 6ms/step - loss: 4.7601e-08 - accuracy: 1.0000 - val_loss: 6.7055e-08 - val_accuracy: 1.0000\n",
            "Epoch 446/1000\n",
            "29/29 [==============================] - 0s 6ms/step - loss: 4.3876e-08 - accuracy: 1.0000 - val_loss: 5.9605e-08 - val_accuracy: 1.0000\n",
            "Epoch 447/1000\n",
            "29/29 [==============================] - 0s 6ms/step - loss: 4.3462e-08 - accuracy: 1.0000 - val_loss: 6.3330e-08 - val_accuracy: 1.0000\n",
            "Epoch 448/1000\n",
            "29/29 [==============================] - 0s 6ms/step - loss: 3.9736e-08 - accuracy: 1.0000 - val_loss: 6.3330e-08 - val_accuracy: 1.0000\n",
            "Epoch 449/1000\n",
            "29/29 [==============================] - 0s 7ms/step - loss: 4.3876e-08 - accuracy: 1.0000 - val_loss: 4.4703e-08 - val_accuracy: 1.0000\n",
            "Epoch 450/1000\n",
            "29/29 [==============================] - 0s 6ms/step - loss: 4.0564e-08 - accuracy: 1.0000 - val_loss: 6.7055e-08 - val_accuracy: 1.0000\n",
            "Epoch 451/1000\n",
            "29/29 [==============================] - 0s 6ms/step - loss: 3.8909e-08 - accuracy: 1.0000 - val_loss: 5.5879e-08 - val_accuracy: 1.0000\n",
            "Epoch 452/1000\n",
            "29/29 [==============================] - 0s 6ms/step - loss: 4.0150e-08 - accuracy: 1.0000 - val_loss: 5.5879e-08 - val_accuracy: 1.0000\n",
            "Epoch 453/1000\n",
            "29/29 [==============================] - 0s 7ms/step - loss: 3.8081e-08 - accuracy: 1.0000 - val_loss: 6.7055e-08 - val_accuracy: 1.0000\n",
            "Epoch 454/1000\n",
            "29/29 [==============================] - 0s 6ms/step - loss: 4.0564e-08 - accuracy: 1.0000 - val_loss: 4.8429e-08 - val_accuracy: 1.0000\n",
            "Epoch 455/1000\n",
            "29/29 [==============================] - 0s 6ms/step - loss: 3.6839e-08 - accuracy: 1.0000 - val_loss: 7.0781e-08 - val_accuracy: 1.0000\n",
            "Epoch 456/1000\n",
            "29/29 [==============================] - 0s 6ms/step - loss: 4.1392e-08 - accuracy: 1.0000 - val_loss: 7.0781e-08 - val_accuracy: 1.0000\n",
            "Epoch 457/1000\n",
            "29/29 [==============================] - 0s 6ms/step - loss: 3.7667e-08 - accuracy: 1.0000 - val_loss: 8.9407e-08 - val_accuracy: 1.0000\n",
            "Epoch 458/1000\n",
            "29/29 [==============================] - 0s 6ms/step - loss: 3.8495e-08 - accuracy: 1.0000 - val_loss: 5.9605e-08 - val_accuracy: 1.0000\n",
            "Epoch 459/1000\n",
            "23/29 [======================>.......] - ETA: 0s - loss: 4.1464e-08 - accuracy: 1.0000Restoring model weights from the end of the best epoch: 449.\n",
            "29/29 [==============================] - 0s 6ms/step - loss: 3.9736e-08 - accuracy: 1.0000 - val_loss: 5.9605e-08 - val_accuracy: 1.0000\n",
            "Epoch 00459: early stopping\n"
          ]
        },
        {
          "output_type": "execute_result",
          "data": {
            "text/plain": [
              "<keras.callbacks.History at 0x7fd4147fccd0>"
            ]
          },
          "metadata": {},
          "execution_count": 148
        }
      ]
    },
    {
      "cell_type": "code",
      "metadata": {
        "id": "uzk_veNghbk9"
      },
      "source": [
        "History = model_CC.history"
      ],
      "execution_count": 149,
      "outputs": []
    },
    {
      "cell_type": "code",
      "metadata": {
        "id": "H11YUWRKhjX8",
        "colab": {
          "base_uri": "https://localhost:8080/",
          "height": 295
        },
        "outputId": "aac468e5-abd4-4030-dec3-b1b304f2c9fd"
      },
      "source": [
        "plt.plot(History.history['accuracy'])\n",
        "plt.title('Accuracy VS Epoch')\n",
        "plt.ylabel('Accuracy')\n",
        "plt.xlabel('Epoch')\n",
        "plt.legend(['Train'], loc='lower right')\n",
        "plt.show()"
      ],
      "execution_count": 150,
      "outputs": [
        {
          "output_type": "display_data",
          "data": {
            "image/png": "[encoded data removed]",
            "text/plain": [
              "<Figure size 432x288 with 1 Axes>"
            ]
          },
          "metadata": {
            "needs_background": "light"
          }
        }
      ]
    },
    {
      "cell_type": "code",
      "metadata": {
        "id": "gciWe5pShw_w",
        "colab": {
          "base_uri": "https://localhost:8080/",
          "height": 295
        },
        "outputId": "a66abaa5-252e-49cb-dd57-cd2af0fd87ef"
      },
      "source": [
        "plt.plot(History.history['loss'])\n",
        "plt.title('Loss VS Epoch')\n",
        "plt.ylabel('Loss')\n",
        "plt.xlabel('Epoch')\n",
        "plt.legend(['Train'], loc='lower right')\n",
        "plt.show()"
      ],
      "execution_count": 151,
      "outputs": [
        {
          "output_type": "display_data",
          "data": {
            "image/png": "[encoded data removed]",
            "text/plain": [
              "<Figure size 432x288 with 1 Axes>"
            ]
          },
          "metadata": {
            "needs_background": "light"
          }
        }
      ]
    },
    {
      "cell_type": "markdown",
      "metadata": {
        "id": "PKqDI_Kkpjq0"
      },
      "source": [
        "## Testing the Shallow Neural Network"
      ]
    },
    {
      "cell_type": "code",
      "metadata": {
        "id": "crKdmviAlwXF",
        "colab": {
          "base_uri": "https://localhost:8080/"
        },
        "outputId": "e15034de-8bb5-4881-c7e5-d9b0a27ed2e0"
      },
      "source": [
        "Loss,Accuracy=model_CC.evaluate(X_test,Y_test,verbose=1)\n",
        "print('Accuracy: ',Accuracy)\n",
        "print('Loss: ',Loss)"
      ],
      "execution_count": 152,
      "outputs": [
        {
          "output_type": "stream",
          "name": "stdout",
          "text": [
            "3/3 [==============================] - 0s 5ms/step - loss: 3.7253e-08 - accuracy: 1.0000\n",
            "Accuracy:  1.0\n",
            "Loss:  3.725289943190546e-08\n"
          ]
        }
      ]
    },
    {
      "cell_type": "markdown",
      "metadata": {
        "id": "0K5rG9B4iRDB"
      },
      "source": [
        "## Decoding function"
      ]
    },
    {
      "cell_type": "code",
      "metadata": {
        "id": "32GziM3xp6wq",
        "colab": {
          "base_uri": "https://localhost:8080/"
        },
        "outputId": "4f92f804-31aa-4148-f270-f17d48d8f78b"
      },
      "source": [
        "Categories=[i for i in CHOICES]\n",
        "Label_Encoding=LabelEncoder().fit_transform(Categories).reshape(-1,1)\n",
        "One_Hot_Encoding=OneHotEncoder().fit_transform(Label_Encoding).toarray()\n",
        "Categories_Dictionary={Categories[i]:One_Hot_Encoding[i] for i in range(len(Categories))}\n",
        "Categories_Dictionary_Reverse={tuple(One_Hot_Encoding[i]):Categories[i] for i in range(len(Categories))}\n",
        "print(Categories_Dictionary)\n",
        "print(Categories_Dictionary_Reverse)"
      ],
      "execution_count": 153,
      "outputs": [
        {
          "output_type": "stream",
          "name": "stdout",
          "text": [
            "{'A': array([1., 0., 0., 0., 0., 0., 0., 0., 0., 0., 0., 0., 0., 0., 0., 0., 0.,\n",
            "       0., 0., 0., 0., 0., 0., 0., 0., 0.]), 'B': array([0., 1., 0., 0., 0., 0., 0., 0., 0., 0., 0., 0., 0., 0., 0., 0., 0.,\n",
            "       0., 0., 0., 0., 0., 0., 0., 0., 0.]), 'C': array([0., 0., 1., 0., 0., 0., 0., 0., 0., 0., 0., 0., 0., 0., 0., 0., 0.,\n",
            "       0., 0., 0., 0., 0., 0., 0., 0., 0.]), 'D': array([0., 0., 0., 1., 0., 0., 0., 0., 0., 0., 0., 0., 0., 0., 0., 0., 0.,\n",
            "       0., 0., 0., 0., 0., 0., 0., 0., 0.]), 'E': array([0., 0., 0., 0., 1., 0., 0., 0., 0., 0., 0., 0., 0., 0., 0., 0., 0.,\n",
            "       0., 0., 0., 0., 0., 0., 0., 0., 0.]), 'F': array([0., 0., 0., 0., 0., 1., 0., 0., 0., 0., 0., 0., 0., 0., 0., 0., 0.,\n",
            "       0., 0., 0., 0., 0., 0., 0., 0., 0.]), 'G': array([0., 0., 0., 0., 0., 0., 1., 0., 0., 0., 0., 0., 0., 0., 0., 0., 0.,\n",
            "       0., 0., 0., 0., 0., 0., 0., 0., 0.]), 'H': array([0., 0., 0., 0., 0., 0., 0., 1., 0., 0., 0., 0., 0., 0., 0., 0., 0.,\n",
            "       0., 0., 0., 0., 0., 0., 0., 0., 0.]), 'I': array([0., 0., 0., 0., 0., 0., 0., 0., 1., 0., 0., 0., 0., 0., 0., 0., 0.,\n",
            "       0., 0., 0., 0., 0., 0., 0., 0., 0.]), 'J': array([0., 0., 0., 0., 0., 0., 0., 0., 0., 1., 0., 0., 0., 0., 0., 0., 0.,\n",
            "       0., 0., 0., 0., 0., 0., 0., 0., 0.]), 'K': array([0., 0., 0., 0., 0., 0., 0., 0., 0., 0., 1., 0., 0., 0., 0., 0., 0.,\n",
            "       0., 0., 0., 0., 0., 0., 0., 0., 0.]), 'L': array([0., 0., 0., 0., 0., 0., 0., 0., 0., 0., 0., 1., 0., 0., 0., 0., 0.,\n",
            "       0., 0., 0., 0., 0., 0., 0., 0., 0.]), 'M': array([0., 0., 0., 0., 0., 0., 0., 0., 0., 0., 0., 0., 1., 0., 0., 0., 0.,\n",
            "       0., 0., 0., 0., 0., 0., 0., 0., 0.]), 'N': array([0., 0., 0., 0., 0., 0., 0., 0., 0., 0., 0., 0., 0., 1., 0., 0., 0.,\n",
            "       0., 0., 0., 0., 0., 0., 0., 0., 0.]), 'O': array([0., 0., 0., 0., 0., 0., 0., 0., 0., 0., 0., 0., 0., 0., 1., 0., 0.,\n",
            "       0., 0., 0., 0., 0., 0., 0., 0., 0.]), 'P': array([0., 0., 0., 0., 0., 0., 0., 0., 0., 0., 0., 0., 0., 0., 0., 1., 0.,\n",
            "       0., 0., 0., 0., 0., 0., 0., 0., 0.]), 'Q': array([0., 0., 0., 0., 0., 0., 0., 0., 0., 0., 0., 0., 0., 0., 0., 0., 1.,\n",
            "       0., 0., 0., 0., 0., 0., 0., 0., 0.]), 'R': array([0., 0., 0., 0., 0., 0., 0., 0., 0., 0., 0., 0., 0., 0., 0., 0., 0.,\n",
            "       1., 0., 0., 0., 0., 0., 0., 0., 0.]), 'S': array([0., 0., 0., 0., 0., 0., 0., 0., 0., 0., 0., 0., 0., 0., 0., 0., 0.,\n",
            "       0., 1., 0., 0., 0., 0., 0., 0., 0.]), 'T': array([0., 0., 0., 0., 0., 0., 0., 0., 0., 0., 0., 0., 0., 0., 0., 0., 0.,\n",
            "       0., 0., 1., 0., 0., 0., 0., 0., 0.]), 'U': array([0., 0., 0., 0., 0., 0., 0., 0., 0., 0., 0., 0., 0., 0., 0., 0., 0.,\n",
            "       0., 0., 0., 1., 0., 0., 0., 0., 0.]), 'V': array([0., 0., 0., 0., 0., 0., 0., 0., 0., 0., 0., 0., 0., 0., 0., 0., 0.,\n",
            "       0., 0., 0., 0., 1., 0., 0., 0., 0.]), 'W': array([0., 0., 0., 0., 0., 0., 0., 0., 0., 0., 0., 0., 0., 0., 0., 0., 0.,\n",
            "       0., 0., 0., 0., 0., 1., 0., 0., 0.]), 'X': array([0., 0., 0., 0., 0., 0., 0., 0., 0., 0., 0., 0., 0., 0., 0., 0., 0.,\n",
            "       0., 0., 0., 0., 0., 0., 1., 0., 0.]), 'Y': array([0., 0., 0., 0., 0., 0., 0., 0., 0., 0., 0., 0., 0., 0., 0., 0., 0.,\n",
            "       0., 0., 0., 0., 0., 0., 0., 1., 0.]), 'Z': array([0., 0., 0., 0., 0., 0., 0., 0., 0., 0., 0., 0., 0., 0., 0., 0., 0.,\n",
            "       0., 0., 0., 0., 0., 0., 0., 0., 1.])}\n",
            "{(1.0, 0.0, 0.0, 0.0, 0.0, 0.0, 0.0, 0.0, 0.0, 0.0, 0.0, 0.0, 0.0, 0.0, 0.0, 0.0, 0.0, 0.0, 0.0, 0.0, 0.0, 0.0, 0.0, 0.0, 0.0, 0.0): 'A', (0.0, 1.0, 0.0, 0.0, 0.0, 0.0, 0.0, 0.0, 0.0, 0.0, 0.0, 0.0, 0.0, 0.0, 0.0, 0.0, 0.0, 0.0, 0.0, 0.0, 0.0, 0.0, 0.0, 0.0, 0.0, 0.0): 'B', (0.0, 0.0, 1.0, 0.0, 0.0, 0.0, 0.0, 0.0, 0.0, 0.0, 0.0, 0.0, 0.0, 0.0, 0.0, 0.0, 0.0, 0.0, 0.0, 0.0, 0.0, 0.0, 0.0, 0.0, 0.0, 0.0): 'C', (0.0, 0.0, 0.0, 1.0, 0.0, 0.0, 0.0, 0.0, 0.0, 0.0, 0.0, 0.0, 0.0, 0.0, 0.0, 0.0, 0.0, 0.0, 0.0, 0.0, 0.0, 0.0, 0.0, 0.0, 0.0, 0.0): 'D', (0.0, 0.0, 0.0, 0.0, 1.0, 0.0, 0.0, 0.0, 0.0, 0.0, 0.0, 0.0, 0.0, 0.0, 0.0, 0.0, 0.0, 0.0, 0.0, 0.0, 0.0, 0.0, 0.0, 0.0, 0.0, 0.0): 'E', (0.0, 0.0, 0.0, 0.0, 0.0, 1.0, 0.0, 0.0, 0.0, 0.0, 0.0, 0.0, 0.0, 0.0, 0.0, 0.0, 0.0, 0.0, 0.0, 0.0, 0.0, 0.0, 0.0, 0.0, 0.0, 0.0): 'F', (0.0, 0.0, 0.0, 0.0, 0.0, 0.0, 1.0, 0.0, 0.0, 0.0, 0.0, 0.0, 0.0, 0.0, 0.0, 0.0, 0.0, 0.0, 0.0, 0.0, 0.0, 0.0, 0.0, 0.0, 0.0, 0.0): 'G', (0.0, 0.0, 0.0, 0.0, 0.0, 0.0, 0.0, 1.0, 0.0, 0.0, 0.0, 0.0, 0.0, 0.0, 0.0, 0.0, 0.0, 0.0, 0.0, 0.0, 0.0, 0.0, 0.0, 0.0, 0.0, 0.0): 'H', (0.0, 0.0, 0.0, 0.0, 0.0, 0.0, 0.0, 0.0, 1.0, 0.0, 0.0, 0.0, 0.0, 0.0, 0.0, 0.0, 0.0, 0.0, 0.0, 0.0, 0.0, 0.0, 0.0, 0.0, 0.0, 0.0): 'I', (0.0, 0.0, 0.0, 0.0, 0.0, 0.0, 0.0, 0.0, 0.0, 1.0, 0.0, 0.0, 0.0, 0.0, 0.0, 0.0, 0.0, 0.0, 0.0, 0.0, 0.0, 0.0, 0.0, 0.0, 0.0, 0.0): 'J', (0.0, 0.0, 0.0, 0.0, 0.0, 0.0, 0.0, 0.0, 0.0, 0.0, 1.0, 0.0, 0.0, 0.0, 0.0, 0.0, 0.0, 0.0, 0.0, 0.0, 0.0, 0.0, 0.0, 0.0, 0.0, 0.0): 'K', (0.0, 0.0, 0.0, 0.0, 0.0, 0.0, 0.0, 0.0, 0.0, 0.0, 0.0, 1.0, 0.0, 0.0, 0.0, 0.0, 0.0, 0.0, 0.0, 0.0, 0.0, 0.0, 0.0, 0.0, 0.0, 0.0): 'L', (0.0, 0.0, 0.0, 0.0, 0.0, 0.0, 0.0, 0.0, 0.0, 0.0, 0.0, 0.0, 1.0, 0.0, 0.0, 0.0, 0.0, 0.0, 0.0, 0.0, 0.0, 0.0, 0.0, 0.0, 0.0, 0.0): 'M', (0.0, 0.0, 0.0, 0.0, 0.0, 0.0, 0.0, 0.0, 0.0, 0.0, 0.0, 0.0, 0.0, 1.0, 0.0, 0.0, 0.0, 0.0, 0.0, 0.0, 0.0, 0.0, 0.0, 0.0, 0.0, 0.0): 'N', (0.0, 0.0, 0.0, 0.0, 0.0, 0.0, 0.0, 0.0, 0.0, 0.0, 0.0, 0.0, 0.0, 0.0, 1.0, 0.0, 0.0, 0.0, 0.0, 0.0, 0.0, 0.0, 0.0, 0.0, 0.0, 0.0): 'O', (0.0, 0.0, 0.0, 0.0, 0.0, 0.0, 0.0, 0.0, 0.0, 0.0, 0.0, 0.0, 0.0, 0.0, 0.0, 1.0, 0.0, 0.0, 0.0, 0.0, 0.0, 0.0, 0.0, 0.0, 0.0, 0.0): 'P', (0.0, 0.0, 0.0, 0.0, 0.0, 0.0, 0.0, 0.0, 0.0, 0.0, 0.0, 0.0, 0.0, 0.0, 0.0, 0.0, 1.0, 0.0, 0.0, 0.0, 0.0, 0.0, 0.0, 0.0, 0.0, 0.0): 'Q', (0.0, 0.0, 0.0, 0.0, 0.0, 0.0, 0.0, 0.0, 0.0, 0.0, 0.0, 0.0, 0.0, 0.0, 0.0, 0.0, 0.0, 1.0, 0.0, 0.0, 0.0, 0.0, 0.0, 0.0, 0.0, 0.0): 'R', (0.0, 0.0, 0.0, 0.0, 0.0, 0.0, 0.0, 0.0, 0.0, 0.0, 0.0, 0.0, 0.0, 0.0, 0.0, 0.0, 0.0, 0.0, 1.0, 0.0, 0.0, 0.0, 0.0, 0.0, 0.0, 0.0): 'S', (0.0, 0.0, 0.0, 0.0, 0.0, 0.0, 0.0, 0.0, 0.0, 0.0, 0.0, 0.0, 0.0, 0.0, 0.0, 0.0, 0.0, 0.0, 0.0, 1.0, 0.0, 0.0, 0.0, 0.0, 0.0, 0.0): 'T', (0.0, 0.0, 0.0, 0.0, 0.0, 0.0, 0.0, 0.0, 0.0, 0.0, 0.0, 0.0, 0.0, 0.0, 0.0, 0.0, 0.0, 0.0, 0.0, 0.0, 1.0, 0.0, 0.0, 0.0, 0.0, 0.0): 'U', (0.0, 0.0, 0.0, 0.0, 0.0, 0.0, 0.0, 0.0, 0.0, 0.0, 0.0, 0.0, 0.0, 0.0, 0.0, 0.0, 0.0, 0.0, 0.0, 0.0, 0.0, 1.0, 0.0, 0.0, 0.0, 0.0): 'V', (0.0, 0.0, 0.0, 0.0, 0.0, 0.0, 0.0, 0.0, 0.0, 0.0, 0.0, 0.0, 0.0, 0.0, 0.0, 0.0, 0.0, 0.0, 0.0, 0.0, 0.0, 0.0, 1.0, 0.0, 0.0, 0.0): 'W', (0.0, 0.0, 0.0, 0.0, 0.0, 0.0, 0.0, 0.0, 0.0, 0.0, 0.0, 0.0, 0.0, 0.0, 0.0, 0.0, 0.0, 0.0, 0.0, 0.0, 0.0, 0.0, 0.0, 1.0, 0.0, 0.0): 'X', (0.0, 0.0, 0.0, 0.0, 0.0, 0.0, 0.0, 0.0, 0.0, 0.0, 0.0, 0.0, 0.0, 0.0, 0.0, 0.0, 0.0, 0.0, 0.0, 0.0, 0.0, 0.0, 0.0, 0.0, 1.0, 0.0): 'Y', (0.0, 0.0, 0.0, 0.0, 0.0, 0.0, 0.0, 0.0, 0.0, 0.0, 0.0, 0.0, 0.0, 0.0, 0.0, 0.0, 0.0, 0.0, 0.0, 0.0, 0.0, 0.0, 0.0, 0.0, 0.0, 1.0): 'Z'}\n"
          ]
        }
      ]
    },
    {
      "cell_type": "code",
      "metadata": {
        "id": "qAsnwgBXiPLu"
      },
      "source": [
        "def Decode(character,Categories_Dictionary_Reverse=Categories_Dictionary_Reverse):\n",
        "  #print(np.array(Categories_Dictionary[character]).shape)\n",
        "  prediction=model_CC.predict(np.array(Categories_Dictionary[character]).reshape(1,26))\n",
        "  prediction=prediction>=prediction.max()\n",
        "  #print(prediction)\n",
        "  temp=[0.0 for i in range(26)]\n",
        "  for i in range(len(prediction[0])):\n",
        "    if prediction[0][i]==True:\n",
        "      temp[i]=1\n",
        "  return Categories_Dictionary_Reverse[tuple(temp)]"
      ],
      "execution_count": 154,
      "outputs": []
    },
    {
      "cell_type": "code",
      "metadata": {
        "id": "v8yoDMSTqqWO",
        "colab": {
          "base_uri": "https://localhost:8080/"
        },
        "outputId": "cca501f7-9bff-40a9-a867-340b3a5fc27e"
      },
      "source": [
        "character='G'\n",
        "print(character)\n",
        "print(Decode(character))"
      ],
      "execution_count": 155,
      "outputs": [
        {
          "output_type": "stream",
          "name": "stdout",
          "text": [
            "G\n",
            "J\n"
          ]
        }
      ]
    },
    {
      "cell_type": "markdown",
      "metadata": {
        "id": "pMOLtyxzfVxs"
      },
      "source": [
        "## AI Based Decryption of Caesar Cipher"
      ]
    },
    {
      "cell_type": "code",
      "metadata": {
        "id": "qEnxRSI1ebzQ",
        "colab": {
          "base_uri": "https://localhost:8080/"
        },
        "outputId": "8ff97bde-9528-45ce-ea86-a0dac737350d"
      },
      "source": [
        "MESSAGE=\"ISA REVIEW\"\n",
        "MESSAGE=MESSAGE.upper()\n",
        "print(\"\\t\\tOriginal Message:\\t\\t\\t\\t\",MESSAGE)\n",
        "ENCRYPTED_MESSAGE=CaesarCipher_encryption(MESSAGE,KEY)\n",
        "print(\"\\n\\n\\t\\tMessage after Encryption using Caesar Cipher:\\t\",ENCRYPTED_MESSAGE)\n",
        "#print(\"Key used for Encryption: \",KEY)\n",
        "DECRYPTED_MESSAGE=''\n",
        "for i in ENCRYPTED_MESSAGE:\n",
        "  if i==' ':\n",
        "    DECRYPTED_MESSAGE+=i\n",
        "  else:\n",
        "    DECRYPTED_MESSAGE+=Decode(i)\n",
        "print(\"\\n\\n\\t\\tMessage after AI based Decryption:\\t\\t\",DECRYPTED_MESSAGE)"
      ],
      "execution_count": 229,
      "outputs": [
        {
          "output_type": "stream",
          "name": "stdout",
          "text": [
            "\t\tOriginal Message:\t\t\t\t ISA REVIEW\n",
            "\n",
            "\n",
            "\t\tMessage after Encryption using Caesar Cipher:\t FPX OBSFBT\n",
            "\n",
            "\n",
            "\t\tMessage after AI based Decryption:\t\t ISA REVIEW\n"
          ]
        }
      ]
    },
    {
      "cell_type": "markdown",
      "metadata": {
        "id": "dyLVzT2gD8sf"
      },
      "source": [
        "# Observation: The AI model has 100% accuracy of decrypting an encrypted password"
      ]
    },
    {
      "cell_type": "markdown",
      "source": [
        "# Modified Cipher 1\n"
      ],
      "metadata": {
        "id": "SRi4E4siX9wI"
      }
    },
    {
      "cell_type": "code",
      "source": [
        "KEY=23\n",
        "key2=12"
      ],
      "metadata": {
        "id": "S_5KD0NYUvr3"
      },
      "execution_count": 206,
      "outputs": []
    },
    {
      "cell_type": "code",
      "source": [
        "PASSWORD_SIZE=8"
      ],
      "metadata": {
        "id": "3kYxod84Uvm-"
      },
      "execution_count": 207,
      "outputs": []
    },
    {
      "cell_type": "code",
      "source": [
        "DATASET_SIZE=50"
      ],
      "metadata": {
        "id": "Y89c9AS9UvlQ"
      },
      "execution_count": 208,
      "outputs": []
    },
    {
      "cell_type": "code",
      "source": [
        "CHOICES1=p_characterset()\n",
        "CHOICES1"
      ],
      "metadata": {
        "colab": {
          "base_uri": "https://localhost:8080/",
          "height": 35
        },
        "id": "n7chCV1gUvhs",
        "outputId": "24102be6-1ba9-4c89-af18-ee7f4b430b50"
      },
      "execution_count": 209,
      "outputs": [
        {
          "output_type": "execute_result",
          "data": {
            "application/vnd.google.colaboratory.intrinsic+json": {
              "type": "string"
            },
            "text/plain": [
              "'ABCDEFGHIJKLMNOPQRSTUVWXYZ'"
            ]
          },
          "metadata": {},
          "execution_count": 209
        }
      ]
    },
    {
      "cell_type": "code",
      "source": [
        "x=[]\n",
        "y=[]\n",
        "for i in range(DATASET_SIZE):\n",
        "  temp=''\n",
        "  for j in range(PASSWORD_SIZE):\n",
        "    temp+=random.choice(CHOICES1)\n",
        "  x.append(temp)\n",
        "  y.append(p_encryption(temp,KEY,key2))\n",
        "print(x)\n",
        "print(y)"
      ],
      "metadata": {
        "colab": {
          "base_uri": "https://localhost:8080/"
        },
        "id": "LwgzXHLNUvgA",
        "outputId": "be0e5337-31b1-4a6a-bc0e-8e36a5fe905d"
      },
      "execution_count": 210,
      "outputs": [
        {
          "output_type": "stream",
          "name": "stdout",
          "text": [
            "['DFTDAQIK', 'WHMVIXBC', 'BQWXHQRX', 'MSCMTLON', 'WERSZWMU', 'UDBLOZAV', 'OTYNMEAJ', 'VRUXRLYD', 'UWZXTLIU', 'YWCDAKDF', 'SOWCRPJF', 'XPXJKWNL', 'WLERYCZH', 'QOUZYMRX', 'ECHQTZAP', 'VRJRKZQQ', 'NVSJNOEV', 'LGSRHYCF', 'KKNWTERJ', 'MKUZDWPH', 'GKVDUZUF', 'PUUSHHVI', 'AHTTLDNC', 'VDZWCNSY', 'HMSUWSMN', 'CKBTUPPG', 'DIMNBDIP', 'IBUADIUO', 'LJFXATSQ', 'UCNXMVUR', 'EWCDJSWA', 'ALZYSWVW', 'XUSTVDQL', 'EULLTBNK', 'XMTFKGCU', 'NSLVOEJE', 'PJMTMWZO', 'YIDAPTLB', 'GWOJBFJN', 'NSVKUUHE', 'KFGPEWTU', 'PHZAXWBE', 'NOCZRZZY', 'JMAYZGHY', 'EVBAKEUU', 'SMDHCDSG', 'RYDFEERG', 'EAUQCQLW', 'MWFUEMWR', 'ZIYGOFLS']\n",
            "['MOCMJZRT', 'FQVERGKL', 'KZFGQZAG', 'VBLVCUXW', 'FNABIFVD', 'DMKUXIJE', 'XCHWVNJS', 'EADGAUHM', 'DFIGCURD', 'HFLMJTMO', 'BXFLAYSO', 'GYGSTFWU', 'FUNAHLIQ', 'ZXDIHVAG', 'NLQZCIJY', 'EASATIZZ', 'WEBSWXNE', 'UPBAQHLO', 'TTWFCNAS', 'VTDIMFYQ', 'PTEMDIDO', 'YDDBQQER', 'JQCCUMWL', 'EMIFLWBH', 'QVBDFBVW', 'LTKCDYYP', 'MRVWKMRY', 'RKDJMRDX', 'USOGJCBZ', 'DLWGVEDA', 'NFLMSBFJ', 'JUIHBFEF', 'GDBCEMZU', 'NDUUCKWT', 'GVCOTPLD', 'WBUEXNSN', 'YSVCVFIX', 'HRMJYCUK', 'PFXSKOSW', 'WBETDDQN', 'TOPYNFCD', 'YQIJGFKN', 'WXLIAIIH', 'SVJHIPQH', 'NEKJTNDD', 'BVMQLMBP', 'AHMONNAP', 'NJDZLZUF', 'VFODNVFA', 'IRHPXOUB']\n"
          ]
        }
      ]
    },
    {
      "cell_type": "code",
      "source": [
        "Data=pd.DataFrame({'Plaintext':x,'Ciphertext':y})\n",
        "Data.head(15)"
      ],
      "metadata": {
        "colab": {
          "base_uri": "https://localhost:8080/",
          "height": 520
        },
        "id": "TYTiAw98Uvbj",
        "outputId": "8236d77c-8368-46f3-f0d5-bf6308a69bc9"
      },
      "execution_count": 211,
      "outputs": [
        {
          "output_type": "execute_result",
          "data": {
            "text/html": [
              "<div>\n",
              "<style scoped>\n",
              "    .dataframe tbody tr th:only-of-type {\n",
              "        vertical-align: middle;\n",
              "    }\n",
              "\n",
              "    .dataframe tbody tr th {\n",
              "        vertical-align: top;\n",
              "    }\n",
              "\n",
              "    .dataframe thead th {\n",
              "        text-align: right;\n",
              "    }\n",
              "</style>\n",
              "<table border=\"1\" class=\"dataframe\">\n",
              "  <thead>\n",
              "    <tr style=\"text-align: right;\">\n",
              "      <th></th>\n",
              "      <th>Plaintext</th>\n",
              "      <th>Ciphertext</th>\n",
              "    </tr>\n",
              "  </thead>\n",
              "  <tbody>\n",
              "    <tr>\n",
              "      <th>0</th>\n",
              "      <td>DFTDAQIK</td>\n",
              "      <td>MOCMJZRT</td>\n",
              "    </tr>\n",
              "    <tr>\n",
              "      <th>1</th>\n",
              "      <td>WHMVIXBC</td>\n",
              "      <td>FQVERGKL</td>\n",
              "    </tr>\n",
              "    <tr>\n",
              "      <th>2</th>\n",
              "      <td>BQWXHQRX</td>\n",
              "      <td>KZFGQZAG</td>\n",
              "    </tr>\n",
              "    <tr>\n",
              "      <th>3</th>\n",
              "      <td>MSCMTLON</td>\n",
              "      <td>VBLVCUXW</td>\n",
              "    </tr>\n",
              "    <tr>\n",
              "      <th>4</th>\n",
              "      <td>WERSZWMU</td>\n",
              "      <td>FNABIFVD</td>\n",
              "    </tr>\n",
              "    <tr>\n",
              "      <th>5</th>\n",
              "      <td>UDBLOZAV</td>\n",
              "      <td>DMKUXIJE</td>\n",
              "    </tr>\n",
              "    <tr>\n",
              "      <th>6</th>\n",
              "      <td>OTYNMEAJ</td>\n",
              "      <td>XCHWVNJS</td>\n",
              "    </tr>\n",
              "    <tr>\n",
              "      <th>7</th>\n",
              "      <td>VRUXRLYD</td>\n",
              "      <td>EADGAUHM</td>\n",
              "    </tr>\n",
              "    <tr>\n",
              "      <th>8</th>\n",
              "      <td>UWZXTLIU</td>\n",
              "      <td>DFIGCURD</td>\n",
              "    </tr>\n",
              "    <tr>\n",
              "      <th>9</th>\n",
              "      <td>YWCDAKDF</td>\n",
              "      <td>HFLMJTMO</td>\n",
              "    </tr>\n",
              "    <tr>\n",
              "      <th>10</th>\n",
              "      <td>SOWCRPJF</td>\n",
              "      <td>BXFLAYSO</td>\n",
              "    </tr>\n",
              "    <tr>\n",
              "      <th>11</th>\n",
              "      <td>XPXJKWNL</td>\n",
              "      <td>GYGSTFWU</td>\n",
              "    </tr>\n",
              "    <tr>\n",
              "      <th>12</th>\n",
              "      <td>WLERYCZH</td>\n",
              "      <td>FUNAHLIQ</td>\n",
              "    </tr>\n",
              "    <tr>\n",
              "      <th>13</th>\n",
              "      <td>QOUZYMRX</td>\n",
              "      <td>ZXDIHVAG</td>\n",
              "    </tr>\n",
              "    <tr>\n",
              "      <th>14</th>\n",
              "      <td>ECHQTZAP</td>\n",
              "      <td>NLQZCIJY</td>\n",
              "    </tr>\n",
              "  </tbody>\n",
              "</table>\n",
              "</div>"
            ],
            "text/plain": [
              "   Plaintext Ciphertext\n",
              "0   DFTDAQIK   MOCMJZRT\n",
              "1   WHMVIXBC   FQVERGKL\n",
              "2   BQWXHQRX   KZFGQZAG\n",
              "3   MSCMTLON   VBLVCUXW\n",
              "4   WERSZWMU   FNABIFVD\n",
              "5   UDBLOZAV   DMKUXIJE\n",
              "6   OTYNMEAJ   XCHWVNJS\n",
              "7   VRUXRLYD   EADGAUHM\n",
              "8   UWZXTLIU   DFIGCURD\n",
              "9   YWCDAKDF   HFLMJTMO\n",
              "10  SOWCRPJF   BXFLAYSO\n",
              "11  XPXJKWNL   GYGSTFWU\n",
              "12  WLERYCZH   FUNAHLIQ\n",
              "13  QOUZYMRX   ZXDIHVAG\n",
              "14  ECHQTZAP   NLQZCIJY"
            ]
          },
          "metadata": {},
          "execution_count": 211
        }
      ]
    },
    {
      "cell_type": "code",
      "source": [
        "plaintext=[]\n",
        "ciphertext=[]\n",
        "for password in x:\n",
        "  for character in password:\n",
        "    plaintext.append(character)\n",
        "for Encrypted_password in y:\n",
        "  for character in Encrypted_password:\n",
        "    ciphertext.append(character)\n",
        "Data=pd.DataFrame({'Plaintext':plaintext,'Ciphertext':ciphertext})\n",
        "Data.head(15)"
      ],
      "metadata": {
        "colab": {
          "base_uri": "https://localhost:8080/",
          "height": 520
        },
        "id": "r6Iv36MYUvaB",
        "outputId": "067a98d5-faab-4e61-a884-e231221e5c42"
      },
      "execution_count": 212,
      "outputs": [
        {
          "output_type": "execute_result",
          "data": {
            "text/html": [
              "<div>\n",
              "<style scoped>\n",
              "    .dataframe tbody tr th:only-of-type {\n",
              "        vertical-align: middle;\n",
              "    }\n",
              "\n",
              "    .dataframe tbody tr th {\n",
              "        vertical-align: top;\n",
              "    }\n",
              "\n",
              "    .dataframe thead th {\n",
              "        text-align: right;\n",
              "    }\n",
              "</style>\n",
              "<table border=\"1\" class=\"dataframe\">\n",
              "  <thead>\n",
              "    <tr style=\"text-align: right;\">\n",
              "      <th></th>\n",
              "      <th>Plaintext</th>\n",
              "      <th>Ciphertext</th>\n",
              "    </tr>\n",
              "  </thead>\n",
              "  <tbody>\n",
              "    <tr>\n",
              "      <th>0</th>\n",
              "      <td>D</td>\n",
              "      <td>M</td>\n",
              "    </tr>\n",
              "    <tr>\n",
              "      <th>1</th>\n",
              "      <td>F</td>\n",
              "      <td>O</td>\n",
              "    </tr>\n",
              "    <tr>\n",
              "      <th>2</th>\n",
              "      <td>T</td>\n",
              "      <td>C</td>\n",
              "    </tr>\n",
              "    <tr>\n",
              "      <th>3</th>\n",
              "      <td>D</td>\n",
              "      <td>M</td>\n",
              "    </tr>\n",
              "    <tr>\n",
              "      <th>4</th>\n",
              "      <td>A</td>\n",
              "      <td>J</td>\n",
              "    </tr>\n",
              "    <tr>\n",
              "      <th>5</th>\n",
              "      <td>Q</td>\n",
              "      <td>Z</td>\n",
              "    </tr>\n",
              "    <tr>\n",
              "      <th>6</th>\n",
              "      <td>I</td>\n",
              "      <td>R</td>\n",
              "    </tr>\n",
              "    <tr>\n",
              "      <th>7</th>\n",
              "      <td>K</td>\n",
              "      <td>T</td>\n",
              "    </tr>\n",
              "    <tr>\n",
              "      <th>8</th>\n",
              "      <td>W</td>\n",
              "      <td>F</td>\n",
              "    </tr>\n",
              "    <tr>\n",
              "      <th>9</th>\n",
              "      <td>H</td>\n",
              "      <td>Q</td>\n",
              "    </tr>\n",
              "    <tr>\n",
              "      <th>10</th>\n",
              "      <td>M</td>\n",
              "      <td>V</td>\n",
              "    </tr>\n",
              "    <tr>\n",
              "      <th>11</th>\n",
              "      <td>V</td>\n",
              "      <td>E</td>\n",
              "    </tr>\n",
              "    <tr>\n",
              "      <th>12</th>\n",
              "      <td>I</td>\n",
              "      <td>R</td>\n",
              "    </tr>\n",
              "    <tr>\n",
              "      <th>13</th>\n",
              "      <td>X</td>\n",
              "      <td>G</td>\n",
              "    </tr>\n",
              "    <tr>\n",
              "      <th>14</th>\n",
              "      <td>B</td>\n",
              "      <td>K</td>\n",
              "    </tr>\n",
              "  </tbody>\n",
              "</table>\n",
              "</div>"
            ],
            "text/plain": [
              "   Plaintext Ciphertext\n",
              "0          D          M\n",
              "1          F          O\n",
              "2          T          C\n",
              "3          D          M\n",
              "4          A          J\n",
              "5          Q          Z\n",
              "6          I          R\n",
              "7          K          T\n",
              "8          W          F\n",
              "9          H          Q\n",
              "10         M          V\n",
              "11         V          E\n",
              "12         I          R\n",
              "13         X          G\n",
              "14         B          K"
            ]
          },
          "metadata": {},
          "execution_count": 212
        }
      ]
    },
    {
      "cell_type": "code",
      "source": [
        "plaintext=LabelEncoder().fit_transform(plaintext).reshape(-1, 1)\n",
        "ciphertext=LabelEncoder().fit_transform(ciphertext).reshape(-1, 1)\n",
        "X=OneHotEncoder().fit_transform(plaintext).toarray()\n",
        "Y=OneHotEncoder().fit_transform(ciphertext).toarray()\n",
        "print(X)\n",
        "print(Y)"
      ],
      "metadata": {
        "colab": {
          "base_uri": "https://localhost:8080/"
        },
        "id": "4XLzTMAbUvVo",
        "outputId": "37d622fe-74bf-4974-8585-f218c22147c6"
      },
      "execution_count": 213,
      "outputs": [
        {
          "output_type": "stream",
          "name": "stdout",
          "text": [
            "[[0. 0. 0. ... 0. 0. 0.]\n",
            " [0. 0. 0. ... 0. 0. 0.]\n",
            " [0. 0. 0. ... 0. 0. 0.]\n",
            " ...\n",
            " [0. 0. 0. ... 0. 0. 0.]\n",
            " [0. 0. 0. ... 0. 0. 0.]\n",
            " [0. 0. 0. ... 0. 0. 0.]]\n",
            "[[0. 0. 0. ... 0. 0. 0.]\n",
            " [0. 0. 0. ... 0. 0. 0.]\n",
            " [0. 0. 1. ... 0. 0. 0.]\n",
            " ...\n",
            " [0. 0. 0. ... 0. 0. 0.]\n",
            " [0. 0. 0. ... 0. 0. 0.]\n",
            " [0. 1. 0. ... 0. 0. 0.]]\n"
          ]
        }
      ]
    },
    {
      "cell_type": "code",
      "source": [
        "from sklearn.model_selection import train_test_split\n",
        "X_train,X_test,Y_train,Y_test=train_test_split(Y,X,test_size=0.2,random_state=0)\n",
        "print(X_train.shape)"
      ],
      "metadata": {
        "colab": {
          "base_uri": "https://localhost:8080/"
        },
        "id": "bboPh4dxUvT_",
        "outputId": "2af6dd5a-a043-4b89-e203-adff3aba9c00"
      },
      "execution_count": 214,
      "outputs": [
        {
          "output_type": "stream",
          "name": "stdout",
          "text": [
            "(320, 26)\n"
          ]
        }
      ]
    },
    {
      "cell_type": "code",
      "source": [
        "model_CC2= models.Sequential()\n",
        "model_CC2.add(layers.Dense(26, activation='relu',input_shape=(26,)))\n",
        "model_CC2.add(layers.Dense(39, activation='relu'))\n",
        "model_CC2.add(layers.Dense(26, activation='softmax'))\n",
        "model_CC2.summary()"
      ],
      "metadata": {
        "colab": {
          "base_uri": "https://localhost:8080/"
        },
        "id": "QrIwOhAYUvQQ",
        "outputId": "b744546b-aab1-48f8-c117-6ae6aacf92a7"
      },
      "execution_count": 215,
      "outputs": [
        {
          "output_type": "stream",
          "name": "stdout",
          "text": [
            "Model: \"sequential_9\"\n",
            "_________________________________________________________________\n",
            " Layer (type)                Output Shape              Param #   \n",
            "=================================================================\n",
            " dense_27 (Dense)            (None, 26)                702       \n",
            "                                                                 \n",
            " dense_28 (Dense)            (None, 39)                1053      \n",
            "                                                                 \n",
            " dense_29 (Dense)            (None, 26)                1040      \n",
            "                                                                 \n",
            "=================================================================\n",
            "Total params: 2,795\n",
            "Trainable params: 2,795\n",
            "Non-trainable params: 0\n",
            "_________________________________________________________________\n"
          ]
        }
      ]
    },
    {
      "cell_type": "code",
      "source": [
        "EarlyStopping=tf.keras.callbacks.EarlyStopping(monitor='val_loss', patience=10, verbose=1, mode='min',restore_best_weights=True)"
      ],
      "metadata": {
        "id": "kXPx_RcqUvOk"
      },
      "execution_count": 217,
      "outputs": []
    },
    {
      "cell_type": "code",
      "source": [
        "model_CC2.compile(loss='categorical_crossentropy',\n",
        "              optimizer=tf.keras.optimizers.RMSprop(learning_rate=0.0001, decay=1e-6),\n",
        "              metrics=['accuracy'])"
      ],
      "metadata": {
        "id": "bBpT8PaXUvKW"
      },
      "execution_count": 216,
      "outputs": []
    },
    {
      "cell_type": "code",
      "source": [
        "model_CC2.fit(x=X_train,y=Y_train,epochs=1000,batch_size=10,validation_split=0.1,callbacks=EarlyStopping)"
      ],
      "metadata": {
        "colab": {
          "base_uri": "https://localhost:8080/"
        },
        "id": "GAyBRDVTUvIw",
        "outputId": "0d5b2fd7-1424-4534-ba3b-9301e29fcd6f"
      },
      "execution_count": 218,
      "outputs": [
        {
          "output_type": "stream",
          "name": "stdout",
          "text": [
            "Epoch 1/1000\n",
            "29/29 [==============================] - 1s 11ms/step - loss: 3.2567 - accuracy: 0.0556 - val_loss: 3.2515 - val_accuracy: 0.0938\n",
            "Epoch 2/1000\n",
            "29/29 [==============================] - 0s 6ms/step - loss: 3.2468 - accuracy: 0.0556 - val_loss: 3.2437 - val_accuracy: 0.0938\n",
            "Epoch 3/1000\n",
            "29/29 [==============================] - 0s 6ms/step - loss: 3.2381 - accuracy: 0.0556 - val_loss: 3.2360 - val_accuracy: 0.0938\n",
            "Epoch 4/1000\n",
            "29/29 [==============================] - 0s 6ms/step - loss: 3.2294 - accuracy: 0.0556 - val_loss: 3.2281 - val_accuracy: 0.0938\n",
            "Epoch 5/1000\n",
            "29/29 [==============================] - 0s 6ms/step - loss: 3.2207 - accuracy: 0.0556 - val_loss: 3.2207 - val_accuracy: 0.0938\n",
            "Epoch 6/1000\n",
            "29/29 [==============================] - 0s 5ms/step - loss: 3.2121 - accuracy: 0.0556 - val_loss: 3.2126 - val_accuracy: 0.0938\n",
            "Epoch 7/1000\n",
            "29/29 [==============================] - 0s 6ms/step - loss: 3.2033 - accuracy: 0.1042 - val_loss: 3.2045 - val_accuracy: 0.1250\n",
            "Epoch 8/1000\n",
            "29/29 [==============================] - 0s 5ms/step - loss: 3.1944 - accuracy: 0.1424 - val_loss: 3.1964 - val_accuracy: 0.2188\n",
            "Epoch 9/1000\n",
            "29/29 [==============================] - 0s 6ms/step - loss: 3.1854 - accuracy: 0.1493 - val_loss: 3.1882 - val_accuracy: 0.2188\n",
            "Epoch 10/1000\n",
            "29/29 [==============================] - 0s 6ms/step - loss: 3.1765 - accuracy: 0.1840 - val_loss: 3.1799 - val_accuracy: 0.2188\n",
            "Epoch 11/1000\n",
            "29/29 [==============================] - 0s 7ms/step - loss: 3.1676 - accuracy: 0.1979 - val_loss: 3.1723 - val_accuracy: 0.2188\n",
            "Epoch 12/1000\n",
            "29/29 [==============================] - 0s 6ms/step - loss: 3.1587 - accuracy: 0.1979 - val_loss: 3.1644 - val_accuracy: 0.2188\n",
            "Epoch 13/1000\n",
            "29/29 [==============================] - 0s 6ms/step - loss: 3.1497 - accuracy: 0.2083 - val_loss: 3.1563 - val_accuracy: 0.2500\n",
            "Epoch 14/1000\n",
            "29/29 [==============================] - 0s 6ms/step - loss: 3.1407 - accuracy: 0.2847 - val_loss: 3.1483 - val_accuracy: 0.2500\n",
            "Epoch 15/1000\n",
            "29/29 [==============================] - 0s 5ms/step - loss: 3.1313 - accuracy: 0.2917 - val_loss: 3.1399 - val_accuracy: 0.2500\n",
            "Epoch 16/1000\n",
            "29/29 [==============================] - 0s 6ms/step - loss: 3.1218 - accuracy: 0.2917 - val_loss: 3.1315 - val_accuracy: 0.2500\n",
            "Epoch 17/1000\n",
            "29/29 [==============================] - 0s 5ms/step - loss: 3.1122 - accuracy: 0.3125 - val_loss: 3.1229 - val_accuracy: 0.2812\n",
            "Epoch 18/1000\n",
            "29/29 [==============================] - 0s 6ms/step - loss: 3.1024 - accuracy: 0.3715 - val_loss: 3.1141 - val_accuracy: 0.5000\n",
            "Epoch 19/1000\n",
            "29/29 [==============================] - 0s 6ms/step - loss: 3.0921 - accuracy: 0.4583 - val_loss: 3.1050 - val_accuracy: 0.5000\n",
            "Epoch 20/1000\n",
            "29/29 [==============================] - 0s 5ms/step - loss: 3.0818 - accuracy: 0.4653 - val_loss: 3.0958 - val_accuracy: 0.5000\n",
            "Epoch 21/1000\n",
            "29/29 [==============================] - 0s 5ms/step - loss: 3.0712 - accuracy: 0.5000 - val_loss: 3.0864 - val_accuracy: 0.5000\n",
            "Epoch 22/1000\n",
            "29/29 [==============================] - 0s 5ms/step - loss: 3.0605 - accuracy: 0.5104 - val_loss: 3.0768 - val_accuracy: 0.5000\n",
            "Epoch 23/1000\n",
            "29/29 [==============================] - 0s 6ms/step - loss: 3.0495 - accuracy: 0.5104 - val_loss: 3.0671 - val_accuracy: 0.5000\n",
            "Epoch 24/1000\n",
            "29/29 [==============================] - 0s 6ms/step - loss: 3.0383 - accuracy: 0.5104 - val_loss: 3.0572 - val_accuracy: 0.5000\n",
            "Epoch 25/1000\n",
            "29/29 [==============================] - 0s 5ms/step - loss: 3.0270 - accuracy: 0.5104 - val_loss: 3.0471 - val_accuracy: 0.5000\n",
            "Epoch 26/1000\n",
            "29/29 [==============================] - 0s 6ms/step - loss: 3.0154 - accuracy: 0.5278 - val_loss: 3.0370 - val_accuracy: 0.5312\n",
            "Epoch 27/1000\n",
            "29/29 [==============================] - 0s 5ms/step - loss: 3.0034 - accuracy: 0.5868 - val_loss: 3.0259 - val_accuracy: 0.5312\n",
            "Epoch 28/1000\n",
            "29/29 [==============================] - 0s 5ms/step - loss: 2.9908 - accuracy: 0.6042 - val_loss: 3.0148 - val_accuracy: 0.5312\n",
            "Epoch 29/1000\n",
            "29/29 [==============================] - 0s 5ms/step - loss: 2.9781 - accuracy: 0.6042 - val_loss: 3.0035 - val_accuracy: 0.5312\n",
            "Epoch 30/1000\n",
            "29/29 [==============================] - 0s 6ms/step - loss: 2.9653 - accuracy: 0.6042 - val_loss: 2.9919 - val_accuracy: 0.5312\n",
            "Epoch 31/1000\n",
            "29/29 [==============================] - 0s 6ms/step - loss: 2.9523 - accuracy: 0.6042 - val_loss: 2.9802 - val_accuracy: 0.5312\n",
            "Epoch 32/1000\n",
            "29/29 [==============================] - 0s 5ms/step - loss: 2.9387 - accuracy: 0.6042 - val_loss: 2.9681 - val_accuracy: 0.5312\n",
            "Epoch 33/1000\n",
            "29/29 [==============================] - 0s 5ms/step - loss: 2.9248 - accuracy: 0.6076 - val_loss: 2.9559 - val_accuracy: 0.5625\n",
            "Epoch 34/1000\n",
            "29/29 [==============================] - 0s 6ms/step - loss: 2.9109 - accuracy: 0.6389 - val_loss: 2.9436 - val_accuracy: 0.5625\n",
            "Epoch 35/1000\n",
            "29/29 [==============================] - 0s 5ms/step - loss: 2.8969 - accuracy: 0.6458 - val_loss: 2.9313 - val_accuracy: 0.5625\n",
            "Epoch 36/1000\n",
            "29/29 [==============================] - 0s 6ms/step - loss: 2.8826 - accuracy: 0.6458 - val_loss: 2.9186 - val_accuracy: 0.5625\n",
            "Epoch 37/1000\n",
            "29/29 [==============================] - 0s 5ms/step - loss: 2.8680 - accuracy: 0.6458 - val_loss: 2.9055 - val_accuracy: 0.5625\n",
            "Epoch 38/1000\n",
            "29/29 [==============================] - 0s 5ms/step - loss: 2.8525 - accuracy: 0.6528 - val_loss: 2.8918 - val_accuracy: 0.6250\n",
            "Epoch 39/1000\n",
            "29/29 [==============================] - 0s 5ms/step - loss: 2.8368 - accuracy: 0.6875 - val_loss: 2.8781 - val_accuracy: 0.6250\n",
            "Epoch 40/1000\n",
            "29/29 [==============================] - 0s 5ms/step - loss: 2.8208 - accuracy: 0.6910 - val_loss: 2.8639 - val_accuracy: 0.6250\n",
            "Epoch 41/1000\n",
            "29/29 [==============================] - 0s 6ms/step - loss: 2.8047 - accuracy: 0.6910 - val_loss: 2.8496 - val_accuracy: 0.6250\n",
            "Epoch 42/1000\n",
            "29/29 [==============================] - 0s 5ms/step - loss: 2.7884 - accuracy: 0.6910 - val_loss: 2.8354 - val_accuracy: 0.6250\n",
            "Epoch 43/1000\n",
            "29/29 [==============================] - 0s 6ms/step - loss: 2.7717 - accuracy: 0.6944 - val_loss: 2.8207 - val_accuracy: 0.6250\n",
            "Epoch 44/1000\n",
            "29/29 [==============================] - 0s 5ms/step - loss: 2.7547 - accuracy: 0.7188 - val_loss: 2.8062 - val_accuracy: 0.6562\n",
            "Epoch 45/1000\n",
            "29/29 [==============================] - 0s 6ms/step - loss: 2.7377 - accuracy: 0.7222 - val_loss: 2.7916 - val_accuracy: 0.6562\n",
            "Epoch 46/1000\n",
            "29/29 [==============================] - 0s 5ms/step - loss: 2.7205 - accuracy: 0.7222 - val_loss: 2.7766 - val_accuracy: 0.6562\n",
            "Epoch 47/1000\n",
            "29/29 [==============================] - 0s 6ms/step - loss: 2.7028 - accuracy: 0.7222 - val_loss: 2.7609 - val_accuracy: 0.6562\n",
            "Epoch 48/1000\n",
            "29/29 [==============================] - 0s 5ms/step - loss: 2.6852 - accuracy: 0.7222 - val_loss: 2.7454 - val_accuracy: 0.6562\n",
            "Epoch 49/1000\n",
            "29/29 [==============================] - 0s 5ms/step - loss: 2.6671 - accuracy: 0.7222 - val_loss: 2.7290 - val_accuracy: 0.6562\n",
            "Epoch 50/1000\n",
            "29/29 [==============================] - 0s 6ms/step - loss: 2.6489 - accuracy: 0.7222 - val_loss: 2.7131 - val_accuracy: 0.6562\n",
            "Epoch 51/1000\n",
            "29/29 [==============================] - 0s 5ms/step - loss: 2.6304 - accuracy: 0.7222 - val_loss: 2.6968 - val_accuracy: 0.6562\n",
            "Epoch 52/1000\n",
            "29/29 [==============================] - 0s 6ms/step - loss: 2.6117 - accuracy: 0.7222 - val_loss: 2.6804 - val_accuracy: 0.6562\n",
            "Epoch 53/1000\n",
            "29/29 [==============================] - 0s 5ms/step - loss: 2.5928 - accuracy: 0.7222 - val_loss: 2.6635 - val_accuracy: 0.6562\n",
            "Epoch 54/1000\n",
            "29/29 [==============================] - 0s 6ms/step - loss: 2.5736 - accuracy: 0.7222 - val_loss: 2.6460 - val_accuracy: 0.6562\n",
            "Epoch 55/1000\n",
            "29/29 [==============================] - 0s 6ms/step - loss: 2.5544 - accuracy: 0.7222 - val_loss: 2.6288 - val_accuracy: 0.6562\n",
            "Epoch 56/1000\n",
            "29/29 [==============================] - 0s 6ms/step - loss: 2.5353 - accuracy: 0.7222 - val_loss: 2.6119 - val_accuracy: 0.6562\n",
            "Epoch 57/1000\n",
            "29/29 [==============================] - 0s 6ms/step - loss: 2.5159 - accuracy: 0.7222 - val_loss: 2.5950 - val_accuracy: 0.6562\n",
            "Epoch 58/1000\n",
            "29/29 [==============================] - 0s 5ms/step - loss: 2.4960 - accuracy: 0.7222 - val_loss: 2.5771 - val_accuracy: 0.6562\n",
            "Epoch 59/1000\n",
            "29/29 [==============================] - 0s 5ms/step - loss: 2.4754 - accuracy: 0.7222 - val_loss: 2.5592 - val_accuracy: 0.6562\n",
            "Epoch 60/1000\n",
            "29/29 [==============================] - 0s 6ms/step - loss: 2.4549 - accuracy: 0.7222 - val_loss: 2.5411 - val_accuracy: 0.6562\n",
            "Epoch 61/1000\n",
            "29/29 [==============================] - 0s 5ms/step - loss: 2.4346 - accuracy: 0.7222 - val_loss: 2.5229 - val_accuracy: 0.6562\n",
            "Epoch 62/1000\n",
            "29/29 [==============================] - 0s 5ms/step - loss: 2.4139 - accuracy: 0.7222 - val_loss: 2.5045 - val_accuracy: 0.6562\n",
            "Epoch 63/1000\n",
            "29/29 [==============================] - 0s 6ms/step - loss: 2.3929 - accuracy: 0.7222 - val_loss: 2.4856 - val_accuracy: 0.6562\n",
            "Epoch 64/1000\n",
            "29/29 [==============================] - 0s 5ms/step - loss: 2.3717 - accuracy: 0.7222 - val_loss: 2.4671 - val_accuracy: 0.6562\n",
            "Epoch 65/1000\n",
            "29/29 [==============================] - 0s 6ms/step - loss: 2.3507 - accuracy: 0.7222 - val_loss: 2.4483 - val_accuracy: 0.6562\n",
            "Epoch 66/1000\n",
            "29/29 [==============================] - 0s 5ms/step - loss: 2.3296 - accuracy: 0.7222 - val_loss: 2.4294 - val_accuracy: 0.6562\n",
            "Epoch 67/1000\n",
            "29/29 [==============================] - 0s 5ms/step - loss: 2.3080 - accuracy: 0.7222 - val_loss: 2.4104 - val_accuracy: 0.6562\n",
            "Epoch 68/1000\n",
            "29/29 [==============================] - 0s 6ms/step - loss: 2.2863 - accuracy: 0.7222 - val_loss: 2.3907 - val_accuracy: 0.6562\n",
            "Epoch 69/1000\n",
            "29/29 [==============================] - 0s 6ms/step - loss: 2.2635 - accuracy: 0.7222 - val_loss: 2.3698 - val_accuracy: 0.6562\n",
            "Epoch 70/1000\n",
            "29/29 [==============================] - 0s 5ms/step - loss: 2.2405 - accuracy: 0.7222 - val_loss: 2.3490 - val_accuracy: 0.6562\n",
            "Epoch 71/1000\n",
            "29/29 [==============================] - 0s 6ms/step - loss: 2.2179 - accuracy: 0.7222 - val_loss: 2.3291 - val_accuracy: 0.6562\n",
            "Epoch 72/1000\n",
            "29/29 [==============================] - 0s 6ms/step - loss: 2.1952 - accuracy: 0.7222 - val_loss: 2.3083 - val_accuracy: 0.6562\n",
            "Epoch 73/1000\n",
            "29/29 [==============================] - 0s 6ms/step - loss: 2.1726 - accuracy: 0.7222 - val_loss: 2.2884 - val_accuracy: 0.6562\n",
            "Epoch 74/1000\n",
            "29/29 [==============================] - 0s 5ms/step - loss: 2.1496 - accuracy: 0.7222 - val_loss: 2.2679 - val_accuracy: 0.6562\n",
            "Epoch 75/1000\n",
            "29/29 [==============================] - 0s 6ms/step - loss: 2.1269 - accuracy: 0.7222 - val_loss: 2.2474 - val_accuracy: 0.6562\n",
            "Epoch 76/1000\n",
            "29/29 [==============================] - 0s 5ms/step - loss: 2.1037 - accuracy: 0.7222 - val_loss: 2.2263 - val_accuracy: 0.6562\n",
            "Epoch 77/1000\n",
            "29/29 [==============================] - 0s 5ms/step - loss: 2.0799 - accuracy: 0.7222 - val_loss: 2.2052 - val_accuracy: 0.6562\n",
            "Epoch 78/1000\n",
            "29/29 [==============================] - 0s 6ms/step - loss: 2.0559 - accuracy: 0.7222 - val_loss: 2.1841 - val_accuracy: 0.6562\n",
            "Epoch 79/1000\n",
            "29/29 [==============================] - 0s 6ms/step - loss: 2.0328 - accuracy: 0.7222 - val_loss: 2.1632 - val_accuracy: 0.6562\n",
            "Epoch 80/1000\n",
            "29/29 [==============================] - 0s 6ms/step - loss: 2.0095 - accuracy: 0.7361 - val_loss: 2.1426 - val_accuracy: 0.6875\n",
            "Epoch 81/1000\n",
            "29/29 [==============================] - 0s 7ms/step - loss: 1.9860 - accuracy: 0.7535 - val_loss: 2.1220 - val_accuracy: 0.6875\n",
            "Epoch 82/1000\n",
            "29/29 [==============================] - 0s 6ms/step - loss: 1.9623 - accuracy: 0.7535 - val_loss: 2.1006 - val_accuracy: 0.6875\n",
            "Epoch 83/1000\n",
            "29/29 [==============================] - 0s 5ms/step - loss: 1.9387 - accuracy: 0.7535 - val_loss: 2.0798 - val_accuracy: 0.6875\n",
            "Epoch 84/1000\n",
            "29/29 [==============================] - 0s 6ms/step - loss: 1.9149 - accuracy: 0.7535 - val_loss: 2.0582 - val_accuracy: 0.6875\n",
            "Epoch 85/1000\n",
            "29/29 [==============================] - 0s 6ms/step - loss: 1.8912 - accuracy: 0.7535 - val_loss: 2.0369 - val_accuracy: 0.6875\n",
            "Epoch 86/1000\n",
            "29/29 [==============================] - 0s 6ms/step - loss: 1.8676 - accuracy: 0.7535 - val_loss: 2.0164 - val_accuracy: 0.6875\n",
            "Epoch 87/1000\n",
            "29/29 [==============================] - 0s 6ms/step - loss: 1.8442 - accuracy: 0.7535 - val_loss: 1.9953 - val_accuracy: 0.6875\n",
            "Epoch 88/1000\n",
            "29/29 [==============================] - 0s 5ms/step - loss: 1.8209 - accuracy: 0.7535 - val_loss: 1.9738 - val_accuracy: 0.6875\n",
            "Epoch 89/1000\n",
            "29/29 [==============================] - 0s 7ms/step - loss: 1.7973 - accuracy: 0.7535 - val_loss: 1.9522 - val_accuracy: 0.6875\n",
            "Epoch 90/1000\n",
            "29/29 [==============================] - 0s 6ms/step - loss: 1.7738 - accuracy: 0.7535 - val_loss: 1.9309 - val_accuracy: 0.6875\n",
            "Epoch 91/1000\n",
            "29/29 [==============================] - 0s 6ms/step - loss: 1.7501 - accuracy: 0.7535 - val_loss: 1.9103 - val_accuracy: 0.6875\n",
            "Epoch 92/1000\n",
            "29/29 [==============================] - 0s 6ms/step - loss: 1.7266 - accuracy: 0.7639 - val_loss: 1.8894 - val_accuracy: 0.6875\n",
            "Epoch 93/1000\n",
            "29/29 [==============================] - 0s 5ms/step - loss: 1.7029 - accuracy: 0.7778 - val_loss: 1.8677 - val_accuracy: 0.6875\n",
            "Epoch 94/1000\n",
            "29/29 [==============================] - 0s 6ms/step - loss: 1.6788 - accuracy: 0.8090 - val_loss: 1.8461 - val_accuracy: 0.7188\n",
            "Epoch 95/1000\n",
            "29/29 [==============================] - 0s 6ms/step - loss: 1.6552 - accuracy: 0.8264 - val_loss: 1.8241 - val_accuracy: 0.7188\n",
            "Epoch 96/1000\n",
            "29/29 [==============================] - 0s 6ms/step - loss: 1.6314 - accuracy: 0.8264 - val_loss: 1.8030 - val_accuracy: 0.7188\n",
            "Epoch 97/1000\n",
            "29/29 [==============================] - 0s 5ms/step - loss: 1.6078 - accuracy: 0.8264 - val_loss: 1.7822 - val_accuracy: 0.7188\n",
            "Epoch 98/1000\n",
            "29/29 [==============================] - 0s 6ms/step - loss: 1.5844 - accuracy: 0.8264 - val_loss: 1.7610 - val_accuracy: 0.7188\n",
            "Epoch 99/1000\n",
            "29/29 [==============================] - 0s 6ms/step - loss: 1.5611 - accuracy: 0.8264 - val_loss: 1.7406 - val_accuracy: 0.7188\n",
            "Epoch 100/1000\n",
            "29/29 [==============================] - 0s 6ms/step - loss: 1.5378 - accuracy: 0.8264 - val_loss: 1.7196 - val_accuracy: 0.7188\n",
            "Epoch 101/1000\n",
            "29/29 [==============================] - 0s 6ms/step - loss: 1.5147 - accuracy: 0.8264 - val_loss: 1.6994 - val_accuracy: 0.7188\n",
            "Epoch 102/1000\n",
            "29/29 [==============================] - 0s 5ms/step - loss: 1.4918 - accuracy: 0.8264 - val_loss: 1.6786 - val_accuracy: 0.7188\n",
            "Epoch 103/1000\n",
            "29/29 [==============================] - 0s 5ms/step - loss: 1.4694 - accuracy: 0.8299 - val_loss: 1.6583 - val_accuracy: 0.7188\n",
            "Epoch 104/1000\n",
            "29/29 [==============================] - 0s 5ms/step - loss: 1.4467 - accuracy: 0.8542 - val_loss: 1.6374 - val_accuracy: 0.7188\n",
            "Epoch 105/1000\n",
            "29/29 [==============================] - 0s 5ms/step - loss: 1.4236 - accuracy: 0.8576 - val_loss: 1.6154 - val_accuracy: 0.7188\n",
            "Epoch 106/1000\n",
            "29/29 [==============================] - 0s 5ms/step - loss: 1.4005 - accuracy: 0.8576 - val_loss: 1.5949 - val_accuracy: 0.7188\n",
            "Epoch 107/1000\n",
            "29/29 [==============================] - 0s 6ms/step - loss: 1.3781 - accuracy: 0.8576 - val_loss: 1.5743 - val_accuracy: 0.7188\n",
            "Epoch 108/1000\n",
            "29/29 [==============================] - 0s 6ms/step - loss: 1.3559 - accuracy: 0.8576 - val_loss: 1.5542 - val_accuracy: 0.7188\n",
            "Epoch 109/1000\n",
            "29/29 [==============================] - 0s 6ms/step - loss: 1.3338 - accuracy: 0.8576 - val_loss: 1.5331 - val_accuracy: 0.7188\n",
            "Epoch 110/1000\n",
            "29/29 [==============================] - 0s 6ms/step - loss: 1.3116 - accuracy: 0.8576 - val_loss: 1.5131 - val_accuracy: 0.7188\n",
            "Epoch 111/1000\n",
            "29/29 [==============================] - 0s 6ms/step - loss: 1.2892 - accuracy: 0.8576 - val_loss: 1.4923 - val_accuracy: 0.7188\n",
            "Epoch 112/1000\n",
            "29/29 [==============================] - 0s 6ms/step - loss: 1.2671 - accuracy: 0.8576 - val_loss: 1.4718 - val_accuracy: 0.7188\n",
            "Epoch 113/1000\n",
            "29/29 [==============================] - 0s 6ms/step - loss: 1.2453 - accuracy: 0.8576 - val_loss: 1.4514 - val_accuracy: 0.7188\n",
            "Epoch 114/1000\n",
            "29/29 [==============================] - 0s 6ms/step - loss: 1.2234 - accuracy: 0.8576 - val_loss: 1.4315 - val_accuracy: 0.7188\n",
            "Epoch 115/1000\n",
            "29/29 [==============================] - 0s 6ms/step - loss: 1.2017 - accuracy: 0.8576 - val_loss: 1.4112 - val_accuracy: 0.7188\n",
            "Epoch 116/1000\n",
            "29/29 [==============================] - 0s 5ms/step - loss: 1.1803 - accuracy: 0.8576 - val_loss: 1.3905 - val_accuracy: 0.7188\n",
            "Epoch 117/1000\n",
            "29/29 [==============================] - 0s 6ms/step - loss: 1.1591 - accuracy: 0.8576 - val_loss: 1.3708 - val_accuracy: 0.7188\n",
            "Epoch 118/1000\n",
            "29/29 [==============================] - 0s 6ms/step - loss: 1.1379 - accuracy: 0.8576 - val_loss: 1.3508 - val_accuracy: 0.7188\n",
            "Epoch 119/1000\n",
            "29/29 [==============================] - 0s 6ms/step - loss: 1.1169 - accuracy: 0.8576 - val_loss: 1.3308 - val_accuracy: 0.7188\n",
            "Epoch 120/1000\n",
            "29/29 [==============================] - 0s 5ms/step - loss: 1.0961 - accuracy: 0.8576 - val_loss: 1.3115 - val_accuracy: 0.7188\n",
            "Epoch 121/1000\n",
            "29/29 [==============================] - 0s 5ms/step - loss: 1.0759 - accuracy: 0.8576 - val_loss: 1.2921 - val_accuracy: 0.7188\n",
            "Epoch 122/1000\n",
            "29/29 [==============================] - 0s 5ms/step - loss: 1.0555 - accuracy: 0.8576 - val_loss: 1.2731 - val_accuracy: 0.7188\n",
            "Epoch 123/1000\n",
            "29/29 [==============================] - 0s 6ms/step - loss: 1.0355 - accuracy: 0.8819 - val_loss: 1.2538 - val_accuracy: 0.7812\n",
            "Epoch 124/1000\n",
            "29/29 [==============================] - 0s 6ms/step - loss: 1.0161 - accuracy: 0.8889 - val_loss: 1.2352 - val_accuracy: 0.7812\n",
            "Epoch 125/1000\n",
            "29/29 [==============================] - 0s 6ms/step - loss: 0.9964 - accuracy: 0.8889 - val_loss: 1.2163 - val_accuracy: 0.7812\n",
            "Epoch 126/1000\n",
            "29/29 [==============================] - 0s 6ms/step - loss: 0.9772 - accuracy: 0.8889 - val_loss: 1.1976 - val_accuracy: 0.7812\n",
            "Epoch 127/1000\n",
            "29/29 [==============================] - 0s 6ms/step - loss: 0.9579 - accuracy: 0.8889 - val_loss: 1.1788 - val_accuracy: 0.7812\n",
            "Epoch 128/1000\n",
            "29/29 [==============================] - 0s 5ms/step - loss: 0.9392 - accuracy: 0.8889 - val_loss: 1.1609 - val_accuracy: 0.7812\n",
            "Epoch 129/1000\n",
            "29/29 [==============================] - 0s 6ms/step - loss: 0.9204 - accuracy: 0.8889 - val_loss: 1.1426 - val_accuracy: 0.7812\n",
            "Epoch 130/1000\n",
            "29/29 [==============================] - 0s 6ms/step - loss: 0.9018 - accuracy: 0.8889 - val_loss: 1.1240 - val_accuracy: 0.7812\n",
            "Epoch 131/1000\n",
            "29/29 [==============================] - 0s 5ms/step - loss: 0.8835 - accuracy: 0.8889 - val_loss: 1.1058 - val_accuracy: 0.7812\n",
            "Epoch 132/1000\n",
            "29/29 [==============================] - 0s 5ms/step - loss: 0.8654 - accuracy: 0.8889 - val_loss: 1.0880 - val_accuracy: 0.7812\n",
            "Epoch 133/1000\n",
            "29/29 [==============================] - 0s 5ms/step - loss: 0.8476 - accuracy: 0.8889 - val_loss: 1.0699 - val_accuracy: 0.7812\n",
            "Epoch 134/1000\n",
            "29/29 [==============================] - 0s 5ms/step - loss: 0.8300 - accuracy: 0.8889 - val_loss: 1.0525 - val_accuracy: 0.7812\n",
            "Epoch 135/1000\n",
            "29/29 [==============================] - 0s 5ms/step - loss: 0.8125 - accuracy: 0.8889 - val_loss: 1.0349 - val_accuracy: 0.7812\n",
            "Epoch 136/1000\n",
            "29/29 [==============================] - 0s 6ms/step - loss: 0.7953 - accuracy: 0.8958 - val_loss: 1.0171 - val_accuracy: 0.7812\n",
            "Epoch 137/1000\n",
            "29/29 [==============================] - 0s 5ms/step - loss: 0.7780 - accuracy: 0.9132 - val_loss: 1.0002 - val_accuracy: 0.7812\n",
            "Epoch 138/1000\n",
            "29/29 [==============================] - 0s 5ms/step - loss: 0.7610 - accuracy: 0.9132 - val_loss: 0.9828 - val_accuracy: 0.7812\n",
            "Epoch 139/1000\n",
            "29/29 [==============================] - 0s 6ms/step - loss: 0.7445 - accuracy: 0.9132 - val_loss: 0.9652 - val_accuracy: 0.7812\n",
            "Epoch 140/1000\n",
            "29/29 [==============================] - 0s 6ms/step - loss: 0.7279 - accuracy: 0.9132 - val_loss: 0.9483 - val_accuracy: 0.7812\n",
            "Epoch 141/1000\n",
            "29/29 [==============================] - 0s 6ms/step - loss: 0.7112 - accuracy: 0.9132 - val_loss: 0.9306 - val_accuracy: 0.7812\n",
            "Epoch 142/1000\n",
            "29/29 [==============================] - 0s 6ms/step - loss: 0.6946 - accuracy: 0.9132 - val_loss: 0.9135 - val_accuracy: 0.7812\n",
            "Epoch 143/1000\n",
            "29/29 [==============================] - 0s 6ms/step - loss: 0.6784 - accuracy: 0.9132 - val_loss: 0.8961 - val_accuracy: 0.7812\n",
            "Epoch 144/1000\n",
            "29/29 [==============================] - 0s 6ms/step - loss: 0.6622 - accuracy: 0.9167 - val_loss: 0.8787 - val_accuracy: 0.8125\n",
            "Epoch 145/1000\n",
            "29/29 [==============================] - 0s 5ms/step - loss: 0.6461 - accuracy: 0.9444 - val_loss: 0.8620 - val_accuracy: 0.8125\n",
            "Epoch 146/1000\n",
            "29/29 [==============================] - 0s 5ms/step - loss: 0.6305 - accuracy: 0.9444 - val_loss: 0.8456 - val_accuracy: 0.8750\n",
            "Epoch 147/1000\n",
            "29/29 [==============================] - 0s 5ms/step - loss: 0.6151 - accuracy: 0.9688 - val_loss: 0.8285 - val_accuracy: 0.8750\n",
            "Epoch 148/1000\n",
            "29/29 [==============================] - 0s 6ms/step - loss: 0.6001 - accuracy: 0.9688 - val_loss: 0.8124 - val_accuracy: 0.8750\n",
            "Epoch 149/1000\n",
            "29/29 [==============================] - 0s 6ms/step - loss: 0.5856 - accuracy: 0.9688 - val_loss: 0.7966 - val_accuracy: 0.8750\n",
            "Epoch 150/1000\n",
            "29/29 [==============================] - 0s 6ms/step - loss: 0.5712 - accuracy: 0.9688 - val_loss: 0.7808 - val_accuracy: 0.8750\n",
            "Epoch 151/1000\n",
            "29/29 [==============================] - 0s 5ms/step - loss: 0.5567 - accuracy: 0.9688 - val_loss: 0.7654 - val_accuracy: 0.8750\n",
            "Epoch 152/1000\n",
            "29/29 [==============================] - 0s 6ms/step - loss: 0.5423 - accuracy: 0.9688 - val_loss: 0.7491 - val_accuracy: 0.8750\n",
            "Epoch 153/1000\n",
            "29/29 [==============================] - 0s 5ms/step - loss: 0.5281 - accuracy: 0.9688 - val_loss: 0.7329 - val_accuracy: 0.8750\n",
            "Epoch 154/1000\n",
            "29/29 [==============================] - 0s 6ms/step - loss: 0.5144 - accuracy: 0.9688 - val_loss: 0.7177 - val_accuracy: 0.9062\n",
            "Epoch 155/1000\n",
            "29/29 [==============================] - 0s 6ms/step - loss: 0.5009 - accuracy: 0.9826 - val_loss: 0.7026 - val_accuracy: 0.9062\n",
            "Epoch 156/1000\n",
            "29/29 [==============================] - 0s 6ms/step - loss: 0.4875 - accuracy: 0.9826 - val_loss: 0.6871 - val_accuracy: 0.9062\n",
            "Epoch 157/1000\n",
            "29/29 [==============================] - 0s 6ms/step - loss: 0.4745 - accuracy: 0.9826 - val_loss: 0.6719 - val_accuracy: 0.9062\n",
            "Epoch 158/1000\n",
            "29/29 [==============================] - 0s 5ms/step - loss: 0.4618 - accuracy: 0.9826 - val_loss: 0.6577 - val_accuracy: 0.9062\n",
            "Epoch 159/1000\n",
            "29/29 [==============================] - 0s 6ms/step - loss: 0.4490 - accuracy: 0.9826 - val_loss: 0.6422 - val_accuracy: 0.9062\n",
            "Epoch 160/1000\n",
            "29/29 [==============================] - 0s 6ms/step - loss: 0.4367 - accuracy: 0.9826 - val_loss: 0.6284 - val_accuracy: 0.9062\n",
            "Epoch 161/1000\n",
            "29/29 [==============================] - 0s 6ms/step - loss: 0.4245 - accuracy: 0.9826 - val_loss: 0.6142 - val_accuracy: 0.9062\n",
            "Epoch 162/1000\n",
            "29/29 [==============================] - 0s 6ms/step - loss: 0.4125 - accuracy: 0.9826 - val_loss: 0.6002 - val_accuracy: 0.9062\n",
            "Epoch 163/1000\n",
            "29/29 [==============================] - 0s 6ms/step - loss: 0.4008 - accuracy: 0.9826 - val_loss: 0.5859 - val_accuracy: 0.9062\n",
            "Epoch 164/1000\n",
            "29/29 [==============================] - 0s 6ms/step - loss: 0.3897 - accuracy: 0.9826 - val_loss: 0.5732 - val_accuracy: 0.9062\n",
            "Epoch 165/1000\n",
            "29/29 [==============================] - 0s 6ms/step - loss: 0.3787 - accuracy: 0.9826 - val_loss: 0.5598 - val_accuracy: 0.9062\n",
            "Epoch 166/1000\n",
            "29/29 [==============================] - 0s 6ms/step - loss: 0.3679 - accuracy: 0.9826 - val_loss: 0.5478 - val_accuracy: 0.9062\n",
            "Epoch 167/1000\n",
            "29/29 [==============================] - 0s 6ms/step - loss: 0.3575 - accuracy: 0.9861 - val_loss: 0.5348 - val_accuracy: 1.0000\n",
            "Epoch 168/1000\n",
            "29/29 [==============================] - 0s 6ms/step - loss: 0.3469 - accuracy: 1.0000 - val_loss: 0.5210 - val_accuracy: 1.0000\n",
            "Epoch 169/1000\n",
            "29/29 [==============================] - 0s 6ms/step - loss: 0.3364 - accuracy: 1.0000 - val_loss: 0.5085 - val_accuracy: 1.0000\n",
            "Epoch 170/1000\n",
            "29/29 [==============================] - 0s 5ms/step - loss: 0.3262 - accuracy: 1.0000 - val_loss: 0.4949 - val_accuracy: 1.0000\n",
            "Epoch 171/1000\n",
            "29/29 [==============================] - 0s 6ms/step - loss: 0.3162 - accuracy: 1.0000 - val_loss: 0.4822 - val_accuracy: 1.0000\n",
            "Epoch 172/1000\n",
            "29/29 [==============================] - 0s 6ms/step - loss: 0.3065 - accuracy: 1.0000 - val_loss: 0.4695 - val_accuracy: 1.0000\n",
            "Epoch 173/1000\n",
            "29/29 [==============================] - 0s 5ms/step - loss: 0.2970 - accuracy: 1.0000 - val_loss: 0.4570 - val_accuracy: 1.0000\n",
            "Epoch 174/1000\n",
            "29/29 [==============================] - 0s 5ms/step - loss: 0.2876 - accuracy: 1.0000 - val_loss: 0.4448 - val_accuracy: 1.0000\n",
            "Epoch 175/1000\n",
            "29/29 [==============================] - 0s 5ms/step - loss: 0.2785 - accuracy: 1.0000 - val_loss: 0.4326 - val_accuracy: 1.0000\n",
            "Epoch 176/1000\n",
            "29/29 [==============================] - 0s 5ms/step - loss: 0.2697 - accuracy: 1.0000 - val_loss: 0.4212 - val_accuracy: 1.0000\n",
            "Epoch 177/1000\n",
            "29/29 [==============================] - 0s 6ms/step - loss: 0.2611 - accuracy: 1.0000 - val_loss: 0.4100 - val_accuracy: 1.0000\n",
            "Epoch 178/1000\n",
            "29/29 [==============================] - 0s 5ms/step - loss: 0.2526 - accuracy: 1.0000 - val_loss: 0.3984 - val_accuracy: 1.0000\n",
            "Epoch 179/1000\n",
            "29/29 [==============================] - 0s 6ms/step - loss: 0.2445 - accuracy: 1.0000 - val_loss: 0.3873 - val_accuracy: 1.0000\n",
            "Epoch 180/1000\n",
            "29/29 [==============================] - 0s 6ms/step - loss: 0.2365 - accuracy: 1.0000 - val_loss: 0.3765 - val_accuracy: 1.0000\n",
            "Epoch 181/1000\n",
            "29/29 [==============================] - 0s 5ms/step - loss: 0.2288 - accuracy: 1.0000 - val_loss: 0.3652 - val_accuracy: 1.0000\n",
            "Epoch 182/1000\n",
            "29/29 [==============================] - 0s 6ms/step - loss: 0.2212 - accuracy: 1.0000 - val_loss: 0.3550 - val_accuracy: 1.0000\n",
            "Epoch 183/1000\n",
            "29/29 [==============================] - 0s 6ms/step - loss: 0.2137 - accuracy: 1.0000 - val_loss: 0.3441 - val_accuracy: 1.0000\n",
            "Epoch 184/1000\n",
            "29/29 [==============================] - 0s 6ms/step - loss: 0.2065 - accuracy: 1.0000 - val_loss: 0.3337 - val_accuracy: 1.0000\n",
            "Epoch 185/1000\n",
            "29/29 [==============================] - 0s 6ms/step - loss: 0.1993 - accuracy: 1.0000 - val_loss: 0.3228 - val_accuracy: 1.0000\n",
            "Epoch 186/1000\n",
            "29/29 [==============================] - 0s 6ms/step - loss: 0.1925 - accuracy: 1.0000 - val_loss: 0.3135 - val_accuracy: 1.0000\n",
            "Epoch 187/1000\n",
            "29/29 [==============================] - 0s 6ms/step - loss: 0.1859 - accuracy: 1.0000 - val_loss: 0.3043 - val_accuracy: 1.0000\n",
            "Epoch 188/1000\n",
            "29/29 [==============================] - 0s 5ms/step - loss: 0.1796 - accuracy: 1.0000 - val_loss: 0.2947 - val_accuracy: 1.0000\n",
            "Epoch 189/1000\n",
            "29/29 [==============================] - 0s 6ms/step - loss: 0.1732 - accuracy: 1.0000 - val_loss: 0.2849 - val_accuracy: 1.0000\n",
            "Epoch 190/1000\n",
            "29/29 [==============================] - 0s 6ms/step - loss: 0.1669 - accuracy: 1.0000 - val_loss: 0.2753 - val_accuracy: 1.0000\n",
            "Epoch 191/1000\n",
            "29/29 [==============================] - 0s 5ms/step - loss: 0.1611 - accuracy: 1.0000 - val_loss: 0.2670 - val_accuracy: 1.0000\n",
            "Epoch 192/1000\n",
            "29/29 [==============================] - 0s 6ms/step - loss: 0.1555 - accuracy: 1.0000 - val_loss: 0.2580 - val_accuracy: 1.0000\n",
            "Epoch 193/1000\n",
            "29/29 [==============================] - 0s 6ms/step - loss: 0.1499 - accuracy: 1.0000 - val_loss: 0.2496 - val_accuracy: 1.0000\n",
            "Epoch 194/1000\n",
            "29/29 [==============================] - 0s 6ms/step - loss: 0.1445 - accuracy: 1.0000 - val_loss: 0.2417 - val_accuracy: 1.0000\n",
            "Epoch 195/1000\n",
            "29/29 [==============================] - 0s 5ms/step - loss: 0.1392 - accuracy: 1.0000 - val_loss: 0.2333 - val_accuracy: 1.0000\n",
            "Epoch 196/1000\n",
            "29/29 [==============================] - 0s 5ms/step - loss: 0.1342 - accuracy: 1.0000 - val_loss: 0.2257 - val_accuracy: 1.0000\n",
            "Epoch 197/1000\n",
            "29/29 [==============================] - 0s 5ms/step - loss: 0.1293 - accuracy: 1.0000 - val_loss: 0.2177 - val_accuracy: 1.0000\n",
            "Epoch 198/1000\n",
            "29/29 [==============================] - 0s 6ms/step - loss: 0.1247 - accuracy: 1.0000 - val_loss: 0.2100 - val_accuracy: 1.0000\n",
            "Epoch 199/1000\n",
            "29/29 [==============================] - 0s 6ms/step - loss: 0.1200 - accuracy: 1.0000 - val_loss: 0.2025 - val_accuracy: 1.0000\n",
            "Epoch 200/1000\n",
            "29/29 [==============================] - 0s 6ms/step - loss: 0.1156 - accuracy: 1.0000 - val_loss: 0.1954 - val_accuracy: 1.0000\n",
            "Epoch 201/1000\n",
            "29/29 [==============================] - 0s 6ms/step - loss: 0.1113 - accuracy: 1.0000 - val_loss: 0.1884 - val_accuracy: 1.0000\n",
            "Epoch 202/1000\n",
            "29/29 [==============================] - 0s 6ms/step - loss: 0.1071 - accuracy: 1.0000 - val_loss: 0.1818 - val_accuracy: 1.0000\n",
            "Epoch 203/1000\n",
            "29/29 [==============================] - 0s 6ms/step - loss: 0.1031 - accuracy: 1.0000 - val_loss: 0.1755 - val_accuracy: 1.0000\n",
            "Epoch 204/1000\n",
            "29/29 [==============================] - 0s 6ms/step - loss: 0.0993 - accuracy: 1.0000 - val_loss: 0.1690 - val_accuracy: 1.0000\n",
            "Epoch 205/1000\n",
            "29/29 [==============================] - 0s 6ms/step - loss: 0.0955 - accuracy: 1.0000 - val_loss: 0.1629 - val_accuracy: 1.0000\n",
            "Epoch 206/1000\n",
            "29/29 [==============================] - 0s 6ms/step - loss: 0.0919 - accuracy: 1.0000 - val_loss: 0.1566 - val_accuracy: 1.0000\n",
            "Epoch 207/1000\n",
            "29/29 [==============================] - 0s 6ms/step - loss: 0.0883 - accuracy: 1.0000 - val_loss: 0.1508 - val_accuracy: 1.0000\n",
            "Epoch 208/1000\n",
            "29/29 [==============================] - 0s 5ms/step - loss: 0.0851 - accuracy: 1.0000 - val_loss: 0.1454 - val_accuracy: 1.0000\n",
            "Epoch 209/1000\n",
            "29/29 [==============================] - 0s 5ms/step - loss: 0.0819 - accuracy: 1.0000 - val_loss: 0.1406 - val_accuracy: 1.0000\n",
            "Epoch 210/1000\n",
            "29/29 [==============================] - 0s 5ms/step - loss: 0.0788 - accuracy: 1.0000 - val_loss: 0.1355 - val_accuracy: 1.0000\n",
            "Epoch 211/1000\n",
            "29/29 [==============================] - 0s 6ms/step - loss: 0.0758 - accuracy: 1.0000 - val_loss: 0.1303 - val_accuracy: 1.0000\n",
            "Epoch 212/1000\n",
            "29/29 [==============================] - 0s 6ms/step - loss: 0.0728 - accuracy: 1.0000 - val_loss: 0.1251 - val_accuracy: 1.0000\n",
            "Epoch 213/1000\n",
            "29/29 [==============================] - 0s 6ms/step - loss: 0.0699 - accuracy: 1.0000 - val_loss: 0.1199 - val_accuracy: 1.0000\n",
            "Epoch 214/1000\n",
            "29/29 [==============================] - 0s 6ms/step - loss: 0.0670 - accuracy: 1.0000 - val_loss: 0.1148 - val_accuracy: 1.0000\n",
            "Epoch 215/1000\n",
            "29/29 [==============================] - 0s 6ms/step - loss: 0.0643 - accuracy: 1.0000 - val_loss: 0.1103 - val_accuracy: 1.0000\n",
            "Epoch 216/1000\n",
            "29/29 [==============================] - 0s 6ms/step - loss: 0.0616 - accuracy: 1.0000 - val_loss: 0.1056 - val_accuracy: 1.0000\n",
            "Epoch 217/1000\n",
            "29/29 [==============================] - 0s 6ms/step - loss: 0.0591 - accuracy: 1.0000 - val_loss: 0.1011 - val_accuracy: 1.0000\n",
            "Epoch 218/1000\n",
            "29/29 [==============================] - 0s 6ms/step - loss: 0.0566 - accuracy: 1.0000 - val_loss: 0.0970 - val_accuracy: 1.0000\n",
            "Epoch 219/1000\n",
            "29/29 [==============================] - 0s 6ms/step - loss: 0.0542 - accuracy: 1.0000 - val_loss: 0.0928 - val_accuracy: 1.0000\n",
            "Epoch 220/1000\n",
            "29/29 [==============================] - 0s 6ms/step - loss: 0.0519 - accuracy: 1.0000 - val_loss: 0.0891 - val_accuracy: 1.0000\n",
            "Epoch 221/1000\n",
            "29/29 [==============================] - 0s 6ms/step - loss: 0.0497 - accuracy: 1.0000 - val_loss: 0.0853 - val_accuracy: 1.0000\n",
            "Epoch 222/1000\n",
            "29/29 [==============================] - 0s 6ms/step - loss: 0.0477 - accuracy: 1.0000 - val_loss: 0.0819 - val_accuracy: 1.0000\n",
            "Epoch 223/1000\n",
            "29/29 [==============================] - 0s 6ms/step - loss: 0.0457 - accuracy: 1.0000 - val_loss: 0.0786 - val_accuracy: 1.0000\n",
            "Epoch 224/1000\n",
            "29/29 [==============================] - 0s 6ms/step - loss: 0.0437 - accuracy: 1.0000 - val_loss: 0.0753 - val_accuracy: 1.0000\n",
            "Epoch 225/1000\n",
            "29/29 [==============================] - 0s 5ms/step - loss: 0.0418 - accuracy: 1.0000 - val_loss: 0.0718 - val_accuracy: 1.0000\n",
            "Epoch 226/1000\n",
            "29/29 [==============================] - 0s 6ms/step - loss: 0.0400 - accuracy: 1.0000 - val_loss: 0.0687 - val_accuracy: 1.0000\n",
            "Epoch 227/1000\n",
            "29/29 [==============================] - 0s 6ms/step - loss: 0.0382 - accuracy: 1.0000 - val_loss: 0.0655 - val_accuracy: 1.0000\n",
            "Epoch 228/1000\n",
            "29/29 [==============================] - 0s 6ms/step - loss: 0.0365 - accuracy: 1.0000 - val_loss: 0.0627 - val_accuracy: 1.0000\n",
            "Epoch 229/1000\n",
            "29/29 [==============================] - 0s 6ms/step - loss: 0.0349 - accuracy: 1.0000 - val_loss: 0.0600 - val_accuracy: 1.0000\n",
            "Epoch 230/1000\n",
            "29/29 [==============================] - 0s 6ms/step - loss: 0.0334 - accuracy: 1.0000 - val_loss: 0.0576 - val_accuracy: 1.0000\n",
            "Epoch 231/1000\n",
            "29/29 [==============================] - 0s 6ms/step - loss: 0.0320 - accuracy: 1.0000 - val_loss: 0.0550 - val_accuracy: 1.0000\n",
            "Epoch 232/1000\n",
            "29/29 [==============================] - 0s 6ms/step - loss: 0.0305 - accuracy: 1.0000 - val_loss: 0.0528 - val_accuracy: 1.0000\n",
            "Epoch 233/1000\n",
            "29/29 [==============================] - 0s 6ms/step - loss: 0.0292 - accuracy: 1.0000 - val_loss: 0.0502 - val_accuracy: 1.0000\n",
            "Epoch 234/1000\n",
            "29/29 [==============================] - 0s 7ms/step - loss: 0.0278 - accuracy: 1.0000 - val_loss: 0.0479 - val_accuracy: 1.0000\n",
            "Epoch 235/1000\n",
            "29/29 [==============================] - 0s 6ms/step - loss: 0.0266 - accuracy: 1.0000 - val_loss: 0.0457 - val_accuracy: 1.0000\n",
            "Epoch 236/1000\n",
            "29/29 [==============================] - 0s 6ms/step - loss: 0.0254 - accuracy: 1.0000 - val_loss: 0.0436 - val_accuracy: 1.0000\n",
            "Epoch 237/1000\n",
            "29/29 [==============================] - 0s 6ms/step - loss: 0.0242 - accuracy: 1.0000 - val_loss: 0.0420 - val_accuracy: 1.0000\n",
            "Epoch 238/1000\n",
            "29/29 [==============================] - 0s 6ms/step - loss: 0.0231 - accuracy: 1.0000 - val_loss: 0.0400 - val_accuracy: 1.0000\n",
            "Epoch 239/1000\n",
            "29/29 [==============================] - 0s 5ms/step - loss: 0.0221 - accuracy: 1.0000 - val_loss: 0.0381 - val_accuracy: 1.0000\n",
            "Epoch 240/1000\n",
            "29/29 [==============================] - 0s 6ms/step - loss: 0.0211 - accuracy: 1.0000 - val_loss: 0.0363 - val_accuracy: 1.0000\n",
            "Epoch 241/1000\n",
            "29/29 [==============================] - 0s 6ms/step - loss: 0.0201 - accuracy: 1.0000 - val_loss: 0.0346 - val_accuracy: 1.0000\n",
            "Epoch 242/1000\n",
            "29/29 [==============================] - 0s 6ms/step - loss: 0.0191 - accuracy: 1.0000 - val_loss: 0.0329 - val_accuracy: 1.0000\n",
            "Epoch 243/1000\n",
            "29/29 [==============================] - 0s 6ms/step - loss: 0.0182 - accuracy: 1.0000 - val_loss: 0.0314 - val_accuracy: 1.0000\n",
            "Epoch 244/1000\n",
            "29/29 [==============================] - 0s 6ms/step - loss: 0.0174 - accuracy: 1.0000 - val_loss: 0.0299 - val_accuracy: 1.0000\n",
            "Epoch 245/1000\n",
            "29/29 [==============================] - 0s 7ms/step - loss: 0.0165 - accuracy: 1.0000 - val_loss: 0.0285 - val_accuracy: 1.0000\n",
            "Epoch 246/1000\n",
            "29/29 [==============================] - 0s 6ms/step - loss: 0.0158 - accuracy: 1.0000 - val_loss: 0.0274 - val_accuracy: 1.0000\n",
            "Epoch 247/1000\n",
            "29/29 [==============================] - 0s 6ms/step - loss: 0.0150 - accuracy: 1.0000 - val_loss: 0.0259 - val_accuracy: 1.0000\n",
            "Epoch 248/1000\n",
            "29/29 [==============================] - 0s 6ms/step - loss: 0.0143 - accuracy: 1.0000 - val_loss: 0.0247 - val_accuracy: 1.0000\n",
            "Epoch 249/1000\n",
            "29/29 [==============================] - 0s 6ms/step - loss: 0.0136 - accuracy: 1.0000 - val_loss: 0.0235 - val_accuracy: 1.0000\n",
            "Epoch 250/1000\n",
            "29/29 [==============================] - 0s 6ms/step - loss: 0.0130 - accuracy: 1.0000 - val_loss: 0.0224 - val_accuracy: 1.0000\n",
            "Epoch 251/1000\n",
            "29/29 [==============================] - 0s 6ms/step - loss: 0.0124 - accuracy: 1.0000 - val_loss: 0.0212 - val_accuracy: 1.0000\n",
            "Epoch 252/1000\n",
            "29/29 [==============================] - 0s 6ms/step - loss: 0.0118 - accuracy: 1.0000 - val_loss: 0.0202 - val_accuracy: 1.0000\n",
            "Epoch 253/1000\n",
            "29/29 [==============================] - 0s 6ms/step - loss: 0.0112 - accuracy: 1.0000 - val_loss: 0.0193 - val_accuracy: 1.0000\n",
            "Epoch 254/1000\n",
            "29/29 [==============================] - 0s 6ms/step - loss: 0.0106 - accuracy: 1.0000 - val_loss: 0.0184 - val_accuracy: 1.0000\n",
            "Epoch 255/1000\n",
            "29/29 [==============================] - 0s 6ms/step - loss: 0.0101 - accuracy: 1.0000 - val_loss: 0.0176 - val_accuracy: 1.0000\n",
            "Epoch 256/1000\n",
            "29/29 [==============================] - 0s 7ms/step - loss: 0.0096 - accuracy: 1.0000 - val_loss: 0.0166 - val_accuracy: 1.0000\n",
            "Epoch 257/1000\n",
            "29/29 [==============================] - 0s 6ms/step - loss: 0.0091 - accuracy: 1.0000 - val_loss: 0.0158 - val_accuracy: 1.0000\n",
            "Epoch 258/1000\n",
            "29/29 [==============================] - 0s 6ms/step - loss: 0.0087 - accuracy: 1.0000 - val_loss: 0.0152 - val_accuracy: 1.0000\n",
            "Epoch 259/1000\n",
            "29/29 [==============================] - 0s 6ms/step - loss: 0.0083 - accuracy: 1.0000 - val_loss: 0.0144 - val_accuracy: 1.0000\n",
            "Epoch 260/1000\n",
            "29/29 [==============================] - 0s 6ms/step - loss: 0.0079 - accuracy: 1.0000 - val_loss: 0.0137 - val_accuracy: 1.0000\n",
            "Epoch 261/1000\n",
            "29/29 [==============================] - 0s 6ms/step - loss: 0.0075 - accuracy: 1.0000 - val_loss: 0.0130 - val_accuracy: 1.0000\n",
            "Epoch 262/1000\n",
            "29/29 [==============================] - 0s 6ms/step - loss: 0.0071 - accuracy: 1.0000 - val_loss: 0.0124 - val_accuracy: 1.0000\n",
            "Epoch 263/1000\n",
            "29/29 [==============================] - 0s 6ms/step - loss: 0.0067 - accuracy: 1.0000 - val_loss: 0.0118 - val_accuracy: 1.0000\n",
            "Epoch 264/1000\n",
            "29/29 [==============================] - 0s 6ms/step - loss: 0.0064 - accuracy: 1.0000 - val_loss: 0.0112 - val_accuracy: 1.0000\n",
            "Epoch 265/1000\n",
            "29/29 [==============================] - 0s 6ms/step - loss: 0.0061 - accuracy: 1.0000 - val_loss: 0.0106 - val_accuracy: 1.0000\n",
            "Epoch 266/1000\n",
            "29/29 [==============================] - 0s 6ms/step - loss: 0.0057 - accuracy: 1.0000 - val_loss: 0.0100 - val_accuracy: 1.0000\n",
            "Epoch 267/1000\n",
            "29/29 [==============================] - 0s 7ms/step - loss: 0.0054 - accuracy: 1.0000 - val_loss: 0.0095 - val_accuracy: 1.0000\n",
            "Epoch 268/1000\n",
            "29/29 [==============================] - 0s 6ms/step - loss: 0.0052 - accuracy: 1.0000 - val_loss: 0.0090 - val_accuracy: 1.0000\n",
            "Epoch 269/1000\n",
            "29/29 [==============================] - 0s 6ms/step - loss: 0.0049 - accuracy: 1.0000 - val_loss: 0.0085 - val_accuracy: 1.0000\n",
            "Epoch 270/1000\n",
            "29/29 [==============================] - 0s 6ms/step - loss: 0.0046 - accuracy: 1.0000 - val_loss: 0.0081 - val_accuracy: 1.0000\n",
            "Epoch 271/1000\n",
            "29/29 [==============================] - 0s 7ms/step - loss: 0.0044 - accuracy: 1.0000 - val_loss: 0.0078 - val_accuracy: 1.0000\n",
            "Epoch 272/1000\n",
            "29/29 [==============================] - 0s 6ms/step - loss: 0.0041 - accuracy: 1.0000 - val_loss: 0.0073 - val_accuracy: 1.0000\n",
            "Epoch 273/1000\n",
            "29/29 [==============================] - 0s 6ms/step - loss: 0.0039 - accuracy: 1.0000 - val_loss: 0.0070 - val_accuracy: 1.0000\n",
            "Epoch 274/1000\n",
            "29/29 [==============================] - 0s 6ms/step - loss: 0.0037 - accuracy: 1.0000 - val_loss: 0.0066 - val_accuracy: 1.0000\n",
            "Epoch 275/1000\n",
            "29/29 [==============================] - 0s 6ms/step - loss: 0.0035 - accuracy: 1.0000 - val_loss: 0.0063 - val_accuracy: 1.0000\n",
            "Epoch 276/1000\n",
            "29/29 [==============================] - 0s 6ms/step - loss: 0.0033 - accuracy: 1.0000 - val_loss: 0.0059 - val_accuracy: 1.0000\n",
            "Epoch 277/1000\n",
            "29/29 [==============================] - 0s 6ms/step - loss: 0.0032 - accuracy: 1.0000 - val_loss: 0.0056 - val_accuracy: 1.0000\n",
            "Epoch 278/1000\n",
            "29/29 [==============================] - 0s 6ms/step - loss: 0.0030 - accuracy: 1.0000 - val_loss: 0.0053 - val_accuracy: 1.0000\n",
            "Epoch 279/1000\n",
            "29/29 [==============================] - 0s 6ms/step - loss: 0.0028 - accuracy: 1.0000 - val_loss: 0.0050 - val_accuracy: 1.0000\n",
            "Epoch 280/1000\n",
            "29/29 [==============================] - 0s 6ms/step - loss: 0.0027 - accuracy: 1.0000 - val_loss: 0.0047 - val_accuracy: 1.0000\n",
            "Epoch 281/1000\n",
            "29/29 [==============================] - 0s 6ms/step - loss: 0.0025 - accuracy: 1.0000 - val_loss: 0.0045 - val_accuracy: 1.0000\n",
            "Epoch 282/1000\n",
            "29/29 [==============================] - 0s 6ms/step - loss: 0.0024 - accuracy: 1.0000 - val_loss: 0.0043 - val_accuracy: 1.0000\n",
            "Epoch 283/1000\n",
            "29/29 [==============================] - 0s 6ms/step - loss: 0.0023 - accuracy: 1.0000 - val_loss: 0.0040 - val_accuracy: 1.0000\n",
            "Epoch 284/1000\n",
            "29/29 [==============================] - 0s 6ms/step - loss: 0.0021 - accuracy: 1.0000 - val_loss: 0.0038 - val_accuracy: 1.0000\n",
            "Epoch 285/1000\n",
            "29/29 [==============================] - 0s 6ms/step - loss: 0.0020 - accuracy: 1.0000 - val_loss: 0.0036 - val_accuracy: 1.0000\n",
            "Epoch 286/1000\n",
            "29/29 [==============================] - 0s 6ms/step - loss: 0.0019 - accuracy: 1.0000 - val_loss: 0.0034 - val_accuracy: 1.0000\n",
            "Epoch 287/1000\n",
            "29/29 [==============================] - 0s 6ms/step - loss: 0.0018 - accuracy: 1.0000 - val_loss: 0.0033 - val_accuracy: 1.0000\n",
            "Epoch 288/1000\n",
            "29/29 [==============================] - 0s 6ms/step - loss: 0.0017 - accuracy: 1.0000 - val_loss: 0.0031 - val_accuracy: 1.0000\n",
            "Epoch 289/1000\n",
            "29/29 [==============================] - 0s 6ms/step - loss: 0.0016 - accuracy: 1.0000 - val_loss: 0.0029 - val_accuracy: 1.0000\n",
            "Epoch 290/1000\n",
            "29/29 [==============================] - 0s 6ms/step - loss: 0.0015 - accuracy: 1.0000 - val_loss: 0.0027 - val_accuracy: 1.0000\n",
            "Epoch 291/1000\n",
            "29/29 [==============================] - 0s 6ms/step - loss: 0.0014 - accuracy: 1.0000 - val_loss: 0.0026 - val_accuracy: 1.0000\n",
            "Epoch 292/1000\n",
            "29/29 [==============================] - 0s 6ms/step - loss: 0.0013 - accuracy: 1.0000 - val_loss: 0.0024 - val_accuracy: 1.0000\n",
            "Epoch 293/1000\n",
            "29/29 [==============================] - 0s 6ms/step - loss: 0.0013 - accuracy: 1.0000 - val_loss: 0.0023 - val_accuracy: 1.0000\n",
            "Epoch 294/1000\n",
            "29/29 [==============================] - 0s 6ms/step - loss: 0.0012 - accuracy: 1.0000 - val_loss: 0.0022 - val_accuracy: 1.0000\n",
            "Epoch 295/1000\n",
            "29/29 [==============================] - 0s 6ms/step - loss: 0.0011 - accuracy: 1.0000 - val_loss: 0.0020 - val_accuracy: 1.0000\n",
            "Epoch 296/1000\n",
            "29/29 [==============================] - 0s 6ms/step - loss: 0.0011 - accuracy: 1.0000 - val_loss: 0.0019 - val_accuracy: 1.0000\n",
            "Epoch 297/1000\n",
            "29/29 [==============================] - 0s 6ms/step - loss: 9.8979e-04 - accuracy: 1.0000 - val_loss: 0.0018 - val_accuracy: 1.0000\n",
            "Epoch 298/1000\n",
            "29/29 [==============================] - 0s 7ms/step - loss: 9.3013e-04 - accuracy: 1.0000 - val_loss: 0.0017 - val_accuracy: 1.0000\n",
            "Epoch 299/1000\n",
            "29/29 [==============================] - 0s 6ms/step - loss: 8.7453e-04 - accuracy: 1.0000 - val_loss: 0.0016 - val_accuracy: 1.0000\n",
            "Epoch 300/1000\n",
            "29/29 [==============================] - 0s 6ms/step - loss: 8.2123e-04 - accuracy: 1.0000 - val_loss: 0.0015 - val_accuracy: 1.0000\n",
            "Epoch 301/1000\n",
            "29/29 [==============================] - 0s 6ms/step - loss: 7.7120e-04 - accuracy: 1.0000 - val_loss: 0.0014 - val_accuracy: 1.0000\n",
            "Epoch 302/1000\n",
            "29/29 [==============================] - 0s 7ms/step - loss: 7.2663e-04 - accuracy: 1.0000 - val_loss: 0.0013 - val_accuracy: 1.0000\n",
            "Epoch 303/1000\n",
            "29/29 [==============================] - 0s 6ms/step - loss: 6.8234e-04 - accuracy: 1.0000 - val_loss: 0.0012 - val_accuracy: 1.0000\n",
            "Epoch 304/1000\n",
            "29/29 [==============================] - 0s 6ms/step - loss: 6.4012e-04 - accuracy: 1.0000 - val_loss: 0.0011 - val_accuracy: 1.0000\n",
            "Epoch 305/1000\n",
            "29/29 [==============================] - 0s 6ms/step - loss: 6.0213e-04 - accuracy: 1.0000 - val_loss: 0.0011 - val_accuracy: 1.0000\n",
            "Epoch 306/1000\n",
            "29/29 [==============================] - 0s 7ms/step - loss: 5.6607e-04 - accuracy: 1.0000 - val_loss: 0.0010 - val_accuracy: 1.0000\n",
            "Epoch 307/1000\n",
            "29/29 [==============================] - 0s 7ms/step - loss: 5.3189e-04 - accuracy: 1.0000 - val_loss: 9.6162e-04 - val_accuracy: 1.0000\n",
            "Epoch 308/1000\n",
            "29/29 [==============================] - 0s 6ms/step - loss: 4.9901e-04 - accuracy: 1.0000 - val_loss: 9.0669e-04 - val_accuracy: 1.0000\n",
            "Epoch 309/1000\n",
            "29/29 [==============================] - 0s 6ms/step - loss: 4.6741e-04 - accuracy: 1.0000 - val_loss: 8.5401e-04 - val_accuracy: 1.0000\n",
            "Epoch 310/1000\n",
            "29/29 [==============================] - 0s 6ms/step - loss: 4.3863e-04 - accuracy: 1.0000 - val_loss: 7.9484e-04 - val_accuracy: 1.0000\n",
            "Epoch 311/1000\n",
            "29/29 [==============================] - 0s 7ms/step - loss: 4.1088e-04 - accuracy: 1.0000 - val_loss: 7.4573e-04 - val_accuracy: 1.0000\n",
            "Epoch 312/1000\n",
            "29/29 [==============================] - 0s 7ms/step - loss: 3.8440e-04 - accuracy: 1.0000 - val_loss: 6.9625e-04 - val_accuracy: 1.0000\n",
            "Epoch 313/1000\n",
            "29/29 [==============================] - 0s 6ms/step - loss: 3.5968e-04 - accuracy: 1.0000 - val_loss: 6.5771e-04 - val_accuracy: 1.0000\n",
            "Epoch 314/1000\n",
            "29/29 [==============================] - 0s 6ms/step - loss: 3.3822e-04 - accuracy: 1.0000 - val_loss: 6.1533e-04 - val_accuracy: 1.0000\n",
            "Epoch 315/1000\n",
            "29/29 [==============================] - 0s 7ms/step - loss: 3.1614e-04 - accuracy: 1.0000 - val_loss: 5.7646e-04 - val_accuracy: 1.0000\n",
            "Epoch 316/1000\n",
            "29/29 [==============================] - 0s 6ms/step - loss: 2.9837e-04 - accuracy: 1.0000 - val_loss: 5.4220e-04 - val_accuracy: 1.0000\n",
            "Epoch 317/1000\n",
            "29/29 [==============================] - 0s 6ms/step - loss: 2.7976e-04 - accuracy: 1.0000 - val_loss: 5.0595e-04 - val_accuracy: 1.0000\n",
            "Epoch 318/1000\n",
            "29/29 [==============================] - 0s 6ms/step - loss: 2.6261e-04 - accuracy: 1.0000 - val_loss: 4.7583e-04 - val_accuracy: 1.0000\n",
            "Epoch 319/1000\n",
            "29/29 [==============================] - 0s 6ms/step - loss: 2.4600e-04 - accuracy: 1.0000 - val_loss: 4.4421e-04 - val_accuracy: 1.0000\n",
            "Epoch 320/1000\n",
            "29/29 [==============================] - 0s 7ms/step - loss: 2.2985e-04 - accuracy: 1.0000 - val_loss: 4.1508e-04 - val_accuracy: 1.0000\n",
            "Epoch 321/1000\n",
            "29/29 [==============================] - 0s 6ms/step - loss: 2.1532e-04 - accuracy: 1.0000 - val_loss: 3.9208e-04 - val_accuracy: 1.0000\n",
            "Epoch 322/1000\n",
            "29/29 [==============================] - 0s 6ms/step - loss: 2.0151e-04 - accuracy: 1.0000 - val_loss: 3.6353e-04 - val_accuracy: 1.0000\n",
            "Epoch 323/1000\n",
            "29/29 [==============================] - 0s 7ms/step - loss: 1.8723e-04 - accuracy: 1.0000 - val_loss: 3.3789e-04 - val_accuracy: 1.0000\n",
            "Epoch 324/1000\n",
            "29/29 [==============================] - 0s 6ms/step - loss: 1.7454e-04 - accuracy: 1.0000 - val_loss: 3.1745e-04 - val_accuracy: 1.0000\n",
            "Epoch 325/1000\n",
            "29/29 [==============================] - 0s 6ms/step - loss: 1.6282e-04 - accuracy: 1.0000 - val_loss: 2.9617e-04 - val_accuracy: 1.0000\n",
            "Epoch 326/1000\n",
            "29/29 [==============================] - 0s 6ms/step - loss: 1.5209e-04 - accuracy: 1.0000 - val_loss: 2.7569e-04 - val_accuracy: 1.0000\n",
            "Epoch 327/1000\n",
            "29/29 [==============================] - 0s 6ms/step - loss: 1.4174e-04 - accuracy: 1.0000 - val_loss: 2.5860e-04 - val_accuracy: 1.0000\n",
            "Epoch 328/1000\n",
            "29/29 [==============================] - 0s 6ms/step - loss: 1.3218e-04 - accuracy: 1.0000 - val_loss: 2.4018e-04 - val_accuracy: 1.0000\n",
            "Epoch 329/1000\n",
            "29/29 [==============================] - 0s 7ms/step - loss: 1.2363e-04 - accuracy: 1.0000 - val_loss: 2.2494e-04 - val_accuracy: 1.0000\n",
            "Epoch 330/1000\n",
            "29/29 [==============================] - 0s 6ms/step - loss: 1.1554e-04 - accuracy: 1.0000 - val_loss: 2.0996e-04 - val_accuracy: 1.0000\n",
            "Epoch 331/1000\n",
            "29/29 [==============================] - 0s 6ms/step - loss: 1.0806e-04 - accuracy: 1.0000 - val_loss: 1.9845e-04 - val_accuracy: 1.0000\n",
            "Epoch 332/1000\n",
            "29/29 [==============================] - 0s 6ms/step - loss: 1.0097e-04 - accuracy: 1.0000 - val_loss: 1.8519e-04 - val_accuracy: 1.0000\n",
            "Epoch 333/1000\n",
            "29/29 [==============================] - 0s 7ms/step - loss: 9.3896e-05 - accuracy: 1.0000 - val_loss: 1.7248e-04 - val_accuracy: 1.0000\n",
            "Epoch 334/1000\n",
            "29/29 [==============================] - 0s 6ms/step - loss: 8.7477e-05 - accuracy: 1.0000 - val_loss: 1.6059e-04 - val_accuracy: 1.0000\n",
            "Epoch 335/1000\n",
            "29/29 [==============================] - 0s 7ms/step - loss: 8.1445e-05 - accuracy: 1.0000 - val_loss: 1.4960e-04 - val_accuracy: 1.0000\n",
            "Epoch 336/1000\n",
            "29/29 [==============================] - 0s 7ms/step - loss: 7.5721e-05 - accuracy: 1.0000 - val_loss: 1.3900e-04 - val_accuracy: 1.0000\n",
            "Epoch 337/1000\n",
            "29/29 [==============================] - 0s 7ms/step - loss: 7.0610e-05 - accuracy: 1.0000 - val_loss: 1.2967e-04 - val_accuracy: 1.0000\n",
            "Epoch 338/1000\n",
            "29/29 [==============================] - 0s 6ms/step - loss: 6.5874e-05 - accuracy: 1.0000 - val_loss: 1.2219e-04 - val_accuracy: 1.0000\n",
            "Epoch 339/1000\n",
            "29/29 [==============================] - 0s 6ms/step - loss: 6.1480e-05 - accuracy: 1.0000 - val_loss: 1.1408e-04 - val_accuracy: 1.0000\n",
            "Epoch 340/1000\n",
            "29/29 [==============================] - 0s 6ms/step - loss: 5.7391e-05 - accuracy: 1.0000 - val_loss: 1.0691e-04 - val_accuracy: 1.0000\n",
            "Epoch 341/1000\n",
            "29/29 [==============================] - 0s 7ms/step - loss: 5.3638e-05 - accuracy: 1.0000 - val_loss: 1.0143e-04 - val_accuracy: 1.0000\n",
            "Epoch 342/1000\n",
            "29/29 [==============================] - 0s 7ms/step - loss: 5.0111e-05 - accuracy: 1.0000 - val_loss: 9.3307e-05 - val_accuracy: 1.0000\n",
            "Epoch 343/1000\n",
            "29/29 [==============================] - 0s 7ms/step - loss: 4.6569e-05 - accuracy: 1.0000 - val_loss: 8.6247e-05 - val_accuracy: 1.0000\n",
            "Epoch 344/1000\n",
            "29/29 [==============================] - 0s 6ms/step - loss: 4.3331e-05 - accuracy: 1.0000 - val_loss: 8.1569e-05 - val_accuracy: 1.0000\n",
            "Epoch 345/1000\n",
            "29/29 [==============================] - 0s 7ms/step - loss: 4.0587e-05 - accuracy: 1.0000 - val_loss: 7.6240e-05 - val_accuracy: 1.0000\n",
            "Epoch 346/1000\n",
            "29/29 [==============================] - 0s 7ms/step - loss: 3.7649e-05 - accuracy: 1.0000 - val_loss: 7.0960e-05 - val_accuracy: 1.0000\n",
            "Epoch 347/1000\n",
            "29/29 [==============================] - 0s 7ms/step - loss: 3.5093e-05 - accuracy: 1.0000 - val_loss: 6.5329e-05 - val_accuracy: 1.0000\n",
            "Epoch 348/1000\n",
            "29/29 [==============================] - 0s 7ms/step - loss: 3.2579e-05 - accuracy: 1.0000 - val_loss: 6.0130e-05 - val_accuracy: 1.0000\n",
            "Epoch 349/1000\n",
            "29/29 [==============================] - 0s 6ms/step - loss: 3.0235e-05 - accuracy: 1.0000 - val_loss: 5.6077e-05 - val_accuracy: 1.0000\n",
            "Epoch 350/1000\n",
            "29/29 [==============================] - 0s 6ms/step - loss: 2.8110e-05 - accuracy: 1.0000 - val_loss: 5.1828e-05 - val_accuracy: 1.0000\n",
            "Epoch 351/1000\n",
            "29/29 [==============================] - 0s 6ms/step - loss: 2.6159e-05 - accuracy: 1.0000 - val_loss: 4.8111e-05 - val_accuracy: 1.0000\n",
            "Epoch 352/1000\n",
            "29/29 [==============================] - 0s 6ms/step - loss: 2.4349e-05 - accuracy: 1.0000 - val_loss: 4.4990e-05 - val_accuracy: 1.0000\n",
            "Epoch 353/1000\n",
            "29/29 [==============================] - 0s 6ms/step - loss: 2.2604e-05 - accuracy: 1.0000 - val_loss: 4.2397e-05 - val_accuracy: 1.0000\n",
            "Epoch 354/1000\n",
            "29/29 [==============================] - 0s 6ms/step - loss: 2.0997e-05 - accuracy: 1.0000 - val_loss: 3.8736e-05 - val_accuracy: 1.0000\n",
            "Epoch 355/1000\n",
            "29/29 [==============================] - 0s 7ms/step - loss: 1.9410e-05 - accuracy: 1.0000 - val_loss: 3.5965e-05 - val_accuracy: 1.0000\n",
            "Epoch 356/1000\n",
            "29/29 [==============================] - 0s 6ms/step - loss: 1.7971e-05 - accuracy: 1.0000 - val_loss: 3.3067e-05 - val_accuracy: 1.0000\n",
            "Epoch 357/1000\n",
            "29/29 [==============================] - 0s 6ms/step - loss: 1.6654e-05 - accuracy: 1.0000 - val_loss: 3.0616e-05 - val_accuracy: 1.0000\n",
            "Epoch 358/1000\n",
            "29/29 [==============================] - 0s 6ms/step - loss: 1.5429e-05 - accuracy: 1.0000 - val_loss: 2.8269e-05 - val_accuracy: 1.0000\n",
            "Epoch 359/1000\n",
            "29/29 [==============================] - 0s 7ms/step - loss: 1.4387e-05 - accuracy: 1.0000 - val_loss: 2.6456e-05 - val_accuracy: 1.0000\n",
            "Epoch 360/1000\n",
            "29/29 [==============================] - 0s 6ms/step - loss: 1.3358e-05 - accuracy: 1.0000 - val_loss: 2.4437e-05 - val_accuracy: 1.0000\n",
            "Epoch 361/1000\n",
            "29/29 [==============================] - 0s 6ms/step - loss: 1.2385e-05 - accuracy: 1.0000 - val_loss: 2.2708e-05 - val_accuracy: 1.0000\n",
            "Epoch 362/1000\n",
            "29/29 [==============================] - 0s 6ms/step - loss: 1.1469e-05 - accuracy: 1.0000 - val_loss: 2.0898e-05 - val_accuracy: 1.0000\n",
            "Epoch 363/1000\n",
            "29/29 [==============================] - 0s 6ms/step - loss: 1.0620e-05 - accuracy: 1.0000 - val_loss: 1.9401e-05 - val_accuracy: 1.0000\n",
            "Epoch 364/1000\n",
            "29/29 [==============================] - 0s 6ms/step - loss: 9.8448e-06 - accuracy: 1.0000 - val_loss: 1.7955e-05 - val_accuracy: 1.0000\n",
            "Epoch 365/1000\n",
            "29/29 [==============================] - 0s 6ms/step - loss: 9.1189e-06 - accuracy: 1.0000 - val_loss: 1.6622e-05 - val_accuracy: 1.0000\n",
            "Epoch 366/1000\n",
            "29/29 [==============================] - 0s 6ms/step - loss: 8.4554e-06 - accuracy: 1.0000 - val_loss: 1.5366e-05 - val_accuracy: 1.0000\n",
            "Epoch 367/1000\n",
            "29/29 [==============================] - 0s 6ms/step - loss: 7.8436e-06 - accuracy: 1.0000 - val_loss: 1.4189e-05 - val_accuracy: 1.0000\n",
            "Epoch 368/1000\n",
            "29/29 [==============================] - 0s 6ms/step - loss: 7.2766e-06 - accuracy: 1.0000 - val_loss: 1.3012e-05 - val_accuracy: 1.0000\n",
            "Epoch 369/1000\n",
            "29/29 [==============================] - 0s 6ms/step - loss: 6.7514e-06 - accuracy: 1.0000 - val_loss: 1.2036e-05 - val_accuracy: 1.0000\n",
            "Epoch 370/1000\n",
            "29/29 [==============================] - 0s 6ms/step - loss: 6.2489e-06 - accuracy: 1.0000 - val_loss: 1.1109e-05 - val_accuracy: 1.0000\n",
            "Epoch 371/1000\n",
            "29/29 [==============================] - 0s 6ms/step - loss: 5.7898e-06 - accuracy: 1.0000 - val_loss: 1.0252e-05 - val_accuracy: 1.0000\n",
            "Epoch 372/1000\n",
            "29/29 [==============================] - 0s 7ms/step - loss: 5.3677e-06 - accuracy: 1.0000 - val_loss: 9.5552e-06 - val_accuracy: 1.0000\n",
            "Epoch 373/1000\n",
            "29/29 [==============================] - 0s 7ms/step - loss: 4.9707e-06 - accuracy: 1.0000 - val_loss: 8.8623e-06 - val_accuracy: 1.0000\n",
            "Epoch 374/1000\n",
            "29/29 [==============================] - 0s 6ms/step - loss: 4.6230e-06 - accuracy: 1.0000 - val_loss: 8.1731e-06 - val_accuracy: 1.0000\n",
            "Epoch 375/1000\n",
            "29/29 [==============================] - 0s 6ms/step - loss: 4.3271e-06 - accuracy: 1.0000 - val_loss: 7.6852e-06 - val_accuracy: 1.0000\n",
            "Epoch 376/1000\n",
            "29/29 [==============================] - 0s 7ms/step - loss: 4.0258e-06 - accuracy: 1.0000 - val_loss: 7.0817e-06 - val_accuracy: 1.0000\n",
            "Epoch 377/1000\n",
            "29/29 [==============================] - 0s 7ms/step - loss: 3.7476e-06 - accuracy: 1.0000 - val_loss: 6.6421e-06 - val_accuracy: 1.0000\n",
            "Epoch 378/1000\n",
            "29/29 [==============================] - 0s 6ms/step - loss: 3.4670e-06 - accuracy: 1.0000 - val_loss: 6.1243e-06 - val_accuracy: 1.0000\n",
            "Epoch 379/1000\n",
            "29/29 [==============================] - 0s 6ms/step - loss: 3.2252e-06 - accuracy: 1.0000 - val_loss: 5.7443e-06 - val_accuracy: 1.0000\n",
            "Epoch 380/1000\n",
            "29/29 [==============================] - 0s 6ms/step - loss: 3.0079e-06 - accuracy: 1.0000 - val_loss: 5.3122e-06 - val_accuracy: 1.0000\n",
            "Epoch 381/1000\n",
            "29/29 [==============================] - 0s 6ms/step - loss: 2.8051e-06 - accuracy: 1.0000 - val_loss: 4.9248e-06 - val_accuracy: 1.0000\n",
            "Epoch 382/1000\n",
            "29/29 [==============================] - 0s 6ms/step - loss: 2.6110e-06 - accuracy: 1.0000 - val_loss: 4.5746e-06 - val_accuracy: 1.0000\n",
            "Epoch 383/1000\n",
            "29/29 [==============================] - 0s 7ms/step - loss: 2.4388e-06 - accuracy: 1.0000 - val_loss: 4.2878e-06 - val_accuracy: 1.0000\n",
            "Epoch 384/1000\n",
            "29/29 [==============================] - 0s 6ms/step - loss: 2.2877e-06 - accuracy: 1.0000 - val_loss: 4.0531e-06 - val_accuracy: 1.0000\n",
            "Epoch 385/1000\n",
            "29/29 [==============================] - 0s 6ms/step - loss: 2.1420e-06 - accuracy: 1.0000 - val_loss: 3.7588e-06 - val_accuracy: 1.0000\n",
            "Epoch 386/1000\n",
            "29/29 [==============================] - 0s 6ms/step - loss: 2.0030e-06 - accuracy: 1.0000 - val_loss: 3.4980e-06 - val_accuracy: 1.0000\n",
            "Epoch 387/1000\n",
            "29/29 [==============================] - 0s 6ms/step - loss: 1.8527e-06 - accuracy: 1.0000 - val_loss: 3.2447e-06 - val_accuracy: 1.0000\n",
            "Epoch 388/1000\n",
            "29/29 [==============================] - 0s 6ms/step - loss: 1.7285e-06 - accuracy: 1.0000 - val_loss: 3.0510e-06 - val_accuracy: 1.0000\n",
            "Epoch 389/1000\n",
            "29/29 [==============================] - 0s 7ms/step - loss: 1.6255e-06 - accuracy: 1.0000 - val_loss: 2.8089e-06 - val_accuracy: 1.0000\n",
            "Epoch 390/1000\n",
            "29/29 [==============================] - 0s 6ms/step - loss: 1.5120e-06 - accuracy: 1.0000 - val_loss: 2.6151e-06 - val_accuracy: 1.0000\n",
            "Epoch 391/1000\n",
            "29/29 [==============================] - 0s 6ms/step - loss: 1.4086e-06 - accuracy: 1.0000 - val_loss: 2.4214e-06 - val_accuracy: 1.0000\n",
            "Epoch 392/1000\n",
            "29/29 [==============================] - 0s 7ms/step - loss: 1.3154e-06 - accuracy: 1.0000 - val_loss: 2.3097e-06 - val_accuracy: 1.0000\n",
            "Epoch 393/1000\n",
            "29/29 [==============================] - 0s 7ms/step - loss: 1.2430e-06 - accuracy: 1.0000 - val_loss: 2.1495e-06 - val_accuracy: 1.0000\n",
            "Epoch 394/1000\n",
            "29/29 [==============================] - 0s 6ms/step - loss: 1.1726e-06 - accuracy: 1.0000 - val_loss: 1.9893e-06 - val_accuracy: 1.0000\n",
            "Epoch 395/1000\n",
            "29/29 [==============================] - 0s 6ms/step - loss: 1.1114e-06 - accuracy: 1.0000 - val_loss: 1.8887e-06 - val_accuracy: 1.0000\n",
            "Epoch 396/1000\n",
            "29/29 [==============================] - 0s 6ms/step - loss: 1.0613e-06 - accuracy: 1.0000 - val_loss: 1.7658e-06 - val_accuracy: 1.0000\n",
            "Epoch 397/1000\n",
            "29/29 [==============================] - 0s 6ms/step - loss: 9.8637e-07 - accuracy: 1.0000 - val_loss: 1.6615e-06 - val_accuracy: 1.0000\n",
            "Epoch 398/1000\n",
            "29/29 [==============================] - 0s 7ms/step - loss: 9.2553e-07 - accuracy: 1.0000 - val_loss: 1.5758e-06 - val_accuracy: 1.0000\n",
            "Epoch 399/1000\n",
            "29/29 [==============================] - 0s 6ms/step - loss: 8.7627e-07 - accuracy: 1.0000 - val_loss: 1.4827e-06 - val_accuracy: 1.0000\n",
            "Epoch 400/1000\n",
            "29/29 [==============================] - 0s 6ms/step - loss: 8.2122e-07 - accuracy: 1.0000 - val_loss: 1.3858e-06 - val_accuracy: 1.0000\n",
            "Epoch 401/1000\n",
            "29/29 [==============================] - 0s 6ms/step - loss: 7.7693e-07 - accuracy: 1.0000 - val_loss: 1.3262e-06 - val_accuracy: 1.0000\n",
            "Epoch 402/1000\n",
            "29/29 [==============================] - 0s 6ms/step - loss: 7.3305e-07 - accuracy: 1.0000 - val_loss: 1.2554e-06 - val_accuracy: 1.0000\n",
            "Epoch 403/1000\n",
            "29/29 [==============================] - 0s 6ms/step - loss: 6.8462e-07 - accuracy: 1.0000 - val_loss: 1.1660e-06 - val_accuracy: 1.0000\n",
            "Epoch 404/1000\n",
            "29/29 [==============================] - 0s 6ms/step - loss: 6.4779e-07 - accuracy: 1.0000 - val_loss: 1.1101e-06 - val_accuracy: 1.0000\n",
            "Epoch 405/1000\n",
            "29/29 [==============================] - 0s 7ms/step - loss: 6.1923e-07 - accuracy: 1.0000 - val_loss: 1.0468e-06 - val_accuracy: 1.0000\n",
            "Epoch 406/1000\n",
            "29/29 [==============================] - 0s 6ms/step - loss: 5.8653e-07 - accuracy: 1.0000 - val_loss: 1.0133e-06 - val_accuracy: 1.0000\n",
            "Epoch 407/1000\n",
            "29/29 [==============================] - 0s 6ms/step - loss: 5.6335e-07 - accuracy: 1.0000 - val_loss: 9.6485e-07 - val_accuracy: 1.0000\n",
            "Epoch 408/1000\n",
            "29/29 [==============================] - 0s 6ms/step - loss: 5.4679e-07 - accuracy: 1.0000 - val_loss: 9.3132e-07 - val_accuracy: 1.0000\n",
            "Epoch 409/1000\n",
            "29/29 [==============================] - 0s 6ms/step - loss: 5.1864e-07 - accuracy: 1.0000 - val_loss: 8.9407e-07 - val_accuracy: 1.0000\n",
            "Epoch 410/1000\n",
            "29/29 [==============================] - 0s 6ms/step - loss: 5.0498e-07 - accuracy: 1.0000 - val_loss: 8.2701e-07 - val_accuracy: 1.0000\n",
            "Epoch 411/1000\n",
            "29/29 [==============================] - 0s 6ms/step - loss: 4.7435e-07 - accuracy: 1.0000 - val_loss: 7.9721e-07 - val_accuracy: 1.0000\n",
            "Epoch 412/1000\n",
            "29/29 [==============================] - 0s 5ms/step - loss: 4.5821e-07 - accuracy: 1.0000 - val_loss: 7.5623e-07 - val_accuracy: 1.0000\n",
            "Epoch 413/1000\n",
            "29/29 [==============================] - 0s 6ms/step - loss: 4.3917e-07 - accuracy: 1.0000 - val_loss: 7.4133e-07 - val_accuracy: 1.0000\n",
            "Epoch 414/1000\n",
            "29/29 [==============================] - 0s 6ms/step - loss: 4.1806e-07 - accuracy: 1.0000 - val_loss: 6.9663e-07 - val_accuracy: 1.0000\n",
            "Epoch 415/1000\n",
            "29/29 [==============================] - 0s 6ms/step - loss: 3.9778e-07 - accuracy: 1.0000 - val_loss: 6.5938e-07 - val_accuracy: 1.0000\n",
            "Epoch 416/1000\n",
            "29/29 [==============================] - 0s 6ms/step - loss: 3.8536e-07 - accuracy: 1.0000 - val_loss: 6.2957e-07 - val_accuracy: 1.0000\n",
            "Epoch 417/1000\n",
            "29/29 [==============================] - 0s 6ms/step - loss: 3.6963e-07 - accuracy: 1.0000 - val_loss: 6.1840e-07 - val_accuracy: 1.0000\n",
            "Epoch 418/1000\n",
            "29/29 [==============================] - 0s 6ms/step - loss: 3.5556e-07 - accuracy: 1.0000 - val_loss: 5.8860e-07 - val_accuracy: 1.0000\n",
            "Epoch 419/1000\n",
            "29/29 [==============================] - 0s 7ms/step - loss: 3.4024e-07 - accuracy: 1.0000 - val_loss: 5.5507e-07 - val_accuracy: 1.0000\n",
            "Epoch 420/1000\n",
            "29/29 [==============================] - 0s 6ms/step - loss: 3.2700e-07 - accuracy: 1.0000 - val_loss: 5.3272e-07 - val_accuracy: 1.0000\n",
            "Epoch 421/1000\n",
            "29/29 [==============================] - 0s 6ms/step - loss: 3.1582e-07 - accuracy: 1.0000 - val_loss: 5.1409e-07 - val_accuracy: 1.0000\n",
            "Epoch 422/1000\n",
            "29/29 [==============================] - 0s 6ms/step - loss: 2.9513e-07 - accuracy: 1.0000 - val_loss: 5.1036e-07 - val_accuracy: 1.0000\n",
            "Epoch 423/1000\n",
            "29/29 [==============================] - 0s 7ms/step - loss: 2.7940e-07 - accuracy: 1.0000 - val_loss: 4.3958e-07 - val_accuracy: 1.0000\n",
            "Epoch 424/1000\n",
            "29/29 [==============================] - 0s 6ms/step - loss: 2.5911e-07 - accuracy: 1.0000 - val_loss: 4.2096e-07 - val_accuracy: 1.0000\n",
            "Epoch 425/1000\n",
            "29/29 [==============================] - 0s 6ms/step - loss: 2.5208e-07 - accuracy: 1.0000 - val_loss: 4.0606e-07 - val_accuracy: 1.0000\n",
            "Epoch 426/1000\n",
            "29/29 [==============================] - 0s 7ms/step - loss: 2.3387e-07 - accuracy: 1.0000 - val_loss: 3.6135e-07 - val_accuracy: 1.0000\n",
            "Epoch 427/1000\n",
            "29/29 [==============================] - 0s 6ms/step - loss: 2.2435e-07 - accuracy: 1.0000 - val_loss: 3.5763e-07 - val_accuracy: 1.0000\n",
            "Epoch 428/1000\n",
            "29/29 [==============================] - 0s 6ms/step - loss: 2.1938e-07 - accuracy: 1.0000 - val_loss: 3.5390e-07 - val_accuracy: 1.0000\n",
            "Epoch 429/1000\n",
            "29/29 [==============================] - 0s 6ms/step - loss: 2.1400e-07 - accuracy: 1.0000 - val_loss: 3.3155e-07 - val_accuracy: 1.0000\n",
            "Epoch 430/1000\n",
            "29/29 [==============================] - 0s 6ms/step - loss: 1.9992e-07 - accuracy: 1.0000 - val_loss: 3.3155e-07 - val_accuracy: 1.0000\n",
            "Epoch 431/1000\n",
            "29/29 [==============================] - 0s 7ms/step - loss: 1.8585e-07 - accuracy: 1.0000 - val_loss: 3.2410e-07 - val_accuracy: 1.0000\n",
            "Epoch 432/1000\n",
            "29/29 [==============================] - 0s 6ms/step - loss: 1.8626e-07 - accuracy: 1.0000 - val_loss: 3.2037e-07 - val_accuracy: 1.0000\n",
            "Epoch 433/1000\n",
            "29/29 [==============================] - 0s 6ms/step - loss: 1.8047e-07 - accuracy: 1.0000 - val_loss: 3.0547e-07 - val_accuracy: 1.0000\n",
            "Epoch 434/1000\n",
            "29/29 [==============================] - 0s 6ms/step - loss: 1.7054e-07 - accuracy: 1.0000 - val_loss: 3.0175e-07 - val_accuracy: 1.0000\n",
            "Epoch 435/1000\n",
            "29/29 [==============================] - 0s 6ms/step - loss: 1.7054e-07 - accuracy: 1.0000 - val_loss: 2.9057e-07 - val_accuracy: 1.0000\n",
            "Epoch 436/1000\n",
            "29/29 [==============================] - 0s 6ms/step - loss: 1.6598e-07 - accuracy: 1.0000 - val_loss: 2.7940e-07 - val_accuracy: 1.0000\n",
            "Epoch 437/1000\n",
            "29/29 [==============================] - 0s 7ms/step - loss: 1.6557e-07 - accuracy: 1.0000 - val_loss: 2.7195e-07 - val_accuracy: 1.0000\n",
            "Epoch 438/1000\n",
            "29/29 [==============================] - 0s 7ms/step - loss: 1.5770e-07 - accuracy: 1.0000 - val_loss: 2.6450e-07 - val_accuracy: 1.0000\n",
            "Epoch 439/1000\n",
            "29/29 [==============================] - 0s 7ms/step - loss: 1.5067e-07 - accuracy: 1.0000 - val_loss: 2.5704e-07 - val_accuracy: 1.0000\n",
            "Epoch 440/1000\n",
            "29/29 [==============================] - 0s 7ms/step - loss: 1.4404e-07 - accuracy: 1.0000 - val_loss: 2.3469e-07 - val_accuracy: 1.0000\n",
            "Epoch 441/1000\n",
            "29/29 [==============================] - 0s 6ms/step - loss: 1.4363e-07 - accuracy: 1.0000 - val_loss: 2.2352e-07 - val_accuracy: 1.0000\n",
            "Epoch 442/1000\n",
            "29/29 [==============================] - 0s 6ms/step - loss: 1.3742e-07 - accuracy: 1.0000 - val_loss: 2.3842e-07 - val_accuracy: 1.0000\n",
            "Epoch 443/1000\n",
            "29/29 [==============================] - 0s 6ms/step - loss: 1.3287e-07 - accuracy: 1.0000 - val_loss: 2.3469e-07 - val_accuracy: 1.0000\n",
            "Epoch 444/1000\n",
            "29/29 [==============================] - 0s 6ms/step - loss: 1.2914e-07 - accuracy: 1.0000 - val_loss: 2.0862e-07 - val_accuracy: 1.0000\n",
            "Epoch 445/1000\n",
            "29/29 [==============================] - 0s 6ms/step - loss: 1.2252e-07 - accuracy: 1.0000 - val_loss: 2.1607e-07 - val_accuracy: 1.0000\n",
            "Epoch 446/1000\n",
            "29/29 [==============================] - 0s 6ms/step - loss: 1.2045e-07 - accuracy: 1.0000 - val_loss: 2.0117e-07 - val_accuracy: 1.0000\n",
            "Epoch 447/1000\n",
            "29/29 [==============================] - 0s 6ms/step - loss: 1.1714e-07 - accuracy: 1.0000 - val_loss: 1.9744e-07 - val_accuracy: 1.0000\n",
            "Epoch 448/1000\n",
            "29/29 [==============================] - 0s 6ms/step - loss: 1.1383e-07 - accuracy: 1.0000 - val_loss: 2.0862e-07 - val_accuracy: 1.0000\n",
            "Epoch 449/1000\n",
            "29/29 [==============================] - 0s 7ms/step - loss: 1.1052e-07 - accuracy: 1.0000 - val_loss: 1.7881e-07 - val_accuracy: 1.0000\n",
            "Epoch 450/1000\n",
            "29/29 [==============================] - 0s 7ms/step - loss: 1.0514e-07 - accuracy: 1.0000 - val_loss: 1.7509e-07 - val_accuracy: 1.0000\n",
            "Epoch 451/1000\n",
            "29/29 [==============================] - 0s 6ms/step - loss: 1.0431e-07 - accuracy: 1.0000 - val_loss: 1.6764e-07 - val_accuracy: 1.0000\n",
            "Epoch 452/1000\n",
            "29/29 [==============================] - 0s 6ms/step - loss: 1.0389e-07 - accuracy: 1.0000 - val_loss: 1.7881e-07 - val_accuracy: 1.0000\n",
            "Epoch 453/1000\n",
            "29/29 [==============================] - 0s 7ms/step - loss: 9.6858e-08 - accuracy: 1.0000 - val_loss: 1.6391e-07 - val_accuracy: 1.0000\n",
            "Epoch 454/1000\n",
            "29/29 [==============================] - 0s 6ms/step - loss: 9.3960e-08 - accuracy: 1.0000 - val_loss: 1.6019e-07 - val_accuracy: 1.0000\n",
            "Epoch 455/1000\n",
            "29/29 [==============================] - 0s 6ms/step - loss: 9.1477e-08 - accuracy: 1.0000 - val_loss: 1.6019e-07 - val_accuracy: 1.0000\n",
            "Epoch 456/1000\n",
            "29/29 [==============================] - 0s 7ms/step - loss: 8.9821e-08 - accuracy: 1.0000 - val_loss: 1.4529e-07 - val_accuracy: 1.0000\n",
            "Epoch 457/1000\n",
            "29/29 [==============================] - 0s 6ms/step - loss: 8.5268e-08 - accuracy: 1.0000 - val_loss: 1.4901e-07 - val_accuracy: 1.0000\n",
            "Epoch 458/1000\n",
            "29/29 [==============================] - 0s 6ms/step - loss: 8.5682e-08 - accuracy: 1.0000 - val_loss: 1.5274e-07 - val_accuracy: 1.0000\n",
            "Epoch 459/1000\n",
            "29/29 [==============================] - 0s 6ms/step - loss: 8.9407e-08 - accuracy: 1.0000 - val_loss: 1.4529e-07 - val_accuracy: 1.0000\n",
            "Epoch 460/1000\n",
            "29/29 [==============================] - 0s 6ms/step - loss: 8.4854e-08 - accuracy: 1.0000 - val_loss: 1.3411e-07 - val_accuracy: 1.0000\n",
            "Epoch 461/1000\n",
            "29/29 [==============================] - 0s 6ms/step - loss: 7.9887e-08 - accuracy: 1.0000 - val_loss: 1.3039e-07 - val_accuracy: 1.0000\n",
            "Epoch 462/1000\n",
            "29/29 [==============================] - 0s 7ms/step - loss: 7.8231e-08 - accuracy: 1.0000 - val_loss: 1.3411e-07 - val_accuracy: 1.0000\n",
            "Epoch 463/1000\n",
            "29/29 [==============================] - 0s 6ms/step - loss: 7.9059e-08 - accuracy: 1.0000 - val_loss: 1.3039e-07 - val_accuracy: 1.0000\n",
            "Epoch 464/1000\n",
            "29/29 [==============================] - 0s 7ms/step - loss: 7.4092e-08 - accuracy: 1.0000 - val_loss: 1.2666e-07 - val_accuracy: 1.0000\n",
            "Epoch 465/1000\n",
            "29/29 [==============================] - 0s 6ms/step - loss: 7.1608e-08 - accuracy: 1.0000 - val_loss: 1.2293e-07 - val_accuracy: 1.0000\n",
            "Epoch 466/1000\n",
            "29/29 [==============================] - 0s 6ms/step - loss: 7.3264e-08 - accuracy: 1.0000 - val_loss: 1.2293e-07 - val_accuracy: 1.0000\n",
            "Epoch 467/1000\n",
            "29/29 [==============================] - 0s 6ms/step - loss: 7.1608e-08 - accuracy: 1.0000 - val_loss: 1.2666e-07 - val_accuracy: 1.0000\n",
            "Epoch 468/1000\n",
            "29/29 [==============================] - 0s 6ms/step - loss: 7.3678e-08 - accuracy: 1.0000 - val_loss: 1.1921e-07 - val_accuracy: 1.0000\n",
            "Epoch 469/1000\n",
            "29/29 [==============================] - 0s 6ms/step - loss: 7.0367e-08 - accuracy: 1.0000 - val_loss: 1.2293e-07 - val_accuracy: 1.0000\n",
            "Epoch 470/1000\n",
            "29/29 [==============================] - 0s 6ms/step - loss: 7.2850e-08 - accuracy: 1.0000 - val_loss: 1.3039e-07 - val_accuracy: 1.0000\n",
            "Epoch 471/1000\n",
            "29/29 [==============================] - 0s 6ms/step - loss: 7.2022e-08 - accuracy: 1.0000 - val_loss: 1.1921e-07 - val_accuracy: 1.0000\n",
            "Epoch 472/1000\n",
            "29/29 [==============================] - 0s 7ms/step - loss: 6.6227e-08 - accuracy: 1.0000 - val_loss: 1.2666e-07 - val_accuracy: 1.0000\n",
            "Epoch 473/1000\n",
            "29/29 [==============================] - 0s 7ms/step - loss: 6.9125e-08 - accuracy: 1.0000 - val_loss: 1.1548e-07 - val_accuracy: 1.0000\n",
            "Epoch 474/1000\n",
            "29/29 [==============================] - 0s 6ms/step - loss: 6.1674e-08 - accuracy: 1.0000 - val_loss: 1.1921e-07 - val_accuracy: 1.0000\n",
            "Epoch 475/1000\n",
            "29/29 [==============================] - 0s 7ms/step - loss: 6.2088e-08 - accuracy: 1.0000 - val_loss: 1.2666e-07 - val_accuracy: 1.0000\n",
            "Epoch 476/1000\n",
            "29/29 [==============================] - 0s 7ms/step - loss: 5.8363e-08 - accuracy: 1.0000 - val_loss: 1.1921e-07 - val_accuracy: 1.0000\n",
            "Epoch 477/1000\n",
            "29/29 [==============================] - 0s 6ms/step - loss: 5.5879e-08 - accuracy: 1.0000 - val_loss: 1.0803e-07 - val_accuracy: 1.0000\n",
            "Epoch 478/1000\n",
            "29/29 [==============================] - 0s 6ms/step - loss: 6.0019e-08 - accuracy: 1.0000 - val_loss: 1.0803e-07 - val_accuracy: 1.0000\n",
            "Epoch 479/1000\n",
            "29/29 [==============================] - 0s 6ms/step - loss: 5.5879e-08 - accuracy: 1.0000 - val_loss: 9.6858e-08 - val_accuracy: 1.0000\n",
            "Epoch 480/1000\n",
            "29/29 [==============================] - 0s 6ms/step - loss: 5.0912e-08 - accuracy: 1.0000 - val_loss: 1.0058e-07 - val_accuracy: 1.0000\n",
            "Epoch 481/1000\n",
            "29/29 [==============================] - 0s 6ms/step - loss: 5.2568e-08 - accuracy: 1.0000 - val_loss: 1.0058e-07 - val_accuracy: 1.0000\n",
            "Epoch 482/1000\n",
            "29/29 [==============================] - 0s 6ms/step - loss: 5.3396e-08 - accuracy: 1.0000 - val_loss: 8.1956e-08 - val_accuracy: 1.0000\n",
            "Epoch 483/1000\n",
            "29/29 [==============================] - 0s 6ms/step - loss: 4.4703e-08 - accuracy: 1.0000 - val_loss: 1.0058e-07 - val_accuracy: 1.0000\n",
            "Epoch 484/1000\n",
            "29/29 [==============================] - 0s 6ms/step - loss: 5.7535e-08 - accuracy: 1.0000 - val_loss: 9.3132e-08 - val_accuracy: 1.0000\n",
            "Epoch 485/1000\n",
            "29/29 [==============================] - 0s 6ms/step - loss: 5.2982e-08 - accuracy: 1.0000 - val_loss: 8.1956e-08 - val_accuracy: 1.0000\n",
            "Epoch 486/1000\n",
            "29/29 [==============================] - 0s 7ms/step - loss: 5.0912e-08 - accuracy: 1.0000 - val_loss: 8.1956e-08 - val_accuracy: 1.0000\n",
            "Epoch 487/1000\n",
            "29/29 [==============================] - 0s 6ms/step - loss: 4.7601e-08 - accuracy: 1.0000 - val_loss: 9.3132e-08 - val_accuracy: 1.0000\n",
            "Epoch 488/1000\n",
            "29/29 [==============================] - 0s 7ms/step - loss: 5.0498e-08 - accuracy: 1.0000 - val_loss: 9.6858e-08 - val_accuracy: 1.0000\n",
            "Epoch 489/1000\n",
            "29/29 [==============================] - 0s 6ms/step - loss: 5.3396e-08 - accuracy: 1.0000 - val_loss: 7.8231e-08 - val_accuracy: 1.0000\n",
            "Epoch 490/1000\n",
            "29/29 [==============================] - 0s 6ms/step - loss: 4.3876e-08 - accuracy: 1.0000 - val_loss: 9.3132e-08 - val_accuracy: 1.0000\n",
            "Epoch 491/1000\n",
            "29/29 [==============================] - 0s 6ms/step - loss: 4.7187e-08 - accuracy: 1.0000 - val_loss: 7.8231e-08 - val_accuracy: 1.0000\n",
            "Epoch 492/1000\n",
            "29/29 [==============================] - 0s 6ms/step - loss: 4.2634e-08 - accuracy: 1.0000 - val_loss: 8.1956e-08 - val_accuracy: 1.0000\n",
            "Epoch 493/1000\n",
            "29/29 [==============================] - 0s 6ms/step - loss: 3.9736e-08 - accuracy: 1.0000 - val_loss: 7.8231e-08 - val_accuracy: 1.0000\n",
            "Epoch 494/1000\n",
            "29/29 [==============================] - 0s 6ms/step - loss: 4.4703e-08 - accuracy: 1.0000 - val_loss: 7.8231e-08 - val_accuracy: 1.0000\n",
            "Epoch 495/1000\n",
            "29/29 [==============================] - 0s 6ms/step - loss: 4.2220e-08 - accuracy: 1.0000 - val_loss: 7.8231e-08 - val_accuracy: 1.0000\n",
            "Epoch 496/1000\n",
            "29/29 [==============================] - 0s 6ms/step - loss: 4.4290e-08 - accuracy: 1.0000 - val_loss: 7.8231e-08 - val_accuracy: 1.0000\n",
            "Epoch 497/1000\n",
            "29/29 [==============================] - 0s 6ms/step - loss: 4.3048e-08 - accuracy: 1.0000 - val_loss: 7.8231e-08 - val_accuracy: 1.0000\n",
            "Epoch 498/1000\n",
            "29/29 [==============================] - 0s 6ms/step - loss: 3.9736e-08 - accuracy: 1.0000 - val_loss: 7.8231e-08 - val_accuracy: 1.0000\n",
            "Epoch 499/1000\n",
            "29/29 [==============================] - 0s 7ms/step - loss: 4.0564e-08 - accuracy: 1.0000 - val_loss: 7.0781e-08 - val_accuracy: 1.0000\n",
            "Epoch 500/1000\n",
            "29/29 [==============================] - 0s 7ms/step - loss: 4.0978e-08 - accuracy: 1.0000 - val_loss: 6.7055e-08 - val_accuracy: 1.0000\n",
            "Epoch 501/1000\n",
            "29/29 [==============================] - 0s 6ms/step - loss: 3.7667e-08 - accuracy: 1.0000 - val_loss: 7.4506e-08 - val_accuracy: 1.0000\n",
            "Epoch 502/1000\n",
            "29/29 [==============================] - 0s 6ms/step - loss: 3.8495e-08 - accuracy: 1.0000 - val_loss: 8.1956e-08 - val_accuracy: 1.0000\n",
            "Epoch 503/1000\n",
            "29/29 [==============================] - 0s 7ms/step - loss: 3.8495e-08 - accuracy: 1.0000 - val_loss: 7.8231e-08 - val_accuracy: 1.0000\n",
            "Epoch 504/1000\n",
            "29/29 [==============================] - 0s 6ms/step - loss: 4.0564e-08 - accuracy: 1.0000 - val_loss: 7.4506e-08 - val_accuracy: 1.0000\n",
            "Epoch 505/1000\n",
            "29/29 [==============================] - 0s 6ms/step - loss: 3.6839e-08 - accuracy: 1.0000 - val_loss: 7.8231e-08 - val_accuracy: 1.0000\n",
            "Epoch 506/1000\n",
            "29/29 [==============================] - 0s 6ms/step - loss: 4.2220e-08 - accuracy: 1.0000 - val_loss: 5.9605e-08 - val_accuracy: 1.0000\n",
            "Epoch 507/1000\n",
            "29/29 [==============================] - 0s 7ms/step - loss: 3.3114e-08 - accuracy: 1.0000 - val_loss: 7.4506e-08 - val_accuracy: 1.0000\n",
            "Epoch 508/1000\n",
            "29/29 [==============================] - 0s 6ms/step - loss: 3.9323e-08 - accuracy: 1.0000 - val_loss: 7.4506e-08 - val_accuracy: 1.0000\n",
            "Epoch 509/1000\n",
            "29/29 [==============================] - 0s 6ms/step - loss: 3.8495e-08 - accuracy: 1.0000 - val_loss: 7.0781e-08 - val_accuracy: 1.0000\n",
            "Epoch 510/1000\n",
            "29/29 [==============================] - 0s 7ms/step - loss: 3.9323e-08 - accuracy: 1.0000 - val_loss: 5.9605e-08 - val_accuracy: 1.0000\n",
            "Epoch 511/1000\n",
            "29/29 [==============================] - 0s 7ms/step - loss: 3.6011e-08 - accuracy: 1.0000 - val_loss: 6.3330e-08 - val_accuracy: 1.0000\n",
            "Epoch 512/1000\n",
            "29/29 [==============================] - 0s 6ms/step - loss: 3.3942e-08 - accuracy: 1.0000 - val_loss: 8.5682e-08 - val_accuracy: 1.0000\n",
            "Epoch 513/1000\n",
            "29/29 [==============================] - 0s 6ms/step - loss: 3.9736e-08 - accuracy: 1.0000 - val_loss: 5.5879e-08 - val_accuracy: 1.0000\n",
            "Epoch 514/1000\n",
            "29/29 [==============================] - 0s 7ms/step - loss: 2.9802e-08 - accuracy: 1.0000 - val_loss: 4.8429e-08 - val_accuracy: 1.0000\n",
            "Epoch 515/1000\n",
            "29/29 [==============================] - 0s 7ms/step - loss: 2.8561e-08 - accuracy: 1.0000 - val_loss: 5.2154e-08 - val_accuracy: 1.0000\n",
            "Epoch 516/1000\n",
            "29/29 [==============================] - 0s 6ms/step - loss: 2.6491e-08 - accuracy: 1.0000 - val_loss: 5.5879e-08 - val_accuracy: 1.0000\n",
            "Epoch 517/1000\n",
            "29/29 [==============================] - 0s 7ms/step - loss: 2.8561e-08 - accuracy: 1.0000 - val_loss: 4.4703e-08 - val_accuracy: 1.0000\n",
            "Epoch 518/1000\n",
            "29/29 [==============================] - 0s 6ms/step - loss: 2.6077e-08 - accuracy: 1.0000 - val_loss: 5.2154e-08 - val_accuracy: 1.0000\n",
            "Epoch 519/1000\n",
            "29/29 [==============================] - 0s 6ms/step - loss: 2.8561e-08 - accuracy: 1.0000 - val_loss: 5.5879e-08 - val_accuracy: 1.0000\n",
            "Epoch 520/1000\n",
            "29/29 [==============================] - 0s 6ms/step - loss: 2.6077e-08 - accuracy: 1.0000 - val_loss: 5.2154e-08 - val_accuracy: 1.0000\n",
            "Epoch 521/1000\n",
            "29/29 [==============================] - 0s 6ms/step - loss: 2.3180e-08 - accuracy: 1.0000 - val_loss: 5.5879e-08 - val_accuracy: 1.0000\n",
            "Epoch 522/1000\n",
            "29/29 [==============================] - 0s 6ms/step - loss: 2.9802e-08 - accuracy: 1.0000 - val_loss: 5.5879e-08 - val_accuracy: 1.0000\n",
            "Epoch 523/1000\n",
            "29/29 [==============================] - 0s 6ms/step - loss: 2.5663e-08 - accuracy: 1.0000 - val_loss: 5.9605e-08 - val_accuracy: 1.0000\n",
            "Epoch 524/1000\n",
            "29/29 [==============================] - 0s 7ms/step - loss: 2.4835e-08 - accuracy: 1.0000 - val_loss: 4.8429e-08 - val_accuracy: 1.0000\n",
            "Epoch 525/1000\n",
            "29/29 [==============================] - 0s 6ms/step - loss: 2.5663e-08 - accuracy: 1.0000 - val_loss: 4.4703e-08 - val_accuracy: 1.0000\n",
            "Epoch 526/1000\n",
            "29/29 [==============================] - 0s 6ms/step - loss: 2.5663e-08 - accuracy: 1.0000 - val_loss: 5.2154e-08 - val_accuracy: 1.0000\n",
            "Epoch 527/1000\n",
            "29/29 [==============================] - 0s 7ms/step - loss: 2.7733e-08 - accuracy: 1.0000 - val_loss: 3.3528e-08 - val_accuracy: 1.0000\n",
            "Epoch 528/1000\n",
            "29/29 [==============================] - 0s 6ms/step - loss: 2.3594e-08 - accuracy: 1.0000 - val_loss: 4.4703e-08 - val_accuracy: 1.0000\n",
            "Epoch 529/1000\n",
            "29/29 [==============================] - 0s 6ms/step - loss: 2.6077e-08 - accuracy: 1.0000 - val_loss: 4.4703e-08 - val_accuracy: 1.0000\n",
            "Epoch 530/1000\n",
            "29/29 [==============================] - 0s 6ms/step - loss: 2.1110e-08 - accuracy: 1.0000 - val_loss: 5.9605e-08 - val_accuracy: 1.0000\n",
            "Epoch 531/1000\n",
            "29/29 [==============================] - 0s 6ms/step - loss: 2.5663e-08 - accuracy: 1.0000 - val_loss: 7.0781e-08 - val_accuracy: 1.0000\n",
            "Epoch 532/1000\n",
            "29/29 [==============================] - 0s 7ms/step - loss: 2.5663e-08 - accuracy: 1.0000 - val_loss: 4.0978e-08 - val_accuracy: 1.0000\n",
            "Epoch 533/1000\n",
            "29/29 [==============================] - 0s 7ms/step - loss: 2.3180e-08 - accuracy: 1.0000 - val_loss: 5.2154e-08 - val_accuracy: 1.0000\n",
            "Epoch 534/1000\n",
            "29/29 [==============================] - 0s 6ms/step - loss: 2.4835e-08 - accuracy: 1.0000 - val_loss: 4.8429e-08 - val_accuracy: 1.0000\n",
            "Epoch 535/1000\n",
            "29/29 [==============================] - 0s 7ms/step - loss: 2.2352e-08 - accuracy: 1.0000 - val_loss: 6.7055e-08 - val_accuracy: 1.0000\n",
            "Epoch 536/1000\n",
            "29/29 [==============================] - 0s 6ms/step - loss: 2.6491e-08 - accuracy: 1.0000 - val_loss: 3.3528e-08 - val_accuracy: 1.0000\n",
            "Epoch 537/1000\n",
            "21/29 [====================>.........] - ETA: 0s - loss: 2.4410e-08 - accuracy: 1.0000Restoring model weights from the end of the best epoch: 527.\n",
            "29/29 [==============================] - 0s 7ms/step - loss: 2.2766e-08 - accuracy: 1.0000 - val_loss: 4.8429e-08 - val_accuracy: 1.0000\n",
            "Epoch 00537: early stopping\n"
          ]
        },
        {
          "output_type": "execute_result",
          "data": {
            "text/plain": [
              "<keras.callbacks.History at 0x7fd414289990>"
            ]
          },
          "metadata": {},
          "execution_count": 218
        }
      ]
    },
    {
      "cell_type": "code",
      "source": [
        "History2 = model_CC2.history"
      ],
      "metadata": {
        "id": "soKYEaXJUvFM"
      },
      "execution_count": 219,
      "outputs": []
    },
    {
      "cell_type": "code",
      "source": [
        "plt.plot(History2.history['accuracy'])\n",
        "plt.title('Accuracy VS Epoch')\n",
        "plt.ylabel('Accuracy')\n",
        "plt.xlabel('Epoch')\n",
        "plt.legend(['Train'], loc='lower right')\n",
        "plt.show()"
      ],
      "metadata": {
        "colab": {
          "base_uri": "https://localhost:8080/",
          "height": 295
        },
        "id": "U5v9jVR-UvDl",
        "outputId": "5b59126d-ed22-417a-8349-da20dbef69ae"
      },
      "execution_count": 220,
      "outputs": [
        {
          "output_type": "display_data",
          "data": {
            "image/png": "[encoded data removed]",
            "text/plain": [
              "<Figure size 432x288 with 1 Axes>"
            ]
          },
          "metadata": {
            "needs_background": "light"
          }
        }
      ]
    },
    {
      "cell_type": "code",
      "source": [
        "plt.plot(History2.history['loss'])\n",
        "plt.title('Loss VS Epoch')\n",
        "plt.ylabel('Loss')\n",
        "plt.xlabel('Epoch')\n",
        "plt.legend(['Train'], loc='lower right')\n",
        "plt.show()"
      ],
      "metadata": {
        "colab": {
          "base_uri": "https://localhost:8080/",
          "height": 295
        },
        "id": "PaEQCM5OUu_q",
        "outputId": "9e0b6fe4-0ecb-4d84-856f-fb60cebeba0a"
      },
      "execution_count": 221,
      "outputs": [
        {
          "output_type": "display_data",
          "data": {
            "image/png": "[encoded data removed]",
            "text/plain": [
              "<Figure size 432x288 with 1 Axes>"
            ]
          },
          "metadata": {
            "needs_background": "light"
          }
        }
      ]
    },
    {
      "cell_type": "code",
      "source": [
        "Loss,Accuracy=model_CC2.evaluate(X_test,Y_test,verbose=1)\n",
        "print('Accuracy: ',Accuracy)\n",
        "print('Loss: ',Loss)"
      ],
      "metadata": {
        "colab": {
          "base_uri": "https://localhost:8080/"
        },
        "id": "SwjcBrKUUu-N",
        "outputId": "247f8e9e-9415-448c-ef4e-afb53941adba"
      },
      "execution_count": 222,
      "outputs": [
        {
          "output_type": "stream",
          "name": "stdout",
          "text": [
            "3/3 [==============================] - 0s 6ms/step - loss: 4.7684e-08 - accuracy: 1.0000\n",
            "Accuracy:  1.0\n",
            "Loss:  4.768370942542788e-08\n"
          ]
        }
      ]
    },
    {
      "cell_type": "code",
      "source": [
        "Categories=[i for i in CHOICES1]\n",
        "Label_Encoding=LabelEncoder().fit_transform(Categories).reshape(-1,1)\n",
        "One_Hot_Encoding=OneHotEncoder().fit_transform(Label_Encoding).toarray()\n",
        "Categories_Dictionary={Categories[i]:One_Hot_Encoding[i] for i in range(len(Categories))}\n",
        "Categories_Dictionary_Reverse={tuple(One_Hot_Encoding[i]):Categories[i] for i in range(len(Categories))}\n",
        "print(Categories_Dictionary)\n",
        "print(Categories_Dictionary_Reverse)"
      ],
      "metadata": {
        "colab": {
          "base_uri": "https://localhost:8080/"
        },
        "id": "-wCJKL8DUu5o",
        "outputId": "9ab2ac0f-7fce-43aa-988d-0cf1bf3748da"
      },
      "execution_count": 223,
      "outputs": [
        {
          "output_type": "stream",
          "name": "stdout",
          "text": [
            "{'A': array([1., 0., 0., 0., 0., 0., 0., 0., 0., 0., 0., 0., 0., 0., 0., 0., 0.,\n",
            "       0., 0., 0., 0., 0., 0., 0., 0., 0.]), 'B': array([0., 1., 0., 0., 0., 0., 0., 0., 0., 0., 0., 0., 0., 0., 0., 0., 0.,\n",
            "       0., 0., 0., 0., 0., 0., 0., 0., 0.]), 'C': array([0., 0., 1., 0., 0., 0., 0., 0., 0., 0., 0., 0., 0., 0., 0., 0., 0.,\n",
            "       0., 0., 0., 0., 0., 0., 0., 0., 0.]), 'D': array([0., 0., 0., 1., 0., 0., 0., 0., 0., 0., 0., 0., 0., 0., 0., 0., 0.,\n",
            "       0., 0., 0., 0., 0., 0., 0., 0., 0.]), 'E': array([0., 0., 0., 0., 1., 0., 0., 0., 0., 0., 0., 0., 0., 0., 0., 0., 0.,\n",
            "       0., 0., 0., 0., 0., 0., 0., 0., 0.]), 'F': array([0., 0., 0., 0., 0., 1., 0., 0., 0., 0., 0., 0., 0., 0., 0., 0., 0.,\n",
            "       0., 0., 0., 0., 0., 0., 0., 0., 0.]), 'G': array([0., 0., 0., 0., 0., 0., 1., 0., 0., 0., 0., 0., 0., 0., 0., 0., 0.,\n",
            "       0., 0., 0., 0., 0., 0., 0., 0., 0.]), 'H': array([0., 0., 0., 0., 0., 0., 0., 1., 0., 0., 0., 0., 0., 0., 0., 0., 0.,\n",
            "       0., 0., 0., 0., 0., 0., 0., 0., 0.]), 'I': array([0., 0., 0., 0., 0., 0., 0., 0., 1., 0., 0., 0., 0., 0., 0., 0., 0.,\n",
            "       0., 0., 0., 0., 0., 0., 0., 0., 0.]), 'J': array([0., 0., 0., 0., 0., 0., 0., 0., 0., 1., 0., 0., 0., 0., 0., 0., 0.,\n",
            "       0., 0., 0., 0., 0., 0., 0., 0., 0.]), 'K': array([0., 0., 0., 0., 0., 0., 0., 0., 0., 0., 1., 0., 0., 0., 0., 0., 0.,\n",
            "       0., 0., 0., 0., 0., 0., 0., 0., 0.]), 'L': array([0., 0., 0., 0., 0., 0., 0., 0., 0., 0., 0., 1., 0., 0., 0., 0., 0.,\n",
            "       0., 0., 0., 0., 0., 0., 0., 0., 0.]), 'M': array([0., 0., 0., 0., 0., 0., 0., 0., 0., 0., 0., 0., 1., 0., 0., 0., 0.,\n",
            "       0., 0., 0., 0., 0., 0., 0., 0., 0.]), 'N': array([0., 0., 0., 0., 0., 0., 0., 0., 0., 0., 0., 0., 0., 1., 0., 0., 0.,\n",
            "       0., 0., 0., 0., 0., 0., 0., 0., 0.]), 'O': array([0., 0., 0., 0., 0., 0., 0., 0., 0., 0., 0., 0., 0., 0., 1., 0., 0.,\n",
            "       0., 0., 0., 0., 0., 0., 0., 0., 0.]), 'P': array([0., 0., 0., 0., 0., 0., 0., 0., 0., 0., 0., 0., 0., 0., 0., 1., 0.,\n",
            "       0., 0., 0., 0., 0., 0., 0., 0., 0.]), 'Q': array([0., 0., 0., 0., 0., 0., 0., 0., 0., 0., 0., 0., 0., 0., 0., 0., 1.,\n",
            "       0., 0., 0., 0., 0., 0., 0., 0., 0.]), 'R': array([0., 0., 0., 0., 0., 0., 0., 0., 0., 0., 0., 0., 0., 0., 0., 0., 0.,\n",
            "       1., 0., 0., 0., 0., 0., 0., 0., 0.]), 'S': array([0., 0., 0., 0., 0., 0., 0., 0., 0., 0., 0., 0., 0., 0., 0., 0., 0.,\n",
            "       0., 1., 0., 0., 0., 0., 0., 0., 0.]), 'T': array([0., 0., 0., 0., 0., 0., 0., 0., 0., 0., 0., 0., 0., 0., 0., 0., 0.,\n",
            "       0., 0., 1., 0., 0., 0., 0., 0., 0.]), 'U': array([0., 0., 0., 0., 0., 0., 0., 0., 0., 0., 0., 0., 0., 0., 0., 0., 0.,\n",
            "       0., 0., 0., 1., 0., 0., 0., 0., 0.]), 'V': array([0., 0., 0., 0., 0., 0., 0., 0., 0., 0., 0., 0., 0., 0., 0., 0., 0.,\n",
            "       0., 0., 0., 0., 1., 0., 0., 0., 0.]), 'W': array([0., 0., 0., 0., 0., 0., 0., 0., 0., 0., 0., 0., 0., 0., 0., 0., 0.,\n",
            "       0., 0., 0., 0., 0., 1., 0., 0., 0.]), 'X': array([0., 0., 0., 0., 0., 0., 0., 0., 0., 0., 0., 0., 0., 0., 0., 0., 0.,\n",
            "       0., 0., 0., 0., 0., 0., 1., 0., 0.]), 'Y': array([0., 0., 0., 0., 0., 0., 0., 0., 0., 0., 0., 0., 0., 0., 0., 0., 0.,\n",
            "       0., 0., 0., 0., 0., 0., 0., 1., 0.]), 'Z': array([0., 0., 0., 0., 0., 0., 0., 0., 0., 0., 0., 0., 0., 0., 0., 0., 0.,\n",
            "       0., 0., 0., 0., 0., 0., 0., 0., 1.])}\n",
            "{(1.0, 0.0, 0.0, 0.0, 0.0, 0.0, 0.0, 0.0, 0.0, 0.0, 0.0, 0.0, 0.0, 0.0, 0.0, 0.0, 0.0, 0.0, 0.0, 0.0, 0.0, 0.0, 0.0, 0.0, 0.0, 0.0): 'A', (0.0, 1.0, 0.0, 0.0, 0.0, 0.0, 0.0, 0.0, 0.0, 0.0, 0.0, 0.0, 0.0, 0.0, 0.0, 0.0, 0.0, 0.0, 0.0, 0.0, 0.0, 0.0, 0.0, 0.0, 0.0, 0.0): 'B', (0.0, 0.0, 1.0, 0.0, 0.0, 0.0, 0.0, 0.0, 0.0, 0.0, 0.0, 0.0, 0.0, 0.0, 0.0, 0.0, 0.0, 0.0, 0.0, 0.0, 0.0, 0.0, 0.0, 0.0, 0.0, 0.0): 'C', (0.0, 0.0, 0.0, 1.0, 0.0, 0.0, 0.0, 0.0, 0.0, 0.0, 0.0, 0.0, 0.0, 0.0, 0.0, 0.0, 0.0, 0.0, 0.0, 0.0, 0.0, 0.0, 0.0, 0.0, 0.0, 0.0): 'D', (0.0, 0.0, 0.0, 0.0, 1.0, 0.0, 0.0, 0.0, 0.0, 0.0, 0.0, 0.0, 0.0, 0.0, 0.0, 0.0, 0.0, 0.0, 0.0, 0.0, 0.0, 0.0, 0.0, 0.0, 0.0, 0.0): 'E', (0.0, 0.0, 0.0, 0.0, 0.0, 1.0, 0.0, 0.0, 0.0, 0.0, 0.0, 0.0, 0.0, 0.0, 0.0, 0.0, 0.0, 0.0, 0.0, 0.0, 0.0, 0.0, 0.0, 0.0, 0.0, 0.0): 'F', (0.0, 0.0, 0.0, 0.0, 0.0, 0.0, 1.0, 0.0, 0.0, 0.0, 0.0, 0.0, 0.0, 0.0, 0.0, 0.0, 0.0, 0.0, 0.0, 0.0, 0.0, 0.0, 0.0, 0.0, 0.0, 0.0): 'G', (0.0, 0.0, 0.0, 0.0, 0.0, 0.0, 0.0, 1.0, 0.0, 0.0, 0.0, 0.0, 0.0, 0.0, 0.0, 0.0, 0.0, 0.0, 0.0, 0.0, 0.0, 0.0, 0.0, 0.0, 0.0, 0.0): 'H', (0.0, 0.0, 0.0, 0.0, 0.0, 0.0, 0.0, 0.0, 1.0, 0.0, 0.0, 0.0, 0.0, 0.0, 0.0, 0.0, 0.0, 0.0, 0.0, 0.0, 0.0, 0.0, 0.0, 0.0, 0.0, 0.0): 'I', (0.0, 0.0, 0.0, 0.0, 0.0, 0.0, 0.0, 0.0, 0.0, 1.0, 0.0, 0.0, 0.0, 0.0, 0.0, 0.0, 0.0, 0.0, 0.0, 0.0, 0.0, 0.0, 0.0, 0.0, 0.0, 0.0): 'J', (0.0, 0.0, 0.0, 0.0, 0.0, 0.0, 0.0, 0.0, 0.0, 0.0, 1.0, 0.0, 0.0, 0.0, 0.0, 0.0, 0.0, 0.0, 0.0, 0.0, 0.0, 0.0, 0.0, 0.0, 0.0, 0.0): 'K', (0.0, 0.0, 0.0, 0.0, 0.0, 0.0, 0.0, 0.0, 0.0, 0.0, 0.0, 1.0, 0.0, 0.0, 0.0, 0.0, 0.0, 0.0, 0.0, 0.0, 0.0, 0.0, 0.0, 0.0, 0.0, 0.0): 'L', (0.0, 0.0, 0.0, 0.0, 0.0, 0.0, 0.0, 0.0, 0.0, 0.0, 0.0, 0.0, 1.0, 0.0, 0.0, 0.0, 0.0, 0.0, 0.0, 0.0, 0.0, 0.0, 0.0, 0.0, 0.0, 0.0): 'M', (0.0, 0.0, 0.0, 0.0, 0.0, 0.0, 0.0, 0.0, 0.0, 0.0, 0.0, 0.0, 0.0, 1.0, 0.0, 0.0, 0.0, 0.0, 0.0, 0.0, 0.0, 0.0, 0.0, 0.0, 0.0, 0.0): 'N', (0.0, 0.0, 0.0, 0.0, 0.0, 0.0, 0.0, 0.0, 0.0, 0.0, 0.0, 0.0, 0.0, 0.0, 1.0, 0.0, 0.0, 0.0, 0.0, 0.0, 0.0, 0.0, 0.0, 0.0, 0.0, 0.0): 'O', (0.0, 0.0, 0.0, 0.0, 0.0, 0.0, 0.0, 0.0, 0.0, 0.0, 0.0, 0.0, 0.0, 0.0, 0.0, 1.0, 0.0, 0.0, 0.0, 0.0, 0.0, 0.0, 0.0, 0.0, 0.0, 0.0): 'P', (0.0, 0.0, 0.0, 0.0, 0.0, 0.0, 0.0, 0.0, 0.0, 0.0, 0.0, 0.0, 0.0, 0.0, 0.0, 0.0, 1.0, 0.0, 0.0, 0.0, 0.0, 0.0, 0.0, 0.0, 0.0, 0.0): 'Q', (0.0, 0.0, 0.0, 0.0, 0.0, 0.0, 0.0, 0.0, 0.0, 0.0, 0.0, 0.0, 0.0, 0.0, 0.0, 0.0, 0.0, 1.0, 0.0, 0.0, 0.0, 0.0, 0.0, 0.0, 0.0, 0.0): 'R', (0.0, 0.0, 0.0, 0.0, 0.0, 0.0, 0.0, 0.0, 0.0, 0.0, 0.0, 0.0, 0.0, 0.0, 0.0, 0.0, 0.0, 0.0, 1.0, 0.0, 0.0, 0.0, 0.0, 0.0, 0.0, 0.0): 'S', (0.0, 0.0, 0.0, 0.0, 0.0, 0.0, 0.0, 0.0, 0.0, 0.0, 0.0, 0.0, 0.0, 0.0, 0.0, 0.0, 0.0, 0.0, 0.0, 1.0, 0.0, 0.0, 0.0, 0.0, 0.0, 0.0): 'T', (0.0, 0.0, 0.0, 0.0, 0.0, 0.0, 0.0, 0.0, 0.0, 0.0, 0.0, 0.0, 0.0, 0.0, 0.0, 0.0, 0.0, 0.0, 0.0, 0.0, 1.0, 0.0, 0.0, 0.0, 0.0, 0.0): 'U', (0.0, 0.0, 0.0, 0.0, 0.0, 0.0, 0.0, 0.0, 0.0, 0.0, 0.0, 0.0, 0.0, 0.0, 0.0, 0.0, 0.0, 0.0, 0.0, 0.0, 0.0, 1.0, 0.0, 0.0, 0.0, 0.0): 'V', (0.0, 0.0, 0.0, 0.0, 0.0, 0.0, 0.0, 0.0, 0.0, 0.0, 0.0, 0.0, 0.0, 0.0, 0.0, 0.0, 0.0, 0.0, 0.0, 0.0, 0.0, 0.0, 1.0, 0.0, 0.0, 0.0): 'W', (0.0, 0.0, 0.0, 0.0, 0.0, 0.0, 0.0, 0.0, 0.0, 0.0, 0.0, 0.0, 0.0, 0.0, 0.0, 0.0, 0.0, 0.0, 0.0, 0.0, 0.0, 0.0, 0.0, 1.0, 0.0, 0.0): 'X', (0.0, 0.0, 0.0, 0.0, 0.0, 0.0, 0.0, 0.0, 0.0, 0.0, 0.0, 0.0, 0.0, 0.0, 0.0, 0.0, 0.0, 0.0, 0.0, 0.0, 0.0, 0.0, 0.0, 0.0, 1.0, 0.0): 'Y', (0.0, 0.0, 0.0, 0.0, 0.0, 0.0, 0.0, 0.0, 0.0, 0.0, 0.0, 0.0, 0.0, 0.0, 0.0, 0.0, 0.0, 0.0, 0.0, 0.0, 0.0, 0.0, 0.0, 0.0, 0.0, 1.0): 'Z'}\n"
          ]
        }
      ]
    },
    {
      "cell_type": "code",
      "source": [
        "def Decode2(character,Categories_Dictionary_Reverse=Categories_Dictionary_Reverse):\n",
        "  #print(np.array(Categories_Dictionary[character]).shape)\n",
        "  prediction=model_CC2.predict(np.array(Categories_Dictionary[character]).reshape(1,26))\n",
        "  prediction=prediction>=prediction.max()\n",
        "  #print(prediction)\n",
        "  temp=[0.0 for i in range(26)]\n",
        "  for i in range(len(prediction[0])):\n",
        "    if prediction[0][i]==True:\n",
        "      temp[i]=1\n",
        "  return Categories_Dictionary_Reverse[tuple(temp)]"
      ],
      "metadata": {
        "id": "0lh703qHUu4Y"
      },
      "execution_count": 224,
      "outputs": []
    },
    {
      "cell_type": "code",
      "source": [
        "MESSAGE=\"PRIYANSHU SHARMA\"\n",
        "MESSAGE=MESSAGE.upper()\n",
        "print(\"\\t\\tOriginal Message:\\t\\t\\t\\t\",MESSAGE)\n",
        "ENCRYPTED_MESSAGE=p_encryption(MESSAGE,KEY,key2)\n",
        "print(\"\\n\\n\\t\\tMessage after Encryption using P Cipher:\\t\",ENCRYPTED_MESSAGE)\n",
        "#print(\"Key used for Encryption: \",KEY)\n",
        "DECRYPTED_MESSAGE=''\n",
        "for i in ENCRYPTED_MESSAGE:\n",
        "  if i==' ':\n",
        "    DECRYPTED_MESSAGE+=i\n",
        "  else:\n",
        "    DECRYPTED_MESSAGE+=Decode2(i)\n",
        "print(\"\\n\\n\\t\\tMessage after AI based Decryption:\\t\\t\",DECRYPTED_MESSAGE)"
      ],
      "metadata": {
        "colab": {
          "base_uri": "https://localhost:8080/"
        },
        "id": "eztb_uezUuvq",
        "outputId": "bbb67bd3-84bc-45df-da67-17e86c9ae4d7"
      },
      "execution_count": 228,
      "outputs": [
        {
          "output_type": "stream",
          "name": "stdout",
          "text": [
            "\t\tOriginal Message:\t\t\t\t PRIYANSHU SHARMA\n",
            "\n",
            "\n",
            "\t\tMessage after Encryption using P Cipher:\t YARHJWBQD BQJAVJ\n",
            "\n",
            "\n",
            "\t\tMessage after AI based Decryption:\t\t PRIYANSHU SHARMA\n"
          ]
        }
      ]
    },
    {
      "cell_type": "markdown",
      "metadata": {
        "id": "CltxYj2MNxsC"
      },
      "source": [
        "# Caesar Cipher (Protected Version)"
      ]
    },
    {
      "cell_type": "markdown",
      "metadata": {
        "id": "NrcSgEUfNxsJ"
      },
      "source": [
        "**Note**: Variable Key is used"
      ]
    },
    {
      "cell_type": "markdown",
      "metadata": {
        "id": "8fSU-FTHNxsH"
      },
      "source": [
        "## Known-Plaintext Attack"
      ]
    },
    {
      "cell_type": "markdown",
      "metadata": {
        "id": "rCBpVzKRNxsV"
      },
      "source": [
        "### Password Size"
      ]
    },
    {
      "cell_type": "code",
      "metadata": {
        "id": "WzlbbHzSNxsW"
      },
      "source": [
        "PASSWORD_SIZE=8"
      ],
      "execution_count": 158,
      "outputs": []
    },
    {
      "cell_type": "markdown",
      "metadata": {
        "id": "M_KE3p8zNxsd"
      },
      "source": [
        "### Dataset Size"
      ]
    },
    {
      "cell_type": "code",
      "metadata": {
        "id": "9d1yklFNNxsf"
      },
      "source": [
        "DATASET_SIZE=50"
      ],
      "execution_count": 159,
      "outputs": []
    },
    {
      "cell_type": "markdown",
      "metadata": {
        "id": "h8VbsGCVNxsm"
      },
      "source": [
        "### Generation of Dataset"
      ]
    },
    {
      "cell_type": "code",
      "metadata": {
        "id": "Hf1jnrPKNxsn",
        "colab": {
          "base_uri": "https://localhost:8080/",
          "height": 35
        },
        "outputId": "7b706d76-2178-41c2-b5ff-141c36ee23f8"
      },
      "source": [
        "CHOICES=CaesarCipher_characterset()\n",
        "CHOICES"
      ],
      "execution_count": 160,
      "outputs": [
        {
          "output_type": "execute_result",
          "data": {
            "application/vnd.google.colaboratory.intrinsic+json": {
              "type": "string"
            },
            "text/plain": [
              "'ABCDEFGHIJKLMNOPQRSTUVWXYZ'"
            ]
          },
          "metadata": {},
          "execution_count": 160
        }
      ]
    },
    {
      "cell_type": "code",
      "metadata": {
        "id": "ThVlQJRDNxsx",
        "colab": {
          "base_uri": "https://localhost:8080/"
        },
        "outputId": "a0b51bac-85be-455c-87ee-6c5df2b141ca"
      },
      "source": [
        "x=[]\n",
        "y=[]\n",
        "for i in range(DATASET_SIZE):\n",
        "  temp=''\n",
        "  for j in range(PASSWORD_SIZE):\n",
        "    temp+=random.choice(CHOICES)\n",
        "  x.append(temp)\n",
        "  age = random.randint(12,120)\n",
        "  KEY = age % 26;\n",
        "  y.append(CaesarCipher_encryption(temp,KEY))\n",
        "print(x)\n",
        "print(y)"
      ],
      "execution_count": 161,
      "outputs": [
        {
          "output_type": "stream",
          "name": "stdout",
          "text": [
            "['GBXUYHTC', 'ZHGZIQBH', 'XMUUNEUR', 'HGKCIISN', 'WKYABKJQ', 'SNCEVFIE', 'BNPUFURA', 'RMVSIRSW', 'PIRXWTQK', 'AHZTJHDN', 'ZLZWAYHS', 'MQWGDXJY', 'PWIGGMFU', 'NZPFWCQK', 'NGPQMDDB', 'ZMNUAUXB', 'ABFVEKAP', 'XURZVJPZ', 'JSMUNQNA', 'CJYWMTCK', 'YXGXDGVB', 'EGHZHWFE', 'UJOAHYUV', 'RRAWGSOO', 'TMPOZNQU', 'BYNFVKIR', 'AHTSFCGT', 'ZEVTMRRU', 'NFFJDHNY', 'RVJMZZLV', 'XHJZEOGW', 'GMVBCMCV', 'FXPQJXLB', 'XJMWJWSM', 'VIZQYGYX', 'JBVIGNSO', 'YRZGEPBV', 'TCUWVWMP', 'LHZXPAMX', 'RNYBBGWL', 'ZULZYIQO', 'YPEFZSZY', 'YEVZIHJL', 'LACOKJVH', 'UGHTVZEK', 'KVGRAOXS', 'ANZVVCSO', 'RVUOJHNM', 'PYWBNHZH', 'OVCAYWUX']\n",
            "['TOKHLUGP', 'KSRKTBMS', 'JYGGZQGD', 'UTXPVVFA', 'PDRTUDCJ', 'OJYARBEA', 'MYAFQFCL', 'VQZWMVWA', 'KDMSROLF', 'NUMGWUQA', 'NZNKOMVG', 'JNTDAUGV', 'JQCAAGZO', 'FRHXOUIC', 'NGPQMDDB', 'HUVCICFJ', 'CDHXGMCR', 'TQNVRFLV', 'LUOWPSPC', 'ZGVTJQZH', 'DCLCILAG', 'ZBCUCRAZ', 'FUZLSJFG', 'GGPLVHDD', 'XQTSDRUY', 'BYNFVKIR', 'ELXWJGKX', 'WBSQJOOR', 'QIIMGKQB', 'FJXANNZJ', 'SCEUZJBR', 'YENTUEUN', 'DVNOHVJZ', 'YKNXKXTN', 'LYPGOWON', 'EWQDBINJ', 'PIQXVGSM', 'WFXZYZPS', 'IEWUMXJU', 'NJUXXCSH', 'IDUIHRZX', 'GXMNHAHG', 'UARVEDFH', 'KZBNJIUG', 'GSTFHLQW', 'YJUFOCLG', 'NAMIIPFB', 'ZDCWRPVU', 'UDBGSMEM', 'QXECAYWZ']\n"
          ]
        }
      ]
    },
    {
      "cell_type": "code",
      "metadata": {
        "id": "Q4ggmXBkNxs7",
        "colab": {
          "base_uri": "https://localhost:8080/",
          "height": 520
        },
        "outputId": "676381fa-5cc8-4b6d-bc0e-5e7672534222"
      },
      "source": [
        "Data=pd.DataFrame({'Plaintext':x,'Ciphertext':y})\n",
        "Data.head(15)"
      ],
      "execution_count": 162,
      "outputs": [
        {
          "output_type": "execute_result",
          "data": {
            "text/html": [
              "<div>\n",
              "<style scoped>\n",
              "    .dataframe tbody tr th:only-of-type {\n",
              "        vertical-align: middle;\n",
              "    }\n",
              "\n",
              "    .dataframe tbody tr th {\n",
              "        vertical-align: top;\n",
              "    }\n",
              "\n",
              "    .dataframe thead th {\n",
              "        text-align: right;\n",
              "    }\n",
              "</style>\n",
              "<table border=\"1\" class=\"dataframe\">\n",
              "  <thead>\n",
              "    <tr style=\"text-align: right;\">\n",
              "      <th></th>\n",
              "      <th>Plaintext</th>\n",
              "      <th>Ciphertext</th>\n",
              "    </tr>\n",
              "  </thead>\n",
              "  <tbody>\n",
              "    <tr>\n",
              "      <th>0</th>\n",
              "      <td>GBXUYHTC</td>\n",
              "      <td>TOKHLUGP</td>\n",
              "    </tr>\n",
              "    <tr>\n",
              "      <th>1</th>\n",
              "      <td>ZHGZIQBH</td>\n",
              "      <td>KSRKTBMS</td>\n",
              "    </tr>\n",
              "    <tr>\n",
              "      <th>2</th>\n",
              "      <td>XMUUNEUR</td>\n",
              "      <td>JYGGZQGD</td>\n",
              "    </tr>\n",
              "    <tr>\n",
              "      <th>3</th>\n",
              "      <td>HGKCIISN</td>\n",
              "      <td>UTXPVVFA</td>\n",
              "    </tr>\n",
              "    <tr>\n",
              "      <th>4</th>\n",
              "      <td>WKYABKJQ</td>\n",
              "      <td>PDRTUDCJ</td>\n",
              "    </tr>\n",
              "    <tr>\n",
              "      <th>5</th>\n",
              "      <td>SNCEVFIE</td>\n",
              "      <td>OJYARBEA</td>\n",
              "    </tr>\n",
              "    <tr>\n",
              "      <th>6</th>\n",
              "      <td>BNPUFURA</td>\n",
              "      <td>MYAFQFCL</td>\n",
              "    </tr>\n",
              "    <tr>\n",
              "      <th>7</th>\n",
              "      <td>RMVSIRSW</td>\n",
              "      <td>VQZWMVWA</td>\n",
              "    </tr>\n",
              "    <tr>\n",
              "      <th>8</th>\n",
              "      <td>PIRXWTQK</td>\n",
              "      <td>KDMSROLF</td>\n",
              "    </tr>\n",
              "    <tr>\n",
              "      <th>9</th>\n",
              "      <td>AHZTJHDN</td>\n",
              "      <td>NUMGWUQA</td>\n",
              "    </tr>\n",
              "    <tr>\n",
              "      <th>10</th>\n",
              "      <td>ZLZWAYHS</td>\n",
              "      <td>NZNKOMVG</td>\n",
              "    </tr>\n",
              "    <tr>\n",
              "      <th>11</th>\n",
              "      <td>MQWGDXJY</td>\n",
              "      <td>JNTDAUGV</td>\n",
              "    </tr>\n",
              "    <tr>\n",
              "      <th>12</th>\n",
              "      <td>PWIGGMFU</td>\n",
              "      <td>JQCAAGZO</td>\n",
              "    </tr>\n",
              "    <tr>\n",
              "      <th>13</th>\n",
              "      <td>NZPFWCQK</td>\n",
              "      <td>FRHXOUIC</td>\n",
              "    </tr>\n",
              "    <tr>\n",
              "      <th>14</th>\n",
              "      <td>NGPQMDDB</td>\n",
              "      <td>NGPQMDDB</td>\n",
              "    </tr>\n",
              "  </tbody>\n",
              "</table>\n",
              "</div>"
            ],
            "text/plain": [
              "   Plaintext Ciphertext\n",
              "0   GBXUYHTC   TOKHLUGP\n",
              "1   ZHGZIQBH   KSRKTBMS\n",
              "2   XMUUNEUR   JYGGZQGD\n",
              "3   HGKCIISN   UTXPVVFA\n",
              "4   WKYABKJQ   PDRTUDCJ\n",
              "5   SNCEVFIE   OJYARBEA\n",
              "6   BNPUFURA   MYAFQFCL\n",
              "7   RMVSIRSW   VQZWMVWA\n",
              "8   PIRXWTQK   KDMSROLF\n",
              "9   AHZTJHDN   NUMGWUQA\n",
              "10  ZLZWAYHS   NZNKOMVG\n",
              "11  MQWGDXJY   JNTDAUGV\n",
              "12  PWIGGMFU   JQCAAGZO\n",
              "13  NZPFWCQK   FRHXOUIC\n",
              "14  NGPQMDDB   NGPQMDDB"
            ]
          },
          "metadata": {},
          "execution_count": 162
        }
      ]
    },
    {
      "cell_type": "markdown",
      "metadata": {
        "id": "WShkUv-wNxtD"
      },
      "source": [
        "### Since Caesar Cipher is a Stream Cipher"
      ]
    },
    {
      "cell_type": "code",
      "metadata": {
        "id": "ZxckUu13NxtE",
        "colab": {
          "base_uri": "https://localhost:8080/",
          "height": 520
        },
        "outputId": "9e87d284-7256-4db3-8e7d-9be9e0b40ad6"
      },
      "source": [
        "plaintext=[]\n",
        "ciphertext=[]\n",
        "for password in x:\n",
        "  for character in password:\n",
        "    plaintext.append(character)\n",
        "for Encrypted_password in y:\n",
        "  for character in Encrypted_password:\n",
        "    ciphertext.append(character)\n",
        "Data=pd.DataFrame({'Plaintext':plaintext,'Ciphertext':ciphertext})\n",
        "Data.head(15)"
      ],
      "execution_count": 163,
      "outputs": [
        {
          "output_type": "execute_result",
          "data": {
            "text/html": [
              "<div>\n",
              "<style scoped>\n",
              "    .dataframe tbody tr th:only-of-type {\n",
              "        vertical-align: middle;\n",
              "    }\n",
              "\n",
              "    .dataframe tbody tr th {\n",
              "        vertical-align: top;\n",
              "    }\n",
              "\n",
              "    .dataframe thead th {\n",
              "        text-align: right;\n",
              "    }\n",
              "</style>\n",
              "<table border=\"1\" class=\"dataframe\">\n",
              "  <thead>\n",
              "    <tr style=\"text-align: right;\">\n",
              "      <th></th>\n",
              "      <th>Plaintext</th>\n",
              "      <th>Ciphertext</th>\n",
              "    </tr>\n",
              "  </thead>\n",
              "  <tbody>\n",
              "    <tr>\n",
              "      <th>0</th>\n",
              "      <td>G</td>\n",
              "      <td>T</td>\n",
              "    </tr>\n",
              "    <tr>\n",
              "      <th>1</th>\n",
              "      <td>B</td>\n",
              "      <td>O</td>\n",
              "    </tr>\n",
              "    <tr>\n",
              "      <th>2</th>\n",
              "      <td>X</td>\n",
              "      <td>K</td>\n",
              "    </tr>\n",
              "    <tr>\n",
              "      <th>3</th>\n",
              "      <td>U</td>\n",
              "      <td>H</td>\n",
              "    </tr>\n",
              "    <tr>\n",
              "      <th>4</th>\n",
              "      <td>Y</td>\n",
              "      <td>L</td>\n",
              "    </tr>\n",
              "    <tr>\n",
              "      <th>5</th>\n",
              "      <td>H</td>\n",
              "      <td>U</td>\n",
              "    </tr>\n",
              "    <tr>\n",
              "      <th>6</th>\n",
              "      <td>T</td>\n",
              "      <td>G</td>\n",
              "    </tr>\n",
              "    <tr>\n",
              "      <th>7</th>\n",
              "      <td>C</td>\n",
              "      <td>P</td>\n",
              "    </tr>\n",
              "    <tr>\n",
              "      <th>8</th>\n",
              "      <td>Z</td>\n",
              "      <td>K</td>\n",
              "    </tr>\n",
              "    <tr>\n",
              "      <th>9</th>\n",
              "      <td>H</td>\n",
              "      <td>S</td>\n",
              "    </tr>\n",
              "    <tr>\n",
              "      <th>10</th>\n",
              "      <td>G</td>\n",
              "      <td>R</td>\n",
              "    </tr>\n",
              "    <tr>\n",
              "      <th>11</th>\n",
              "      <td>Z</td>\n",
              "      <td>K</td>\n",
              "    </tr>\n",
              "    <tr>\n",
              "      <th>12</th>\n",
              "      <td>I</td>\n",
              "      <td>T</td>\n",
              "    </tr>\n",
              "    <tr>\n",
              "      <th>13</th>\n",
              "      <td>Q</td>\n",
              "      <td>B</td>\n",
              "    </tr>\n",
              "    <tr>\n",
              "      <th>14</th>\n",
              "      <td>B</td>\n",
              "      <td>M</td>\n",
              "    </tr>\n",
              "  </tbody>\n",
              "</table>\n",
              "</div>"
            ],
            "text/plain": [
              "   Plaintext Ciphertext\n",
              "0          G          T\n",
              "1          B          O\n",
              "2          X          K\n",
              "3          U          H\n",
              "4          Y          L\n",
              "5          H          U\n",
              "6          T          G\n",
              "7          C          P\n",
              "8          Z          K\n",
              "9          H          S\n",
              "10         G          R\n",
              "11         Z          K\n",
              "12         I          T\n",
              "13         Q          B\n",
              "14         B          M"
            ]
          },
          "metadata": {},
          "execution_count": 163
        }
      ]
    },
    {
      "cell_type": "markdown",
      "metadata": {
        "id": "vvXVWN1ZNxtL"
      },
      "source": [
        "## Data Preprocessing"
      ]
    },
    {
      "cell_type": "markdown",
      "metadata": {
        "id": "WalLImZXNxtN"
      },
      "source": [
        "### Encoding"
      ]
    },
    {
      "cell_type": "code",
      "metadata": {
        "id": "zSKr6pQjNxtO",
        "colab": {
          "base_uri": "https://localhost:8080/"
        },
        "outputId": "2a416092-4d3e-4a60-d6a8-2bafbc5acb8b"
      },
      "source": [
        "plaintext=LabelEncoder().fit_transform(plaintext).reshape(-1, 1)\n",
        "ciphertext=LabelEncoder().fit_transform(ciphertext).reshape(-1, 1)\n",
        "X=OneHotEncoder().fit_transform(plaintext).toarray()\n",
        "Y=OneHotEncoder().fit_transform(ciphertext).toarray()\n",
        "print(X)\n",
        "print(Y)"
      ],
      "execution_count": 164,
      "outputs": [
        {
          "output_type": "stream",
          "name": "stdout",
          "text": [
            "[[0. 0. 0. ... 0. 0. 0.]\n",
            " [0. 1. 0. ... 0. 0. 0.]\n",
            " [0. 0. 0. ... 1. 0. 0.]\n",
            " ...\n",
            " [0. 0. 0. ... 0. 0. 0.]\n",
            " [0. 0. 0. ... 0. 0. 0.]\n",
            " [0. 0. 0. ... 1. 0. 0.]]\n",
            "[[0. 0. 0. ... 0. 0. 0.]\n",
            " [0. 0. 0. ... 0. 0. 0.]\n",
            " [0. 0. 0. ... 0. 0. 0.]\n",
            " ...\n",
            " [0. 0. 0. ... 0. 1. 0.]\n",
            " [0. 0. 0. ... 0. 0. 0.]\n",
            " [0. 0. 0. ... 0. 0. 1.]]\n"
          ]
        }
      ]
    },
    {
      "cell_type": "markdown",
      "metadata": {
        "id": "A4tXClb0NxtV"
      },
      "source": [
        "### Splitting the Dataset - Decryption"
      ]
    },
    {
      "cell_type": "code",
      "metadata": {
        "id": "gRvFFiAoNxtX",
        "colab": {
          "base_uri": "https://localhost:8080/"
        },
        "outputId": "cddb4d5e-f977-49b1-e592-fff162b224c3"
      },
      "source": [
        "from sklearn.model_selection import train_test_split\n",
        "X_train,X_test,Y_train,Y_test=train_test_split(Y,X,test_size=0.2,random_state=0)\n",
        "print(X_train.shape)"
      ],
      "execution_count": 165,
      "outputs": [
        {
          "output_type": "stream",
          "name": "stdout",
          "text": [
            "(320, 26)\n"
          ]
        }
      ]
    },
    {
      "cell_type": "markdown",
      "metadata": {
        "id": "3gZG99DQNxth"
      },
      "source": [
        "## Training the Shallow Neural Network"
      ]
    },
    {
      "cell_type": "code",
      "metadata": {
        "id": "oPhmyWHANxtj",
        "colab": {
          "base_uri": "https://localhost:8080/"
        },
        "outputId": "7ee15301-e88e-4736-ac13-9bfb71f68a09"
      },
      "source": [
        "model_CC_P= models.Sequential()\n",
        "model_CC_P.add(layers.Dense(26, activation='relu',input_shape=(26,)))\n",
        "model_CC_P.add(layers.Dense(39, activation='relu'))\n",
        "model_CC_P.add(layers.Dense(26, activation='softmax'))\n",
        "model_CC_P.summary()"
      ],
      "execution_count": 166,
      "outputs": [
        {
          "output_type": "stream",
          "name": "stdout",
          "text": [
            "Model: \"sequential_7\"\n",
            "_________________________________________________________________\n",
            " Layer (type)                Output Shape              Param #   \n",
            "=================================================================\n",
            " dense_21 (Dense)            (None, 26)                702       \n",
            "                                                                 \n",
            " dense_22 (Dense)            (None, 39)                1053      \n",
            "                                                                 \n",
            " dense_23 (Dense)            (None, 26)                1040      \n",
            "                                                                 \n",
            "=================================================================\n",
            "Total params: 2,795\n",
            "Trainable params: 2,795\n",
            "Non-trainable params: 0\n",
            "_________________________________________________________________\n"
          ]
        }
      ]
    },
    {
      "cell_type": "code",
      "metadata": {
        "id": "ZUFrUuLDNxtq"
      },
      "source": [
        "EarlyStopping=tf.keras.callbacks.EarlyStopping(monitor='val_loss', patience=10, verbose=1, mode='min',restore_best_weights=True)"
      ],
      "execution_count": 167,
      "outputs": []
    },
    {
      "cell_type": "code",
      "metadata": {
        "id": "kQUeq_A7Nxtx"
      },
      "source": [
        "model_CC_P.compile(loss='categorical_crossentropy',\n",
        "              optimizer=tf.keras.optimizers.RMSprop(learning_rate=0.0001, decay=1e-6),\n",
        "              metrics=['accuracy'])"
      ],
      "execution_count": 168,
      "outputs": []
    },
    {
      "cell_type": "code",
      "metadata": {
        "id": "FzBaxcWXNxt3",
        "colab": {
          "base_uri": "https://localhost:8080/"
        },
        "outputId": "766bd4c8-247d-4ed1-dbd1-4798ddbb050c"
      },
      "source": [
        "model_CC_P.fit(x=X_train,y=Y_train,epochs=1000,batch_size=10,validation_split=0.1,callbacks=EarlyStopping)"
      ],
      "execution_count": 169,
      "outputs": [
        {
          "output_type": "stream",
          "name": "stdout",
          "text": [
            "Epoch 1/1000\n",
            "29/29 [==============================] - 1s 19ms/step - loss: 3.2683 - accuracy: 0.0174 - val_loss: 3.2725 - val_accuracy: 0.0625\n",
            "Epoch 2/1000\n",
            "29/29 [==============================] - 0s 5ms/step - loss: 3.2661 - accuracy: 0.0174 - val_loss: 3.2725 - val_accuracy: 0.0625\n",
            "Epoch 3/1000\n",
            "29/29 [==============================] - 0s 6ms/step - loss: 3.2642 - accuracy: 0.0278 - val_loss: 3.2725 - val_accuracy: 0.0625\n",
            "Epoch 4/1000\n",
            "29/29 [==============================] - 0s 7ms/step - loss: 3.2625 - accuracy: 0.0278 - val_loss: 3.2725 - val_accuracy: 0.0625\n",
            "Epoch 5/1000\n",
            "29/29 [==============================] - 0s 6ms/step - loss: 3.2608 - accuracy: 0.0243 - val_loss: 3.2725 - val_accuracy: 0.0938\n",
            "Epoch 6/1000\n",
            "29/29 [==============================] - 0s 5ms/step - loss: 3.2591 - accuracy: 0.0278 - val_loss: 3.2726 - val_accuracy: 0.0938\n",
            "Epoch 7/1000\n",
            "29/29 [==============================] - 0s 5ms/step - loss: 3.2575 - accuracy: 0.0208 - val_loss: 3.2727 - val_accuracy: 0.0938\n",
            "Epoch 8/1000\n",
            "29/29 [==============================] - 0s 5ms/step - loss: 3.2559 - accuracy: 0.0243 - val_loss: 3.2729 - val_accuracy: 0.0938\n",
            "Epoch 9/1000\n",
            "29/29 [==============================] - 0s 6ms/step - loss: 3.2542 - accuracy: 0.0278 - val_loss: 3.2731 - val_accuracy: 0.0938\n",
            "Epoch 10/1000\n",
            "29/29 [==============================] - 0s 5ms/step - loss: 3.2526 - accuracy: 0.0382 - val_loss: 3.2731 - val_accuracy: 0.0625\n",
            "Epoch 11/1000\n",
            "29/29 [==============================] - 0s 5ms/step - loss: 3.2510 - accuracy: 0.0312 - val_loss: 3.2732 - val_accuracy: 0.0625\n",
            "Epoch 12/1000\n",
            "29/29 [==============================] - 0s 6ms/step - loss: 3.2495 - accuracy: 0.0451 - val_loss: 3.2733 - val_accuracy: 0.0312\n",
            "Epoch 13/1000\n",
            "26/29 [=========================>....] - ETA: 0s - loss: 3.2492 - accuracy: 0.0423Restoring model weights from the end of the best epoch: 3.\n",
            "29/29 [==============================] - 0s 6ms/step - loss: 3.2480 - accuracy: 0.0451 - val_loss: 3.2734 - val_accuracy: 0.0312\n",
            "Epoch 00013: early stopping\n"
          ]
        },
        {
          "output_type": "execute_result",
          "data": {
            "text/plain": [
              "<keras.callbacks.History at 0x7fd4141a4e10>"
            ]
          },
          "metadata": {},
          "execution_count": 169
        }
      ]
    },
    {
      "cell_type": "code",
      "metadata": {
        "id": "SaxN62W7Nxt_"
      },
      "source": [
        "History = model_CC_P.history"
      ],
      "execution_count": 170,
      "outputs": []
    },
    {
      "cell_type": "code",
      "metadata": {
        "id": "SRJBcGTQNxuM",
        "colab": {
          "base_uri": "https://localhost:8080/",
          "height": 295
        },
        "outputId": "a37b6c56-b647-4372-a7a4-c9ef0f06479f"
      },
      "source": [
        "plt.plot(History.history['accuracy'])\n",
        "plt.title('Accuracy VS Epoch')\n",
        "plt.ylabel('Accuracy')\n",
        "plt.xlabel('Epoch')\n",
        "plt.legend(['Train'], loc='lower right')\n",
        "plt.show()"
      ],
      "execution_count": 171,
      "outputs": [
        {
          "output_type": "display_data",
          "data": {
            "image/png": "[encoded data removed]",
            "text/plain": [
              "<Figure size 432x288 with 1 Axes>"
            ]
          },
          "metadata": {
            "needs_background": "light"
          }
        }
      ]
    },
    {
      "cell_type": "code",
      "metadata": {
        "id": "WFxtW0PENxuV",
        "colab": {
          "base_uri": "https://localhost:8080/",
          "height": 295
        },
        "outputId": "6286e034-62a2-4028-eef7-d6b0cd96e0e0"
      },
      "source": [
        "plt.plot(History.history['loss'])\n",
        "plt.title('Loss VS Epoch')\n",
        "plt.ylabel('Loss')\n",
        "plt.xlabel('Epoch')\n",
        "plt.legend(['Train'], loc='lower right')\n",
        "plt.show()"
      ],
      "execution_count": 172,
      "outputs": [
        {
          "output_type": "display_data",
          "data": {
            "image/png": "[encoded data removed]",
            "text/plain": [
              "<Figure size 432x288 with 1 Axes>"
            ]
          },
          "metadata": {
            "needs_background": "light"
          }
        }
      ]
    },
    {
      "cell_type": "markdown",
      "metadata": {
        "id": "azj1CeLHNxuc"
      },
      "source": [
        "## Testing the Shallow Neural Network"
      ]
    },
    {
      "cell_type": "code",
      "metadata": {
        "id": "hsnZCtuRNxue",
        "colab": {
          "base_uri": "https://localhost:8080/"
        },
        "outputId": "8c993918-56c1-4ad1-cda0-7fc41209950d"
      },
      "source": [
        "Loss,Accuracy=model_CC_P.evaluate(X_test,Y_test,verbose=1)\n",
        "print('Accuracy: ',Accuracy)\n",
        "print('Loss: ',Loss)"
      ],
      "execution_count": 173,
      "outputs": [
        {
          "output_type": "stream",
          "name": "stdout",
          "text": [
            "3/3 [==============================] - 0s 5ms/step - loss: 3.2583 - accuracy: 0.0125\n",
            "Accuracy:  0.012500000186264515\n",
            "Loss:  3.258267879486084\n"
          ]
        }
      ]
    },
    {
      "cell_type": "markdown",
      "metadata": {
        "id": "GTuei6saNxur"
      },
      "source": [
        "## Decoding function"
      ]
    },
    {
      "cell_type": "code",
      "metadata": {
        "id": "QhOxwvm8Nxus",
        "colab": {
          "base_uri": "https://localhost:8080/"
        },
        "outputId": "b5e69092-9227-461f-a0fd-706ca6fe3299"
      },
      "source": [
        "Categories=[i for i in CHOICES]\n",
        "Label_Encoding=LabelEncoder().fit_transform(Categories).reshape(-1,1)\n",
        "One_Hot_Encoding=OneHotEncoder().fit_transform(Label_Encoding).toarray()\n",
        "Categories_Dictionary={Categories[i]:One_Hot_Encoding[i] for i in range(len(Categories))}\n",
        "Categories_Dictionary_Reverse={tuple(One_Hot_Encoding[i]):Categories[i] for i in range(len(Categories))}\n",
        "print(Categories_Dictionary)\n",
        "print(Categories_Dictionary_Reverse)"
      ],
      "execution_count": 174,
      "outputs": [
        {
          "output_type": "stream",
          "name": "stdout",
          "text": [
            "{'A': array([1., 0., 0., 0., 0., 0., 0., 0., 0., 0., 0., 0., 0., 0., 0., 0., 0.,\n",
            "       0., 0., 0., 0., 0., 0., 0., 0., 0.]), 'B': array([0., 1., 0., 0., 0., 0., 0., 0., 0., 0., 0., 0., 0., 0., 0., 0., 0.,\n",
            "       0., 0., 0., 0., 0., 0., 0., 0., 0.]), 'C': array([0., 0., 1., 0., 0., 0., 0., 0., 0., 0., 0., 0., 0., 0., 0., 0., 0.,\n",
            "       0., 0., 0., 0., 0., 0., 0., 0., 0.]), 'D': array([0., 0., 0., 1., 0., 0., 0., 0., 0., 0., 0., 0., 0., 0., 0., 0., 0.,\n",
            "       0., 0., 0., 0., 0., 0., 0., 0., 0.]), 'E': array([0., 0., 0., 0., 1., 0., 0., 0., 0., 0., 0., 0., 0., 0., 0., 0., 0.,\n",
            "       0., 0., 0., 0., 0., 0., 0., 0., 0.]), 'F': array([0., 0., 0., 0., 0., 1., 0., 0., 0., 0., 0., 0., 0., 0., 0., 0., 0.,\n",
            "       0., 0., 0., 0., 0., 0., 0., 0., 0.]), 'G': array([0., 0., 0., 0., 0., 0., 1., 0., 0., 0., 0., 0., 0., 0., 0., 0., 0.,\n",
            "       0., 0., 0., 0., 0., 0., 0., 0., 0.]), 'H': array([0., 0., 0., 0., 0., 0., 0., 1., 0., 0., 0., 0., 0., 0., 0., 0., 0.,\n",
            "       0., 0., 0., 0., 0., 0., 0., 0., 0.]), 'I': array([0., 0., 0., 0., 0., 0., 0., 0., 1., 0., 0., 0., 0., 0., 0., 0., 0.,\n",
            "       0., 0., 0., 0., 0., 0., 0., 0., 0.]), 'J': array([0., 0., 0., 0., 0., 0., 0., 0., 0., 1., 0., 0., 0., 0., 0., 0., 0.,\n",
            "       0., 0., 0., 0., 0., 0., 0., 0., 0.]), 'K': array([0., 0., 0., 0., 0., 0., 0., 0., 0., 0., 1., 0., 0., 0., 0., 0., 0.,\n",
            "       0., 0., 0., 0., 0., 0., 0., 0., 0.]), 'L': array([0., 0., 0., 0., 0., 0., 0., 0., 0., 0., 0., 1., 0., 0., 0., 0., 0.,\n",
            "       0., 0., 0., 0., 0., 0., 0., 0., 0.]), 'M': array([0., 0., 0., 0., 0., 0., 0., 0., 0., 0., 0., 0., 1., 0., 0., 0., 0.,\n",
            "       0., 0., 0., 0., 0., 0., 0., 0., 0.]), 'N': array([0., 0., 0., 0., 0., 0., 0., 0., 0., 0., 0., 0., 0., 1., 0., 0., 0.,\n",
            "       0., 0., 0., 0., 0., 0., 0., 0., 0.]), 'O': array([0., 0., 0., 0., 0., 0., 0., 0., 0., 0., 0., 0., 0., 0., 1., 0., 0.,\n",
            "       0., 0., 0., 0., 0., 0., 0., 0., 0.]), 'P': array([0., 0., 0., 0., 0., 0., 0., 0., 0., 0., 0., 0., 0., 0., 0., 1., 0.,\n",
            "       0., 0., 0., 0., 0., 0., 0., 0., 0.]), 'Q': array([0., 0., 0., 0., 0., 0., 0., 0., 0., 0., 0., 0., 0., 0., 0., 0., 1.,\n",
            "       0., 0., 0., 0., 0., 0., 0., 0., 0.]), 'R': array([0., 0., 0., 0., 0., 0., 0., 0., 0., 0., 0., 0., 0., 0., 0., 0., 0.,\n",
            "       1., 0., 0., 0., 0., 0., 0., 0., 0.]), 'S': array([0., 0., 0., 0., 0., 0., 0., 0., 0., 0., 0., 0., 0., 0., 0., 0., 0.,\n",
            "       0., 1., 0., 0., 0., 0., 0., 0., 0.]), 'T': array([0., 0., 0., 0., 0., 0., 0., 0., 0., 0., 0., 0., 0., 0., 0., 0., 0.,\n",
            "       0., 0., 1., 0., 0., 0., 0., 0., 0.]), 'U': array([0., 0., 0., 0., 0., 0., 0., 0., 0., 0., 0., 0., 0., 0., 0., 0., 0.,\n",
            "       0., 0., 0., 1., 0., 0., 0., 0., 0.]), 'V': array([0., 0., 0., 0., 0., 0., 0., 0., 0., 0., 0., 0., 0., 0., 0., 0., 0.,\n",
            "       0., 0., 0., 0., 1., 0., 0., 0., 0.]), 'W': array([0., 0., 0., 0., 0., 0., 0., 0., 0., 0., 0., 0., 0., 0., 0., 0., 0.,\n",
            "       0., 0., 0., 0., 0., 1., 0., 0., 0.]), 'X': array([0., 0., 0., 0., 0., 0., 0., 0., 0., 0., 0., 0., 0., 0., 0., 0., 0.,\n",
            "       0., 0., 0., 0., 0., 0., 1., 0., 0.]), 'Y': array([0., 0., 0., 0., 0., 0., 0., 0., 0., 0., 0., 0., 0., 0., 0., 0., 0.,\n",
            "       0., 0., 0., 0., 0., 0., 0., 1., 0.]), 'Z': array([0., 0., 0., 0., 0., 0., 0., 0., 0., 0., 0., 0., 0., 0., 0., 0., 0.,\n",
            "       0., 0., 0., 0., 0., 0., 0., 0., 1.])}\n",
            "{(1.0, 0.0, 0.0, 0.0, 0.0, 0.0, 0.0, 0.0, 0.0, 0.0, 0.0, 0.0, 0.0, 0.0, 0.0, 0.0, 0.0, 0.0, 0.0, 0.0, 0.0, 0.0, 0.0, 0.0, 0.0, 0.0): 'A', (0.0, 1.0, 0.0, 0.0, 0.0, 0.0, 0.0, 0.0, 0.0, 0.0, 0.0, 0.0, 0.0, 0.0, 0.0, 0.0, 0.0, 0.0, 0.0, 0.0, 0.0, 0.0, 0.0, 0.0, 0.0, 0.0): 'B', (0.0, 0.0, 1.0, 0.0, 0.0, 0.0, 0.0, 0.0, 0.0, 0.0, 0.0, 0.0, 0.0, 0.0, 0.0, 0.0, 0.0, 0.0, 0.0, 0.0, 0.0, 0.0, 0.0, 0.0, 0.0, 0.0): 'C', (0.0, 0.0, 0.0, 1.0, 0.0, 0.0, 0.0, 0.0, 0.0, 0.0, 0.0, 0.0, 0.0, 0.0, 0.0, 0.0, 0.0, 0.0, 0.0, 0.0, 0.0, 0.0, 0.0, 0.0, 0.0, 0.0): 'D', (0.0, 0.0, 0.0, 0.0, 1.0, 0.0, 0.0, 0.0, 0.0, 0.0, 0.0, 0.0, 0.0, 0.0, 0.0, 0.0, 0.0, 0.0, 0.0, 0.0, 0.0, 0.0, 0.0, 0.0, 0.0, 0.0): 'E', (0.0, 0.0, 0.0, 0.0, 0.0, 1.0, 0.0, 0.0, 0.0, 0.0, 0.0, 0.0, 0.0, 0.0, 0.0, 0.0, 0.0, 0.0, 0.0, 0.0, 0.0, 0.0, 0.0, 0.0, 0.0, 0.0): 'F', (0.0, 0.0, 0.0, 0.0, 0.0, 0.0, 1.0, 0.0, 0.0, 0.0, 0.0, 0.0, 0.0, 0.0, 0.0, 0.0, 0.0, 0.0, 0.0, 0.0, 0.0, 0.0, 0.0, 0.0, 0.0, 0.0): 'G', (0.0, 0.0, 0.0, 0.0, 0.0, 0.0, 0.0, 1.0, 0.0, 0.0, 0.0, 0.0, 0.0, 0.0, 0.0, 0.0, 0.0, 0.0, 0.0, 0.0, 0.0, 0.0, 0.0, 0.0, 0.0, 0.0): 'H', (0.0, 0.0, 0.0, 0.0, 0.0, 0.0, 0.0, 0.0, 1.0, 0.0, 0.0, 0.0, 0.0, 0.0, 0.0, 0.0, 0.0, 0.0, 0.0, 0.0, 0.0, 0.0, 0.0, 0.0, 0.0, 0.0): 'I', (0.0, 0.0, 0.0, 0.0, 0.0, 0.0, 0.0, 0.0, 0.0, 1.0, 0.0, 0.0, 0.0, 0.0, 0.0, 0.0, 0.0, 0.0, 0.0, 0.0, 0.0, 0.0, 0.0, 0.0, 0.0, 0.0): 'J', (0.0, 0.0, 0.0, 0.0, 0.0, 0.0, 0.0, 0.0, 0.0, 0.0, 1.0, 0.0, 0.0, 0.0, 0.0, 0.0, 0.0, 0.0, 0.0, 0.0, 0.0, 0.0, 0.0, 0.0, 0.0, 0.0): 'K', (0.0, 0.0, 0.0, 0.0, 0.0, 0.0, 0.0, 0.0, 0.0, 0.0, 0.0, 1.0, 0.0, 0.0, 0.0, 0.0, 0.0, 0.0, 0.0, 0.0, 0.0, 0.0, 0.0, 0.0, 0.0, 0.0): 'L', (0.0, 0.0, 0.0, 0.0, 0.0, 0.0, 0.0, 0.0, 0.0, 0.0, 0.0, 0.0, 1.0, 0.0, 0.0, 0.0, 0.0, 0.0, 0.0, 0.0, 0.0, 0.0, 0.0, 0.0, 0.0, 0.0): 'M', (0.0, 0.0, 0.0, 0.0, 0.0, 0.0, 0.0, 0.0, 0.0, 0.0, 0.0, 0.0, 0.0, 1.0, 0.0, 0.0, 0.0, 0.0, 0.0, 0.0, 0.0, 0.0, 0.0, 0.0, 0.0, 0.0): 'N', (0.0, 0.0, 0.0, 0.0, 0.0, 0.0, 0.0, 0.0, 0.0, 0.0, 0.0, 0.0, 0.0, 0.0, 1.0, 0.0, 0.0, 0.0, 0.0, 0.0, 0.0, 0.0, 0.0, 0.0, 0.0, 0.0): 'O', (0.0, 0.0, 0.0, 0.0, 0.0, 0.0, 0.0, 0.0, 0.0, 0.0, 0.0, 0.0, 0.0, 0.0, 0.0, 1.0, 0.0, 0.0, 0.0, 0.0, 0.0, 0.0, 0.0, 0.0, 0.0, 0.0): 'P', (0.0, 0.0, 0.0, 0.0, 0.0, 0.0, 0.0, 0.0, 0.0, 0.0, 0.0, 0.0, 0.0, 0.0, 0.0, 0.0, 1.0, 0.0, 0.0, 0.0, 0.0, 0.0, 0.0, 0.0, 0.0, 0.0): 'Q', (0.0, 0.0, 0.0, 0.0, 0.0, 0.0, 0.0, 0.0, 0.0, 0.0, 0.0, 0.0, 0.0, 0.0, 0.0, 0.0, 0.0, 1.0, 0.0, 0.0, 0.0, 0.0, 0.0, 0.0, 0.0, 0.0): 'R', (0.0, 0.0, 0.0, 0.0, 0.0, 0.0, 0.0, 0.0, 0.0, 0.0, 0.0, 0.0, 0.0, 0.0, 0.0, 0.0, 0.0, 0.0, 1.0, 0.0, 0.0, 0.0, 0.0, 0.0, 0.0, 0.0): 'S', (0.0, 0.0, 0.0, 0.0, 0.0, 0.0, 0.0, 0.0, 0.0, 0.0, 0.0, 0.0, 0.0, 0.0, 0.0, 0.0, 0.0, 0.0, 0.0, 1.0, 0.0, 0.0, 0.0, 0.0, 0.0, 0.0): 'T', (0.0, 0.0, 0.0, 0.0, 0.0, 0.0, 0.0, 0.0, 0.0, 0.0, 0.0, 0.0, 0.0, 0.0, 0.0, 0.0, 0.0, 0.0, 0.0, 0.0, 1.0, 0.0, 0.0, 0.0, 0.0, 0.0): 'U', (0.0, 0.0, 0.0, 0.0, 0.0, 0.0, 0.0, 0.0, 0.0, 0.0, 0.0, 0.0, 0.0, 0.0, 0.0, 0.0, 0.0, 0.0, 0.0, 0.0, 0.0, 1.0, 0.0, 0.0, 0.0, 0.0): 'V', (0.0, 0.0, 0.0, 0.0, 0.0, 0.0, 0.0, 0.0, 0.0, 0.0, 0.0, 0.0, 0.0, 0.0, 0.0, 0.0, 0.0, 0.0, 0.0, 0.0, 0.0, 0.0, 1.0, 0.0, 0.0, 0.0): 'W', (0.0, 0.0, 0.0, 0.0, 0.0, 0.0, 0.0, 0.0, 0.0, 0.0, 0.0, 0.0, 0.0, 0.0, 0.0, 0.0, 0.0, 0.0, 0.0, 0.0, 0.0, 0.0, 0.0, 1.0, 0.0, 0.0): 'X', (0.0, 0.0, 0.0, 0.0, 0.0, 0.0, 0.0, 0.0, 0.0, 0.0, 0.0, 0.0, 0.0, 0.0, 0.0, 0.0, 0.0, 0.0, 0.0, 0.0, 0.0, 0.0, 0.0, 0.0, 1.0, 0.0): 'Y', (0.0, 0.0, 0.0, 0.0, 0.0, 0.0, 0.0, 0.0, 0.0, 0.0, 0.0, 0.0, 0.0, 0.0, 0.0, 0.0, 0.0, 0.0, 0.0, 0.0, 0.0, 0.0, 0.0, 0.0, 0.0, 1.0): 'Z'}\n"
          ]
        }
      ]
    },
    {
      "cell_type": "code",
      "metadata": {
        "id": "w6rOYBNANxuv"
      },
      "source": [
        "def Decode(character,Categories_Dictionary_Reverse=Categories_Dictionary_Reverse):\n",
        "  #print(np.array(Categories_Dictionary[character]).shape)\n",
        "  prediction=model_CC_P.predict(np.array(Categories_Dictionary[character]).reshape(1,26))\n",
        "  prediction=prediction>=prediction.max()\n",
        "  #print(prediction)\n",
        "  temp=[0.0 for i in range(26)]\n",
        "  for i in range(len(prediction[0])):\n",
        "    if prediction[0][i]==True:\n",
        "      temp[i]=1\n",
        "  return Categories_Dictionary_Reverse[tuple(temp)]"
      ],
      "execution_count": 175,
      "outputs": []
    },
    {
      "cell_type": "code",
      "metadata": {
        "id": "NHWSIbmgNxuz",
        "colab": {
          "base_uri": "https://localhost:8080/"
        },
        "outputId": "bdc28903-889f-4da2-ac3d-6fc6ad15fe95"
      },
      "source": [
        "character='G'\n",
        "print(character)\n",
        "print(Decode(character))"
      ],
      "execution_count": 176,
      "outputs": [
        {
          "output_type": "stream",
          "name": "stdout",
          "text": [
            "G\n",
            "A\n"
          ]
        }
      ]
    },
    {
      "cell_type": "markdown",
      "metadata": {
        "id": "7KyEsKwnNxu2"
      },
      "source": [
        "## AI Attempting to Decrypt Variable Key Implementation of Caesar Cipher"
      ]
    },
    {
      "cell_type": "code",
      "metadata": {
        "id": "sTRLDiDONxu2",
        "colab": {
          "base_uri": "https://localhost:8080/"
        },
        "outputId": "5078e620-9c8f-45b3-94b1-6a9433fb2626"
      },
      "source": [
        "MESSAGE=\"ISA REVIEW THREE\"\n",
        "MESSAGE=MESSAGE.upper()\n",
        "print(\"\\t\\tOriginal Message:\\t\\t\\t\\t\",MESSAGE)\n",
        "ENCRYPTED_MESSAGE=CaesarCipher_encryption(MESSAGE,KEY)\n",
        "print(\"\\n\\n\\t\\tMessage after Encryption using Caesar Cipher:\\t\",ENCRYPTED_MESSAGE)\n",
        "#print(\"Key used for Encryption: \",KEY)\n",
        "DECRYPTED_MESSAGE=''\n",
        "for i in ENCRYPTED_MESSAGE:\n",
        "  if i==' ':\n",
        "    DECRYPTED_MESSAGE+=i\n",
        "  else:\n",
        "    DECRYPTED_MESSAGE+=Decode(i)\n",
        "print(\"\\n\\n\\t\\tMessage after AI based Decryption:\\t\\t\",DECRYPTED_MESSAGE)"
      ],
      "execution_count": 179,
      "outputs": [
        {
          "output_type": "stream",
          "name": "stdout",
          "text": [
            "\t\tOriginal Message:\t\t\t\t ISA REVIEW THREE\n",
            "\n",
            "\n",
            "\t\tMessage after Encryption using Caesar Cipher:\t KUC TGXKGY VJTGG\n",
            "\n",
            "\n",
            "\t\tMessage after AI based Decryption:\t\t RNB BASRAS BLBAA\n"
          ]
        }
      ]
    },
    {
      "cell_type": "markdown",
      "metadata": {
        "id": "K7zk6xWCSJxW"
      },
      "source": [
        "# Observation: The accuracy of the AI model has been brought down to 3 - 6%"
      ]
    }
  ]
}